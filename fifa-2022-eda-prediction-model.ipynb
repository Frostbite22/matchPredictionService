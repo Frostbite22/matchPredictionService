{
 "cells": [
  {
   "cell_type": "markdown",
   "metadata": {},
   "source": [
    "# FIFA 2022\n",
    "   Project by : P M Ranasinghe"
   ]
  },
  {
   "cell_type": "markdown",
   "metadata": {},
   "source": [
    "### Analyzing the Available Data"
   ]
  },
  {
   "cell_type": "code",
   "execution_count": 2,
   "metadata": {
    "execution": {
     "iopub.execute_input": "2021-08-05T19:45:33.710035Z",
     "iopub.status.busy": "2021-08-05T19:45:33.709679Z",
     "iopub.status.idle": "2021-08-05T19:45:33.716724Z",
     "shell.execute_reply": "2021-08-05T19:45:33.715473Z",
     "shell.execute_reply.started": "2021-08-05T19:45:33.710003Z"
    }
   },
   "outputs": [],
   "source": [
    "#Importing required libraries\n",
    "\n",
    "import pandas as pd\n",
    "import numpy as np\n",
    "import seaborn as sns\n",
    "from matplotlib import pyplot as plt\n",
    "import random\n",
    "from IPython.display import Image\n",
    "random_num=122"
   ]
  },
  {
   "cell_type": "code",
   "execution_count": 3,
   "metadata": {
    "execution": {
     "iopub.execute_input": "2021-08-05T19:45:33.784771Z",
     "iopub.status.busy": "2021-08-05T19:45:33.784492Z",
     "iopub.status.idle": "2021-08-05T19:45:33.870641Z",
     "shell.execute_reply": "2021-08-05T19:45:33.869671Z",
     "shell.execute_reply.started": "2021-08-05T19:45:33.784745Z"
    }
   },
   "outputs": [
    {
     "data": {
      "text/html": [
       "<div>\n",
       "<style scoped>\n",
       "    .dataframe tbody tr th:only-of-type {\n",
       "        vertical-align: middle;\n",
       "    }\n",
       "\n",
       "    .dataframe tbody tr th {\n",
       "        vertical-align: top;\n",
       "    }\n",
       "\n",
       "    .dataframe thead th {\n",
       "        text-align: right;\n",
       "    }\n",
       "</style>\n",
       "<table border=\"1\" class=\"dataframe\">\n",
       "  <thead>\n",
       "    <tr style=\"text-align: right;\">\n",
       "      <th></th>\n",
       "      <th>date</th>\n",
       "      <th>home_team</th>\n",
       "      <th>away_team</th>\n",
       "      <th>home_score</th>\n",
       "      <th>away_score</th>\n",
       "      <th>tournament</th>\n",
       "      <th>city</th>\n",
       "      <th>country</th>\n",
       "      <th>neutral</th>\n",
       "    </tr>\n",
       "  </thead>\n",
       "  <tbody>\n",
       "    <tr>\n",
       "      <th>0</th>\n",
       "      <td>1872-11-30</td>\n",
       "      <td>Scotland</td>\n",
       "      <td>England</td>\n",
       "      <td>0</td>\n",
       "      <td>0</td>\n",
       "      <td>Friendly</td>\n",
       "      <td>Glasgow</td>\n",
       "      <td>Scotland</td>\n",
       "      <td>False</td>\n",
       "    </tr>\n",
       "    <tr>\n",
       "      <th>1</th>\n",
       "      <td>1873-03-08</td>\n",
       "      <td>England</td>\n",
       "      <td>Scotland</td>\n",
       "      <td>4</td>\n",
       "      <td>2</td>\n",
       "      <td>Friendly</td>\n",
       "      <td>London</td>\n",
       "      <td>England</td>\n",
       "      <td>False</td>\n",
       "    </tr>\n",
       "    <tr>\n",
       "      <th>2</th>\n",
       "      <td>1874-03-07</td>\n",
       "      <td>Scotland</td>\n",
       "      <td>England</td>\n",
       "      <td>2</td>\n",
       "      <td>1</td>\n",
       "      <td>Friendly</td>\n",
       "      <td>Glasgow</td>\n",
       "      <td>Scotland</td>\n",
       "      <td>False</td>\n",
       "    </tr>\n",
       "    <tr>\n",
       "      <th>3</th>\n",
       "      <td>1875-03-06</td>\n",
       "      <td>England</td>\n",
       "      <td>Scotland</td>\n",
       "      <td>2</td>\n",
       "      <td>2</td>\n",
       "      <td>Friendly</td>\n",
       "      <td>London</td>\n",
       "      <td>England</td>\n",
       "      <td>False</td>\n",
       "    </tr>\n",
       "    <tr>\n",
       "      <th>4</th>\n",
       "      <td>1876-03-04</td>\n",
       "      <td>Scotland</td>\n",
       "      <td>England</td>\n",
       "      <td>3</td>\n",
       "      <td>0</td>\n",
       "      <td>Friendly</td>\n",
       "      <td>Glasgow</td>\n",
       "      <td>Scotland</td>\n",
       "      <td>False</td>\n",
       "    </tr>\n",
       "    <tr>\n",
       "      <th>5</th>\n",
       "      <td>1876-03-25</td>\n",
       "      <td>Scotland</td>\n",
       "      <td>Wales</td>\n",
       "      <td>4</td>\n",
       "      <td>0</td>\n",
       "      <td>Friendly</td>\n",
       "      <td>Glasgow</td>\n",
       "      <td>Scotland</td>\n",
       "      <td>False</td>\n",
       "    </tr>\n",
       "    <tr>\n",
       "      <th>6</th>\n",
       "      <td>1877-03-03</td>\n",
       "      <td>England</td>\n",
       "      <td>Scotland</td>\n",
       "      <td>1</td>\n",
       "      <td>3</td>\n",
       "      <td>Friendly</td>\n",
       "      <td>London</td>\n",
       "      <td>England</td>\n",
       "      <td>False</td>\n",
       "    </tr>\n",
       "    <tr>\n",
       "      <th>7</th>\n",
       "      <td>1877-03-05</td>\n",
       "      <td>Wales</td>\n",
       "      <td>Scotland</td>\n",
       "      <td>0</td>\n",
       "      <td>2</td>\n",
       "      <td>Friendly</td>\n",
       "      <td>Wrexham</td>\n",
       "      <td>Wales</td>\n",
       "      <td>False</td>\n",
       "    </tr>\n",
       "    <tr>\n",
       "      <th>8</th>\n",
       "      <td>1878-03-02</td>\n",
       "      <td>Scotland</td>\n",
       "      <td>England</td>\n",
       "      <td>7</td>\n",
       "      <td>2</td>\n",
       "      <td>Friendly</td>\n",
       "      <td>Glasgow</td>\n",
       "      <td>Scotland</td>\n",
       "      <td>False</td>\n",
       "    </tr>\n",
       "    <tr>\n",
       "      <th>9</th>\n",
       "      <td>1878-03-23</td>\n",
       "      <td>Scotland</td>\n",
       "      <td>Wales</td>\n",
       "      <td>9</td>\n",
       "      <td>0</td>\n",
       "      <td>Friendly</td>\n",
       "      <td>Glasgow</td>\n",
       "      <td>Scotland</td>\n",
       "      <td>False</td>\n",
       "    </tr>\n",
       "  </tbody>\n",
       "</table>\n",
       "</div>"
      ],
      "text/plain": [
       "         date home_team away_team  home_score  away_score tournament     city  \\\n",
       "0  1872-11-30  Scotland   England           0           0   Friendly  Glasgow   \n",
       "1  1873-03-08   England  Scotland           4           2   Friendly   London   \n",
       "2  1874-03-07  Scotland   England           2           1   Friendly  Glasgow   \n",
       "3  1875-03-06   England  Scotland           2           2   Friendly   London   \n",
       "4  1876-03-04  Scotland   England           3           0   Friendly  Glasgow   \n",
       "5  1876-03-25  Scotland     Wales           4           0   Friendly  Glasgow   \n",
       "6  1877-03-03   England  Scotland           1           3   Friendly   London   \n",
       "7  1877-03-05     Wales  Scotland           0           2   Friendly  Wrexham   \n",
       "8  1878-03-02  Scotland   England           7           2   Friendly  Glasgow   \n",
       "9  1878-03-23  Scotland     Wales           9           0   Friendly  Glasgow   \n",
       "\n",
       "    country  neutral  \n",
       "0  Scotland    False  \n",
       "1   England    False  \n",
       "2  Scotland    False  \n",
       "3   England    False  \n",
       "4  Scotland    False  \n",
       "5  Scotland    False  \n",
       "6   England    False  \n",
       "7     Wales    False  \n",
       "8  Scotland    False  \n",
       "9  Scotland    False  "
      ]
     },
     "execution_count": 3,
     "metadata": {},
     "output_type": "execute_result"
    }
   ],
   "source": [
    "#Reading the dataset\n",
    "\n",
    "df=pd.read_csv(\"results.csv\")\n",
    "df.head(10)"
   ]
  },
  {
   "cell_type": "code",
   "execution_count": 4,
   "metadata": {
    "execution": {
     "iopub.execute_input": "2021-08-05T19:45:33.909378Z",
     "iopub.status.busy": "2021-08-05T19:45:33.908997Z",
     "iopub.status.idle": "2021-08-05T19:45:33.933409Z",
     "shell.execute_reply": "2021-08-05T19:45:33.932530Z",
     "shell.execute_reply.started": "2021-08-05T19:45:33.909333Z"
    }
   },
   "outputs": [
    {
     "data": {
      "text/html": [
       "<div>\n",
       "<style scoped>\n",
       "    .dataframe tbody tr th:only-of-type {\n",
       "        vertical-align: middle;\n",
       "    }\n",
       "\n",
       "    .dataframe tbody tr th {\n",
       "        vertical-align: top;\n",
       "    }\n",
       "\n",
       "    .dataframe thead th {\n",
       "        text-align: right;\n",
       "    }\n",
       "</style>\n",
       "<table border=\"1\" class=\"dataframe\">\n",
       "  <thead>\n",
       "    <tr style=\"text-align: right;\">\n",
       "      <th></th>\n",
       "      <th>home_score</th>\n",
       "      <th>away_score</th>\n",
       "    </tr>\n",
       "  </thead>\n",
       "  <tbody>\n",
       "    <tr>\n",
       "      <th>count</th>\n",
       "      <td>42428.000000</td>\n",
       "      <td>42428.000000</td>\n",
       "    </tr>\n",
       "    <tr>\n",
       "      <th>mean</th>\n",
       "      <td>1.744131</td>\n",
       "      <td>1.185703</td>\n",
       "    </tr>\n",
       "    <tr>\n",
       "      <th>std</th>\n",
       "      <td>1.753119</td>\n",
       "      <td>1.404194</td>\n",
       "    </tr>\n",
       "    <tr>\n",
       "      <th>min</th>\n",
       "      <td>0.000000</td>\n",
       "      <td>0.000000</td>\n",
       "    </tr>\n",
       "    <tr>\n",
       "      <th>25%</th>\n",
       "      <td>1.000000</td>\n",
       "      <td>0.000000</td>\n",
       "    </tr>\n",
       "    <tr>\n",
       "      <th>50%</th>\n",
       "      <td>1.000000</td>\n",
       "      <td>1.000000</td>\n",
       "    </tr>\n",
       "    <tr>\n",
       "      <th>75%</th>\n",
       "      <td>2.000000</td>\n",
       "      <td>2.000000</td>\n",
       "    </tr>\n",
       "    <tr>\n",
       "      <th>max</th>\n",
       "      <td>31.000000</td>\n",
       "      <td>21.000000</td>\n",
       "    </tr>\n",
       "  </tbody>\n",
       "</table>\n",
       "</div>"
      ],
      "text/plain": [
       "         home_score    away_score\n",
       "count  42428.000000  42428.000000\n",
       "mean       1.744131      1.185703\n",
       "std        1.753119      1.404194\n",
       "min        0.000000      0.000000\n",
       "25%        1.000000      0.000000\n",
       "50%        1.000000      1.000000\n",
       "75%        2.000000      2.000000\n",
       "max       31.000000     21.000000"
      ]
     },
     "execution_count": 4,
     "metadata": {},
     "output_type": "execute_result"
    }
   ],
   "source": [
    "df.describe()"
   ]
  },
  {
   "cell_type": "code",
   "execution_count": 5,
   "metadata": {
    "execution": {
     "iopub.execute_input": "2021-08-05T19:45:33.970188Z",
     "iopub.status.busy": "2021-08-05T19:45:33.969906Z",
     "iopub.status.idle": "2021-08-05T19:45:34.002054Z",
     "shell.execute_reply": "2021-08-05T19:45:34.000795Z",
     "shell.execute_reply.started": "2021-08-05T19:45:33.970163Z"
    }
   },
   "outputs": [
    {
     "data": {
      "text/plain": [
       "date          0\n",
       "home_team     0\n",
       "away_team     0\n",
       "home_score    0\n",
       "away_score    0\n",
       "tournament    0\n",
       "city          0\n",
       "country       0\n",
       "neutral       0\n",
       "dtype: int64"
      ]
     },
     "execution_count": 5,
     "metadata": {},
     "output_type": "execute_result"
    }
   ],
   "source": [
    "#Preprocessing\n",
    "#Finding outmissing values\n",
    "\n",
    "df.isnull().sum()\n",
    "#No any missing values\n",
    "#We are good to go"
   ]
  },
  {
   "cell_type": "code",
   "execution_count": 6,
   "metadata": {
    "execution": {
     "iopub.execute_input": "2021-08-05T19:45:34.034314Z",
     "iopub.status.busy": "2021-08-05T19:45:34.033950Z",
     "iopub.status.idle": "2021-08-05T19:45:34.195752Z",
     "shell.execute_reply": "2021-08-05T19:45:34.194796Z",
     "shell.execute_reply.started": "2021-08-05T19:45:34.034276Z"
    }
   },
   "outputs": [
    {
     "data": {
      "text/plain": [
       "([<matplotlib.axis.XTick at 0x7f57510f36a0>,\n",
       "  <matplotlib.axis.XTick at 0x7f57510f3670>],\n",
       " [Text(1, 0, 'Home Score'), Text(2, 0, 'Away Score')])"
      ]
     },
     "execution_count": 6,
     "metadata": {},
     "output_type": "execute_result"
    },
    {
     "data": {
      "image/png": "[encoded data removed]",
      "text/plain": [
       "<Figure size 720x360 with 1 Axes>"
      ]
     },
     "metadata": {
      "needs_background": "light"
     },
     "output_type": "display_data"
    }
   ],
   "source": [
    "#finding outliers in the numerical data columns\n",
    "\n",
    "fig = plt.figure(figsize =(10, 5))\n",
    "plt.boxplot([df[\"home_score\"],df[\"away_score\"]])\n",
    "plt.xticks([1,2], [\"Home Score\", \"Away Score\"])"
   ]
  },
  {
   "cell_type": "code",
   "execution_count": 7,
   "metadata": {
    "execution": {
     "iopub.execute_input": "2021-08-05T19:45:34.197671Z",
     "iopub.status.busy": "2021-08-05T19:45:34.197325Z",
     "iopub.status.idle": "2021-08-05T19:45:34.219054Z",
     "shell.execute_reply": "2021-08-05T19:45:34.218108Z",
     "shell.execute_reply.started": "2021-08-05T19:45:34.197625Z"
    }
   },
   "outputs": [
    {
     "data": {
      "text/html": [
       "<div>\n",
       "<style scoped>\n",
       "    .dataframe tbody tr th:only-of-type {\n",
       "        vertical-align: middle;\n",
       "    }\n",
       "\n",
       "    .dataframe tbody tr th {\n",
       "        vertical-align: top;\n",
       "    }\n",
       "\n",
       "    .dataframe thead th {\n",
       "        text-align: right;\n",
       "    }\n",
       "</style>\n",
       "<table border=\"1\" class=\"dataframe\">\n",
       "  <thead>\n",
       "    <tr style=\"text-align: right;\">\n",
       "      <th></th>\n",
       "      <th>date</th>\n",
       "      <th>home_team</th>\n",
       "      <th>away_team</th>\n",
       "      <th>home_score</th>\n",
       "      <th>away_score</th>\n",
       "      <th>tournament</th>\n",
       "      <th>city</th>\n",
       "      <th>country</th>\n",
       "      <th>neutral</th>\n",
       "    </tr>\n",
       "  </thead>\n",
       "  <tbody>\n",
       "    <tr>\n",
       "      <th>0</th>\n",
       "      <td>1872-11-30</td>\n",
       "      <td>Scotland</td>\n",
       "      <td>England</td>\n",
       "      <td>0</td>\n",
       "      <td>0</td>\n",
       "      <td>Friendly</td>\n",
       "      <td>Glasgow</td>\n",
       "      <td>Scotland</td>\n",
       "      <td>False</td>\n",
       "    </tr>\n",
       "    <tr>\n",
       "      <th>1</th>\n",
       "      <td>1873-03-08</td>\n",
       "      <td>England</td>\n",
       "      <td>Scotland</td>\n",
       "      <td>4</td>\n",
       "      <td>2</td>\n",
       "      <td>Friendly</td>\n",
       "      <td>London</td>\n",
       "      <td>England</td>\n",
       "      <td>False</td>\n",
       "    </tr>\n",
       "    <tr>\n",
       "      <th>2</th>\n",
       "      <td>1874-03-07</td>\n",
       "      <td>Scotland</td>\n",
       "      <td>England</td>\n",
       "      <td>2</td>\n",
       "      <td>1</td>\n",
       "      <td>Friendly</td>\n",
       "      <td>Glasgow</td>\n",
       "      <td>Scotland</td>\n",
       "      <td>False</td>\n",
       "    </tr>\n",
       "    <tr>\n",
       "      <th>3</th>\n",
       "      <td>1875-03-06</td>\n",
       "      <td>England</td>\n",
       "      <td>Scotland</td>\n",
       "      <td>2</td>\n",
       "      <td>2</td>\n",
       "      <td>Friendly</td>\n",
       "      <td>London</td>\n",
       "      <td>England</td>\n",
       "      <td>False</td>\n",
       "    </tr>\n",
       "    <tr>\n",
       "      <th>4</th>\n",
       "      <td>1876-03-04</td>\n",
       "      <td>Scotland</td>\n",
       "      <td>England</td>\n",
       "      <td>3</td>\n",
       "      <td>0</td>\n",
       "      <td>Friendly</td>\n",
       "      <td>Glasgow</td>\n",
       "      <td>Scotland</td>\n",
       "      <td>False</td>\n",
       "    </tr>\n",
       "  </tbody>\n",
       "</table>\n",
       "</div>"
      ],
      "text/plain": [
       "         date home_team away_team  home_score  away_score tournament     city  \\\n",
       "0  1872-11-30  Scotland   England           0           0   Friendly  Glasgow   \n",
       "1  1873-03-08   England  Scotland           4           2   Friendly   London   \n",
       "2  1874-03-07  Scotland   England           2           1   Friendly  Glasgow   \n",
       "3  1875-03-06   England  Scotland           2           2   Friendly   London   \n",
       "4  1876-03-04  Scotland   England           3           0   Friendly  Glasgow   \n",
       "\n",
       "    country  neutral  \n",
       "0  Scotland    False  \n",
       "1   England    False  \n",
       "2  Scotland    False  \n",
       "3   England    False  \n",
       "4  Scotland    False  "
      ]
     },
     "execution_count": 7,
     "metadata": {},
     "output_type": "execute_result"
    }
   ],
   "source": [
    "#Boxplot says there are many outliers\n",
    "#Let's remove those outlier,It will make our Machine Learning model more accurate\n",
    "#Asume maximum goals that one team can score is 15\n",
    "\n",
    "higher_home=15\n",
    "higher_away=15\n",
    "df=df[(df[\"home_score\"]<higher_home) & (df[\"away_score\"]<higher_away)]\n",
    "df.head(5)\n",
    "#Dataset after removing outliers"
   ]
  },
  {
   "cell_type": "code",
   "execution_count": 8,
   "metadata": {
    "execution": {
     "iopub.execute_input": "2021-08-05T19:45:34.221134Z",
     "iopub.status.busy": "2021-08-05T19:45:34.220791Z",
     "iopub.status.idle": "2021-08-05T19:45:34.249232Z",
     "shell.execute_reply": "2021-08-05T19:45:34.248211Z",
     "shell.execute_reply.started": "2021-08-05T19:45:34.221099Z"
    }
   },
   "outputs": [
    {
     "data": {
      "text/html": [
       "<div>\n",
       "<style scoped>\n",
       "    .dataframe tbody tr th:only-of-type {\n",
       "        vertical-align: middle;\n",
       "    }\n",
       "\n",
       "    .dataframe tbody tr th {\n",
       "        vertical-align: top;\n",
       "    }\n",
       "\n",
       "    .dataframe thead th {\n",
       "        text-align: right;\n",
       "    }\n",
       "</style>\n",
       "<table border=\"1\" class=\"dataframe\">\n",
       "  <thead>\n",
       "    <tr style=\"text-align: right;\">\n",
       "      <th></th>\n",
       "      <th>date</th>\n",
       "      <th>home_team</th>\n",
       "      <th>away_team</th>\n",
       "      <th>home_score</th>\n",
       "      <th>away_score</th>\n",
       "      <th>tournament</th>\n",
       "      <th>city</th>\n",
       "      <th>country</th>\n",
       "      <th>neutral</th>\n",
       "      <th>Win_Statues</th>\n",
       "    </tr>\n",
       "  </thead>\n",
       "  <tbody>\n",
       "    <tr>\n",
       "      <th>0</th>\n",
       "      <td>1872-11-30</td>\n",
       "      <td>Scotland</td>\n",
       "      <td>England</td>\n",
       "      <td>0</td>\n",
       "      <td>0</td>\n",
       "      <td>Friendly</td>\n",
       "      <td>Glasgow</td>\n",
       "      <td>Scotland</td>\n",
       "      <td>False</td>\n",
       "      <td>Draw</td>\n",
       "    </tr>\n",
       "    <tr>\n",
       "      <th>1</th>\n",
       "      <td>1873-03-08</td>\n",
       "      <td>England</td>\n",
       "      <td>Scotland</td>\n",
       "      <td>4</td>\n",
       "      <td>2</td>\n",
       "      <td>Friendly</td>\n",
       "      <td>London</td>\n",
       "      <td>England</td>\n",
       "      <td>False</td>\n",
       "      <td>Win</td>\n",
       "    </tr>\n",
       "    <tr>\n",
       "      <th>2</th>\n",
       "      <td>1874-03-07</td>\n",
       "      <td>Scotland</td>\n",
       "      <td>England</td>\n",
       "      <td>2</td>\n",
       "      <td>1</td>\n",
       "      <td>Friendly</td>\n",
       "      <td>Glasgow</td>\n",
       "      <td>Scotland</td>\n",
       "      <td>False</td>\n",
       "      <td>Win</td>\n",
       "    </tr>\n",
       "    <tr>\n",
       "      <th>3</th>\n",
       "      <td>1875-03-06</td>\n",
       "      <td>England</td>\n",
       "      <td>Scotland</td>\n",
       "      <td>2</td>\n",
       "      <td>2</td>\n",
       "      <td>Friendly</td>\n",
       "      <td>London</td>\n",
       "      <td>England</td>\n",
       "      <td>False</td>\n",
       "      <td>Draw</td>\n",
       "    </tr>\n",
       "    <tr>\n",
       "      <th>4</th>\n",
       "      <td>1876-03-04</td>\n",
       "      <td>Scotland</td>\n",
       "      <td>England</td>\n",
       "      <td>3</td>\n",
       "      <td>0</td>\n",
       "      <td>Friendly</td>\n",
       "      <td>Glasgow</td>\n",
       "      <td>Scotland</td>\n",
       "      <td>False</td>\n",
       "      <td>Win</td>\n",
       "    </tr>\n",
       "  </tbody>\n",
       "</table>\n",
       "</div>"
      ],
      "text/plain": [
       "         date home_team away_team  home_score  away_score tournament     city  \\\n",
       "0  1872-11-30  Scotland   England           0           0   Friendly  Glasgow   \n",
       "1  1873-03-08   England  Scotland           4           2   Friendly   London   \n",
       "2  1874-03-07  Scotland   England           2           1   Friendly  Glasgow   \n",
       "3  1875-03-06   England  Scotland           2           2   Friendly   London   \n",
       "4  1876-03-04  Scotland   England           3           0   Friendly  Glasgow   \n",
       "\n",
       "    country  neutral Win_Statues  \n",
       "0  Scotland    False        Draw  \n",
       "1   England    False         Win  \n",
       "2  Scotland    False         Win  \n",
       "3   England    False        Draw  \n",
       "4  Scotland    False         Win  "
      ]
     },
     "execution_count": 8,
     "metadata": {},
     "output_type": "execute_result"
    }
   ],
   "source": [
    "#Making a new colum named \"Win_Statues\" to store the result(Win,Lost,Draw) of the home team\n",
    "\n",
    "conditions  = [df[\"home_score\"] ==df[\"away_score\"], df[\"home_score\"] > df[\"away_score\"] , df[\"home_score\"] < df[\"away_score\"]]\n",
    "choices     = [ \"Draw\", 'Win', 'Lost' ]\n",
    "df[\"Win_Statues\"] = np.select(conditions, choices)\n",
    "df.head(5)"
   ]
  },
  {
   "cell_type": "code",
   "execution_count": 9,
   "metadata": {
    "execution": {
     "iopub.execute_input": "2021-08-05T19:45:34.251504Z",
     "iopub.status.busy": "2021-08-05T19:45:34.251079Z",
     "iopub.status.idle": "2021-08-05T19:45:34.263361Z",
     "shell.execute_reply": "2021-08-05T19:45:34.262114Z",
     "shell.execute_reply.started": "2021-08-05T19:45:34.251464Z"
    }
   },
   "outputs": [
    {
     "name": "stdout",
     "output_type": "stream",
     "text": [
      "There are 306 Countries in the home_team Column\n",
      "\n",
      "Countries-['Scotland' 'England' 'Wales' 'Northern Ireland' 'United States' 'Uruguay'\n",
      " 'Austria' 'Hungary' 'Argentina' 'Belgium' 'France' 'Netherlands'\n",
      " 'Czechoslovakia' 'Switzerland' 'Sweden' 'Germany' 'Italy' 'Chile'\n",
      " 'Norway' 'Finland' 'Luxembourg' 'Russia' 'Denmark' 'Catalonia'\n",
      " 'Basque Country' 'Brazil' 'Paraguay' 'Japan' 'Canada' 'Estonia'\n",
      " 'Costa Rica' 'Guatemala' 'Spain' 'Brittany' 'Poland' 'Yugoslavia'\n",
      " 'New Zealand' 'Romania' 'Latvia' 'Galicia' 'Portugal' 'Andalusia'\n",
      " 'China PR' 'Australia' 'Lithuania' 'Turkey' 'Central Spain' 'Mexico'\n",
      " 'Aruba' 'Egypt' 'Haiti' 'Philippines' 'Bulgaria' 'Jamaica' 'Kenya'\n",
      " 'Bolivia' 'Peru' 'Honduras' 'Guyana' 'Uganda' 'Belarus' 'El Salvador'\n",
      " 'Barbados' 'Republic of Ireland' 'Trinidad and Tobago' 'Greece' 'Curaçao'\n",
      " 'Dominica' 'Silesia' 'Guadeloupe' 'Israel' 'Suriname' 'French Guiana'\n",
      " 'Cuba' 'Colombia' 'Ecuador' 'Saint Kitts and Nevis' 'Panama' 'Slovakia'\n",
      " 'Manchukuo' 'Croatia' 'Nicaragua' 'Afghanistan' 'India' 'Martinique'\n",
      " 'Zimbabwe' 'Iceland' 'Albania' 'Madagascar' 'Zambia' 'Mauritius'\n",
      " 'Tanzania' 'Iran' 'Djibouti' 'DR Congo' 'Vietnam' 'Macau' 'Ethiopia'\n",
      " 'Puerto Rico' 'Réunion' 'Sierra Leone' 'Zanzibar' 'South Korea' 'Ghana'\n",
      " 'South Africa' 'New Caledonia' 'Fiji' 'Nigeria' 'Venezuela' 'Burma'\n",
      " 'Sri Lanka' 'Tahiti' 'Gambia' 'Hong Kong' 'Singapore' 'Malaysia'\n",
      " 'Indonesia' 'Guinea-Bissau' 'German DR' 'Vanuatu' 'Kernow' 'Saarland'\n",
      " 'Cambodia' 'Lebanon' 'Pakistan' 'Vietnam Republic' 'North Korea' 'Togo'\n",
      " 'Sudan' 'Malta' 'Syria' 'Tunisia' 'Malawi' 'Morocco' 'Benin' 'Cameroon'\n",
      " 'Central African Republic' 'Gabon' 'Ivory Coast' 'Congo' 'Mali'\n",
      " 'North Vietnam' 'Mongolia' 'Taiwan' 'Cyprus' 'Iraq' 'Saint Lucia'\n",
      " 'Grenada' 'Thailand' 'Senegal' 'Libya' 'Guinea' 'Algeria' 'Kuwait'\n",
      " 'Jordan' 'Solomon Islands' 'Liberia' 'Laos'\n",
      " 'Saint Vincent and the Grenadines' 'Bermuda' 'Niger' 'Bahrain'\n",
      " 'Montenegro' 'Palestine' 'Papua New Guinea' 'Burkina Faso' 'Mauritania'\n",
      " 'Saudi Arabia' 'Eswatini' 'Somalia' 'Lesotho' 'Qatar'\n",
      " 'Antigua and Barbuda' 'Faroe Islands' 'Bangladesh' 'Oman' 'Yemen DPR'\n",
      " 'Burundi' 'Yemen' 'Mozambique' 'Guam' 'Chad' 'Angola'\n",
      " 'Dominican Republic' 'Seychelles' 'Rwanda' 'São Tomé and Príncipe'\n",
      " 'Botswana' 'Northern Cyprus' 'Cape Verde' 'Kyrgyzstan' 'Georgia'\n",
      " 'Azerbaijan' 'Kiribati' 'Tonga' 'Wallis Islands and Futuna'\n",
      " 'United Arab Emirates' 'Brunei' 'Equatorial Guinea' 'Liechtenstein'\n",
      " 'Nepal' 'Greenland' 'Niue' 'Samoa' 'American Samoa' 'Belize' 'Anguilla'\n",
      " 'Cayman Islands' 'Palau' 'Sint Maarten' 'Namibia' 'Åland Islands'\n",
      " 'Ynys Môn' 'Saint Martin' 'San Marino' 'Slovenia' 'Jersey' 'Shetland'\n",
      " 'Isle of Wight' 'Moldova' 'Ukraine' 'Kazakhstan' 'Tajikistan'\n",
      " 'Uzbekistan' 'Turkmenistan' 'Armenia' 'Czech Republic' 'Guernsey'\n",
      " 'Gibraltar' 'Isle of Man' 'North Macedonia' 'Montserrat' 'Serbia'\n",
      " 'Cook Islands' 'Canary Islands' 'Bosnia and Herzegovina' 'Maldives'\n",
      " 'Andorra' 'British Virgin Islands' 'Frøya' 'Hitra'\n",
      " 'United States Virgin Islands' 'Corsica' 'Eritrea' 'Bahamas' 'Gotland'\n",
      " 'Saare County' 'Rhodes' 'Micronesia' 'Bhutan' 'Orkney' 'Monaco' 'Tuvalu'\n",
      " 'Alderney' 'Mayotte' 'Turks and Caicos Islands' 'East Timor'\n",
      " 'Western Isles' 'Falkland Islands' 'Kosovo' 'Republic of St. Pauli'\n",
      " 'Găgăuzia' 'Tibet' 'Crimea' 'Occitania' 'Sápmi'\n",
      " 'Northern Mariana Islands' 'Menorca' 'Comoros' 'Provence'\n",
      " 'Arameans Suryoye' 'Padania' 'Iraqi Kurdistan' 'Gozo' 'Bonaire'\n",
      " 'Western Sahara' 'Raetia' 'Tamil Eelam' 'South Sudan' 'Abkhazia'\n",
      " 'Artsakh' 'Madrid' 'Vatican City' 'Ellan Vannin' 'South Ossetia' 'Darfur'\n",
      " 'County of Nice' 'Székely Land' 'Romani people' 'Felvidék'\n",
      " 'Chagos Islands' 'United Koreans in Japan' 'Somaliland' 'Western Armenia'\n",
      " 'Barawa' 'Kárpátalja' 'Yorkshire' 'Panjab' 'Matabeleland' 'Cascadia'\n",
      " 'Kabylia' 'Timor-Leste' 'Myanmar' 'Parishes of Jersey' 'Chameria'\n",
      " 'Saint Helena']\n"
     ]
    }
   ],
   "source": [
    "#See what are the Countries in the dataset\n",
    "\n",
    "countries=df.home_team.unique()\n",
    "print(f\"There are {len(countries)} Countries in the home_team Column\\n\")\n",
    "print(f\"Countries-{countries}\")"
   ]
  },
  {
   "cell_type": "markdown",
   "metadata": {},
   "source": [
    "**Type of the Matches**"
   ]
  },
  {
   "cell_type": "code",
   "execution_count": 10,
   "metadata": {
    "execution": {
     "iopub.execute_input": "2021-08-05T19:45:34.265288Z",
     "iopub.status.busy": "2021-08-05T19:45:34.264877Z",
     "iopub.status.idle": "2021-08-05T19:45:34.482627Z",
     "shell.execute_reply": "2021-08-05T19:45:34.481485Z",
     "shell.execute_reply.started": "2021-08-05T19:45:34.265233Z"
    }
   },
   "outputs": [
    {
     "data": {
      "image/png": "[encoded data removed]",
      "text/plain": [
       "<Figure size 1008x432 with 1 Axes>"
      ]
     },
     "metadata": {
      "needs_background": "light"
     },
     "output_type": "display_data"
    }
   ],
   "source": [
    "rank_bound = 10\n",
    "ax = df.tournament.value_counts()[:rank_bound].sort_values()\n",
    "value = ax.values\n",
    "label = ax.index\n",
    "\n",
    "plt.figure(figsize=(14,6))\n",
    "plt.barh(y=label, width=value, edgecolor=\"k\")\n",
    "for i in range(rank_bound):\n",
    "    plt.text(x=50,y=i-0.1,s=value[i],color=\"w\",fontsize=12)\n",
    "plt.show()"
   ]
  },
  {
   "cell_type": "markdown",
   "metadata": {},
   "source": [
    "**Teams played most Matches**"
   ]
  },
  {
   "cell_type": "code",
   "execution_count": 11,
   "metadata": {
    "execution": {
     "iopub.execute_input": "2021-08-05T19:45:34.485476Z",
     "iopub.status.busy": "2021-08-05T19:45:34.485052Z",
     "iopub.status.idle": "2021-08-05T19:45:34.678035Z",
     "shell.execute_reply": "2021-08-05T19:45:34.677091Z",
     "shell.execute_reply.started": "2021-08-05T19:45:34.485434Z"
    }
   },
   "outputs": [
    {
     "data": {
      "image/png": "[encoded data removed]",
      "text/plain": [
       "<Figure size 1008x432 with 1 Axes>"
      ]
     },
     "metadata": {
      "needs_background": "light"
     },
     "output_type": "display_data"
    }
   ],
   "source": [
    "rank_bound = 10\n",
    "ax = df.country.value_counts()[:rank_bound].sort_values()\n",
    "value = ax.values\n",
    "label = ax.index\n",
    "\n",
    "plt.figure(figsize=(14,6))\n",
    "plt.barh(y=label, width=value, edgecolor=\"k\")\n",
    "for i in range(rank_bound):\n",
    "    plt.text(x=10,y=i-0.1,s=value[i],color=\"w\",fontsize=12)\n",
    "plt.show()"
   ]
  },
  {
   "cell_type": "markdown",
   "metadata": {},
   "source": [
    "**Number of Matches played in equal intervals**"
   ]
  },
  {
   "cell_type": "code",
   "execution_count": 12,
   "metadata": {
    "execution": {
     "iopub.execute_input": "2021-08-05T19:45:34.680669Z",
     "iopub.status.busy": "2021-08-05T19:45:34.680038Z",
     "iopub.status.idle": "2021-08-05T19:45:35.122867Z",
     "shell.execute_reply": "2021-08-05T19:45:35.121744Z",
     "shell.execute_reply.started": "2021-08-05T19:45:34.680615Z"
    }
   },
   "outputs": [
    {
     "data": {
      "image/png": "[encoded data removed]",
      "text/plain": [
       "<Figure size 1008x432 with 1 Axes>"
      ]
     },
     "metadata": {
      "needs_background": "light"
     },
     "output_type": "display_data"
    }
   ],
   "source": [
    "years = []\n",
    "for date in df.date:\n",
    "    years.append(int(str(date)[0:4]))\n",
    "plt.figure(figsize=(14,6))\n",
    "plt.hist(years, density=True, bins=12, edgecolor=\"k\")\n",
    "plt.title(\"Histogram of Years\")\n",
    "plt.ylabel(\"Frequency\")\n",
    "plt.xlabel(\"Year\")\n",
    "plt.show()\n",
    "\n",
    "#Most matches are played after 1960"
   ]
  },
  {
   "cell_type": "markdown",
   "metadata": {},
   "source": [
    "### (1) Finding out the impact hosting a major tournament helps a country's chances in winning matches?"
   ]
  },
  {
   "cell_type": "code",
   "execution_count": 13,
   "metadata": {
    "execution": {
     "iopub.execute_input": "2021-08-05T19:45:35.124939Z",
     "iopub.status.busy": "2021-08-05T19:45:35.124541Z",
     "iopub.status.idle": "2021-08-05T19:45:35.167274Z",
     "shell.execute_reply": "2021-08-05T19:45:35.166345Z",
     "shell.execute_reply.started": "2021-08-05T19:45:35.124896Z"
    }
   },
   "outputs": [
    {
     "data": {
      "text/html": [
       "<div>\n",
       "<style scoped>\n",
       "    .dataframe tbody tr th:only-of-type {\n",
       "        vertical-align: middle;\n",
       "    }\n",
       "\n",
       "    .dataframe tbody tr th {\n",
       "        vertical-align: top;\n",
       "    }\n",
       "\n",
       "    .dataframe thead th {\n",
       "        text-align: right;\n",
       "    }\n",
       "</style>\n",
       "<table border=\"1\" class=\"dataframe\">\n",
       "  <thead>\n",
       "    <tr style=\"text-align: right;\">\n",
       "      <th></th>\n",
       "      <th>date</th>\n",
       "      <th>home_team</th>\n",
       "      <th>away_team</th>\n",
       "      <th>home_score</th>\n",
       "      <th>away_score</th>\n",
       "      <th>tournament</th>\n",
       "      <th>city</th>\n",
       "      <th>country</th>\n",
       "      <th>neutral</th>\n",
       "      <th>Win_Statues</th>\n",
       "    </tr>\n",
       "  </thead>\n",
       "  <tbody>\n",
       "    <tr>\n",
       "      <th>29</th>\n",
       "      <td>1884-01-26</td>\n",
       "      <td>Northern Ireland</td>\n",
       "      <td>Scotland</td>\n",
       "      <td>0</td>\n",
       "      <td>5</td>\n",
       "      <td>British Championship</td>\n",
       "      <td>Belfast</td>\n",
       "      <td>Republic of Ireland</td>\n",
       "      <td>False</td>\n",
       "      <td>Lost</td>\n",
       "    </tr>\n",
       "    <tr>\n",
       "      <th>30</th>\n",
       "      <td>1884-02-09</td>\n",
       "      <td>Wales</td>\n",
       "      <td>Northern Ireland</td>\n",
       "      <td>6</td>\n",
       "      <td>0</td>\n",
       "      <td>British Championship</td>\n",
       "      <td>Wrexham</td>\n",
       "      <td>Wales</td>\n",
       "      <td>False</td>\n",
       "      <td>Win</td>\n",
       "    </tr>\n",
       "    <tr>\n",
       "      <th>31</th>\n",
       "      <td>1884-02-23</td>\n",
       "      <td>Northern Ireland</td>\n",
       "      <td>England</td>\n",
       "      <td>1</td>\n",
       "      <td>8</td>\n",
       "      <td>British Championship</td>\n",
       "      <td>Belfast</td>\n",
       "      <td>Republic of Ireland</td>\n",
       "      <td>False</td>\n",
       "      <td>Lost</td>\n",
       "    </tr>\n",
       "    <tr>\n",
       "      <th>32</th>\n",
       "      <td>1884-03-15</td>\n",
       "      <td>Scotland</td>\n",
       "      <td>England</td>\n",
       "      <td>1</td>\n",
       "      <td>0</td>\n",
       "      <td>British Championship</td>\n",
       "      <td>Glasgow</td>\n",
       "      <td>Scotland</td>\n",
       "      <td>False</td>\n",
       "      <td>Win</td>\n",
       "    </tr>\n",
       "    <tr>\n",
       "      <th>33</th>\n",
       "      <td>1884-03-17</td>\n",
       "      <td>Wales</td>\n",
       "      <td>England</td>\n",
       "      <td>0</td>\n",
       "      <td>4</td>\n",
       "      <td>British Championship</td>\n",
       "      <td>Wrexham</td>\n",
       "      <td>Wales</td>\n",
       "      <td>False</td>\n",
       "      <td>Lost</td>\n",
       "    </tr>\n",
       "  </tbody>\n",
       "</table>\n",
       "</div>"
      ],
      "text/plain": [
       "          date         home_team         away_team  home_score  away_score  \\\n",
       "29  1884-01-26  Northern Ireland          Scotland           0           5   \n",
       "30  1884-02-09             Wales  Northern Ireland           6           0   \n",
       "31  1884-02-23  Northern Ireland           England           1           8   \n",
       "32  1884-03-15          Scotland           England           1           0   \n",
       "33  1884-03-17             Wales           England           0           4   \n",
       "\n",
       "              tournament     city              country  neutral Win_Statues  \n",
       "29  British Championship  Belfast  Republic of Ireland    False        Lost  \n",
       "30  British Championship  Wrexham                Wales    False         Win  \n",
       "31  British Championship  Belfast  Republic of Ireland    False        Lost  \n",
       "32  British Championship  Glasgow             Scotland    False         Win  \n",
       "33  British Championship  Wrexham                Wales    False        Lost  "
      ]
     },
     "execution_count": 13,
     "metadata": {},
     "output_type": "execute_result"
    }
   ],
   "source": [
    "#Now take the rpws that home_team==Country \n",
    "#Nad romove the data of friendly matches\n",
    "\n",
    "data_home=df.loc[df[\"home_team\"]==df[\"country\"] ]\n",
    "data_home=df.loc[df[\"tournament\"] != \"Friendly\"]\n",
    "data_home.head(5)"
   ]
  },
  {
   "cell_type": "markdown",
   "metadata": {},
   "source": [
    "**Home Team Winning Statistcs**"
   ]
  },
  {
   "cell_type": "code",
   "execution_count": 14,
   "metadata": {
    "execution": {
     "iopub.execute_input": "2021-08-05T19:45:35.169014Z",
     "iopub.status.busy": "2021-08-05T19:45:35.168671Z",
     "iopub.status.idle": "2021-08-05T19:45:35.251050Z",
     "shell.execute_reply": "2021-08-05T19:45:35.249809Z",
     "shell.execute_reply.started": "2021-08-05T19:45:35.168980Z"
    }
   },
   "outputs": [
    {
     "data": {
      "text/html": [
       "<style type=\"text/css\">\n",
       "#T_74a3a_row0_col0, #T_74a3a_row0_col1, #T_74a3a_row0_col2, #T_74a3a_row0_col3 {\n",
       "  width: 10em;\n",
       "  background: linear-gradient(90deg, brown 100.0%, transparent 100.0%);\n",
       "}\n",
       "#T_74a3a_row1_col0 {\n",
       "  width: 10em;\n",
       "  background: linear-gradient(90deg, brown 29.2%, transparent 29.2%);\n",
       "}\n",
       "#T_74a3a_row1_col1 {\n",
       "  width: 10em;\n",
       "  background: linear-gradient(90deg, brown 28.3%, transparent 28.3%);\n",
       "}\n",
       "#T_74a3a_row1_col2 {\n",
       "  width: 10em;\n",
       "  background: linear-gradient(90deg, brown 30.8%, transparent 30.8%);\n",
       "}\n",
       "#T_74a3a_row1_col3 {\n",
       "  width: 10em;\n",
       "  background: linear-gradient(90deg, brown 29.8%, transparent 29.8%);\n",
       "}\n",
       "#T_74a3a_row2_col0 {\n",
       "  width: 10em;\n",
       "  background: linear-gradient(90deg, brown 9.3%, transparent 9.3%);\n",
       "}\n",
       "#T_74a3a_row2_col1 {\n",
       "  width: 10em;\n",
       "  background: linear-gradient(90deg, brown 11.3%, transparent 11.3%);\n",
       "}\n",
       "#T_74a3a_row2_col2 {\n",
       "  width: 10em;\n",
       "  background: linear-gradient(90deg, brown 10.1%, transparent 10.1%);\n",
       "}\n",
       "#T_74a3a_row2_col3 {\n",
       "  width: 10em;\n",
       "  background: linear-gradient(90deg, brown 10.3%, transparent 10.3%);\n",
       "}\n",
       "#T_74a3a_row3_col0 {\n",
       "  width: 10em;\n",
       "  background: linear-gradient(90deg, brown 7.7%, transparent 7.7%);\n",
       "}\n",
       "#T_74a3a_row3_col1 {\n",
       "  width: 10em;\n",
       "  background: linear-gradient(90deg, brown 4.9%, transparent 4.9%);\n",
       "}\n",
       "#T_74a3a_row3_col2 {\n",
       "  width: 10em;\n",
       "  background: linear-gradient(90deg, brown 7.6%, transparent 7.6%);\n",
       "}\n",
       "#T_74a3a_row3_col3 {\n",
       "  width: 10em;\n",
       "  background: linear-gradient(90deg, brown 6.8%, transparent 6.8%);\n",
       "}\n",
       "#T_74a3a_row4_col0 {\n",
       "  width: 10em;\n",
       "  background: linear-gradient(90deg, brown 3.7%, transparent 3.7%);\n",
       "}\n",
       "#T_74a3a_row4_col1 {\n",
       "  width: 10em;\n",
       "  background: linear-gradient(90deg, brown 4.0%, transparent 4.0%);\n",
       "}\n",
       "#T_74a3a_row4_col2, #T_74a3a_row5_col0 {\n",
       "  width: 10em;\n",
       "  background: linear-gradient(90deg, brown 3.3%, transparent 3.3%);\n",
       "}\n",
       "#T_74a3a_row4_col3 {\n",
       "  width: 10em;\n",
       "  background: linear-gradient(90deg, brown 3.6%, transparent 3.6%);\n",
       "}\n",
       "#T_74a3a_row5_col1 {\n",
       "  width: 10em;\n",
       "  background: linear-gradient(90deg, brown 3.2%, transparent 3.2%);\n",
       "}\n",
       "#T_74a3a_row5_col2, #T_74a3a_row5_col3, #T_74a3a_row6_col2 {\n",
       "  width: 10em;\n",
       "  background: linear-gradient(90deg, brown 3.4%, transparent 3.4%);\n",
       "}\n",
       "#T_74a3a_row6_col0, #T_74a3a_row8_col2, #T_74a3a_row9_col0 {\n",
       "  width: 10em;\n",
       "  background: linear-gradient(90deg, brown 2.3%, transparent 2.3%);\n",
       "}\n",
       "#T_74a3a_row6_col1, #T_74a3a_row9_col1, #T_74a3a_row9_col3 {\n",
       "  width: 10em;\n",
       "  background: linear-gradient(90deg, brown 2.4%, transparent 2.4%);\n",
       "}\n",
       "#T_74a3a_row6_col3 {\n",
       "  width: 10em;\n",
       "  background: linear-gradient(90deg, brown 2.9%, transparent 2.9%);\n",
       "}\n",
       "#T_74a3a_row7_col0 {\n",
       "  width: 10em;\n",
       "  background: linear-gradient(90deg, brown 3.5%, transparent 3.5%);\n",
       "}\n",
       "#T_74a3a_row7_col1, #T_74a3a_row8_col1 {\n",
       "  width: 10em;\n",
       "  background: linear-gradient(90deg, brown 2.6%, transparent 2.6%);\n",
       "}\n",
       "#T_74a3a_row7_col2, #T_74a3a_row8_col3, #T_74a3a_row9_col2 {\n",
       "  width: 10em;\n",
       "  background: linear-gradient(90deg, brown 2.5%, transparent 2.5%);\n",
       "}\n",
       "#T_74a3a_row7_col3, #T_74a3a_row8_col0 {\n",
       "  width: 10em;\n",
       "  background: linear-gradient(90deg, brown 2.7%, transparent 2.7%);\n",
       "}\n",
       "</style>\n",
       "<table id=\"T_74a3a\">\n",
       "  <thead>\n",
       "    <tr>\n",
       "      <th class=\"index_name level0\" >Win_Statues</th>\n",
       "      <th id=\"T_74a3a_level0_col0\" class=\"col_heading level0 col0\" >Draw</th>\n",
       "      <th id=\"T_74a3a_level0_col1\" class=\"col_heading level0 col1\" >Lost</th>\n",
       "      <th id=\"T_74a3a_level0_col2\" class=\"col_heading level0 col2\" >Win</th>\n",
       "      <th id=\"T_74a3a_level0_col3\" class=\"col_heading level0 col3\" >All</th>\n",
       "    </tr>\n",
       "    <tr>\n",
       "      <th class=\"index_name level0\" >tournament</th>\n",
       "      <th class=\"blank col0\" >&nbsp;</th>\n",
       "      <th class=\"blank col1\" >&nbsp;</th>\n",
       "      <th class=\"blank col2\" >&nbsp;</th>\n",
       "      <th class=\"blank col3\" >&nbsp;</th>\n",
       "    </tr>\n",
       "  </thead>\n",
       "  <tbody>\n",
       "    <tr>\n",
       "      <th id=\"T_74a3a_level0_row0\" class=\"row_heading level0 row0\" >All</th>\n",
       "      <td id=\"T_74a3a_row0_col0\" class=\"data row0 col0\" >5442</td>\n",
       "      <td id=\"T_74a3a_row0_col1\" class=\"data row0 col1\" >7187</td>\n",
       "      <td id=\"T_74a3a_row0_col2\" class=\"data row0 col2\" >12470</td>\n",
       "      <td id=\"T_74a3a_row0_col3\" class=\"data row0 col3\" >25099</td>\n",
       "    </tr>\n",
       "    <tr>\n",
       "      <th id=\"T_74a3a_level0_row1\" class=\"row_heading level0 row1\" >FIFA World Cup qualification</th>\n",
       "      <td id=\"T_74a3a_row1_col0\" class=\"data row1 col0\" >1590</td>\n",
       "      <td id=\"T_74a3a_row1_col1\" class=\"data row1 col1\" >2037</td>\n",
       "      <td id=\"T_74a3a_row1_col2\" class=\"data row1 col2\" >3844</td>\n",
       "      <td id=\"T_74a3a_row1_col3\" class=\"data row1 col3\" >7471</td>\n",
       "    </tr>\n",
       "    <tr>\n",
       "      <th id=\"T_74a3a_level0_row2\" class=\"row_heading level0 row2\" >UEFA Euro qualification</th>\n",
       "      <td id=\"T_74a3a_row2_col0\" class=\"data row2 col0\" >506</td>\n",
       "      <td id=\"T_74a3a_row2_col1\" class=\"data row2 col1\" >815</td>\n",
       "      <td id=\"T_74a3a_row2_col2\" class=\"data row2 col2\" >1261</td>\n",
       "      <td id=\"T_74a3a_row2_col3\" class=\"data row2 col3\" >2582</td>\n",
       "    </tr>\n",
       "    <tr>\n",
       "      <th id=\"T_74a3a_level0_row3\" class=\"row_heading level0 row3\" >African Cup of Nations qualification</th>\n",
       "      <td id=\"T_74a3a_row3_col0\" class=\"data row3 col0\" >418</td>\n",
       "      <td id=\"T_74a3a_row3_col1\" class=\"data row3 col1\" >353</td>\n",
       "      <td id=\"T_74a3a_row3_col2\" class=\"data row3 col2\" >948</td>\n",
       "      <td id=\"T_74a3a_row3_col3\" class=\"data row3 col3\" >1719</td>\n",
       "    </tr>\n",
       "    <tr>\n",
       "      <th id=\"T_74a3a_level0_row4\" class=\"row_heading level0 row4\" >FIFA World Cup</th>\n",
       "      <td id=\"T_74a3a_row4_col0\" class=\"data row4 col0\" >199</td>\n",
       "      <td id=\"T_74a3a_row4_col1\" class=\"data row4 col1\" >290</td>\n",
       "      <td id=\"T_74a3a_row4_col2\" class=\"data row4 col2\" >411</td>\n",
       "      <td id=\"T_74a3a_row4_col3\" class=\"data row4 col3\" >900</td>\n",
       "    </tr>\n",
       "    <tr>\n",
       "      <th id=\"T_74a3a_level0_row5\" class=\"row_heading level0 row5\" >Copa América</th>\n",
       "      <td id=\"T_74a3a_row5_col0\" class=\"data row5 col0\" >181</td>\n",
       "      <td id=\"T_74a3a_row5_col1\" class=\"data row5 col1\" >231</td>\n",
       "      <td id=\"T_74a3a_row5_col2\" class=\"data row5 col2\" >429</td>\n",
       "      <td id=\"T_74a3a_row5_col3\" class=\"data row5 col3\" >841</td>\n",
       "    </tr>\n",
       "    <tr>\n",
       "      <th id=\"T_74a3a_level0_row6\" class=\"row_heading level0 row6\" >AFC Asian Cup qualification</th>\n",
       "      <td id=\"T_74a3a_row6_col0\" class=\"data row6 col0\" >123</td>\n",
       "      <td id=\"T_74a3a_row6_col1\" class=\"data row6 col1\" >174</td>\n",
       "      <td id=\"T_74a3a_row6_col2\" class=\"data row6 col2\" >424</td>\n",
       "      <td id=\"T_74a3a_row6_col3\" class=\"data row6 col3\" >721</td>\n",
       "    </tr>\n",
       "    <tr>\n",
       "      <th id=\"T_74a3a_level0_row7\" class=\"row_heading level0 row7\" >African Cup of Nations</th>\n",
       "      <td id=\"T_74a3a_row7_col0\" class=\"data row7 col0\" >193</td>\n",
       "      <td id=\"T_74a3a_row7_col1\" class=\"data row7 col1\" >186</td>\n",
       "      <td id=\"T_74a3a_row7_col2\" class=\"data row7 col2\" >311</td>\n",
       "      <td id=\"T_74a3a_row7_col3\" class=\"data row7 col3\" >690</td>\n",
       "    </tr>\n",
       "    <tr>\n",
       "      <th id=\"T_74a3a_level0_row8\" class=\"row_heading level0 row8\" >CECAFA Cup</th>\n",
       "      <td id=\"T_74a3a_row8_col0\" class=\"data row8 col0\" >147</td>\n",
       "      <td id=\"T_74a3a_row8_col1\" class=\"data row8 col1\" >185</td>\n",
       "      <td id=\"T_74a3a_row8_col2\" class=\"data row8 col2\" >288</td>\n",
       "      <td id=\"T_74a3a_row8_col3\" class=\"data row8 col3\" >620</td>\n",
       "    </tr>\n",
       "    <tr>\n",
       "      <th id=\"T_74a3a_level0_row9\" class=\"row_heading level0 row9\" >CFU Caribbean Cup qualification</th>\n",
       "      <td id=\"T_74a3a_row9_col0\" class=\"data row9 col0\" >124</td>\n",
       "      <td id=\"T_74a3a_row9_col1\" class=\"data row9 col1\" >170</td>\n",
       "      <td id=\"T_74a3a_row9_col2\" class=\"data row9 col2\" >310</td>\n",
       "      <td id=\"T_74a3a_row9_col3\" class=\"data row9 col3\" >604</td>\n",
       "    </tr>\n",
       "  </tbody>\n",
       "</table>\n"
      ],
      "text/plain": [
       "<pandas.io.formats.style.Styler at 0x7f57510859a0>"
      ]
     },
     "execution_count": 14,
     "metadata": {},
     "output_type": "execute_result"
    }
   ],
   "source": [
    "#How home team performs in tournament matches\n",
    "\n",
    "tournament_df=pd.crosstab(data_home[\"tournament\"], data_home[\"Win_Statues\"],margins=True)\n",
    "tournament_df=tournament_df.sort_values(\"All\",ascending=False).head(10)\n",
    "tournament_df.style.bar(color=\"brown\",subset=[\"Draw\",\"Lost\",\"Win\",\"All\"])"
   ]
  },
  {
   "cell_type": "code",
   "execution_count": 15,
   "metadata": {
    "execution": {
     "iopub.execute_input": "2021-08-05T19:45:35.255287Z",
     "iopub.status.busy": "2021-08-05T19:45:35.253872Z",
     "iopub.status.idle": "2021-08-05T19:45:35.539015Z",
     "shell.execute_reply": "2021-08-05T19:45:35.537363Z",
     "shell.execute_reply.started": "2021-08-05T19:45:35.255194Z"
    }
   },
   "outputs": [
    {
     "data": {
      "text/plain": [
       "Text(0.5, 1.0, 'Home Team Winning Status')"
      ]
     },
     "execution_count": 15,
     "metadata": {},
     "output_type": "execute_result"
    },
    {
     "data": {
      "image/png": "[encoded data removed]",
      "text/plain": [
       "<Figure size 360x360 with 1 Axes>"
      ]
     },
     "metadata": {
      "needs_background": "light"
     },
     "output_type": "display_data"
    }
   ],
   "source": [
    "#Home team results\n",
    "sns.displot(data_home, x=\"Win_Statues\")\n",
    "plt.title(\"Home Team Winning Status\")"
   ]
  },
  {
   "cell_type": "code",
   "execution_count": 16,
   "metadata": {
    "execution": {
     "iopub.execute_input": "2021-08-05T19:45:35.540554Z",
     "iopub.status.busy": "2021-08-05T19:45:35.540232Z",
     "iopub.status.idle": "2021-08-05T19:45:35.557663Z",
     "shell.execute_reply": "2021-08-05T19:45:35.556448Z",
     "shell.execute_reply.started": "2021-08-05T19:45:35.540527Z"
    }
   },
   "outputs": [
    {
     "data": {
      "text/plain": [
       "Win     12470\n",
       "Lost     7187\n",
       "Draw     5442\n",
       "Name: Win_Statues, dtype: int64"
      ]
     },
     "execution_count": 16,
     "metadata": {},
     "output_type": "execute_result"
    }
   ],
   "source": [
    "data_home['Win_Statues'].value_counts()"
   ]
  },
  {
   "cell_type": "code",
   "execution_count": 17,
   "metadata": {
    "execution": {
     "iopub.execute_input": "2021-08-05T19:45:35.559454Z",
     "iopub.status.busy": "2021-08-05T19:45:35.559117Z",
     "iopub.status.idle": "2021-08-05T19:45:35.660866Z",
     "shell.execute_reply": "2021-08-05T19:45:35.659820Z",
     "shell.execute_reply.started": "2021-08-05T19:45:35.559413Z"
    }
   },
   "outputs": [
    {
     "data": {
      "text/html": [
       "<style type=\"text/css\">\n",
       "#T_bd3b1_row0_col4 {\n",
       "  width: 10em;\n",
       "  background: linear-gradient(90deg, orange 100.0%, transparent 100.0%);\n",
       "}\n",
       "#T_bd3b1_row1_col4 {\n",
       "  width: 10em;\n",
       "  background: linear-gradient(90deg, orange 95.5%, transparent 95.5%);\n",
       "}\n",
       "#T_bd3b1_row2_col4 {\n",
       "  width: 10em;\n",
       "  background: linear-gradient(90deg, orange 92.2%, transparent 92.2%);\n",
       "}\n",
       "#T_bd3b1_row3_col4 {\n",
       "  width: 10em;\n",
       "  background: linear-gradient(90deg, orange 89.8%, transparent 89.8%);\n",
       "}\n",
       "#T_bd3b1_row4_col4 {\n",
       "  width: 10em;\n",
       "  background: linear-gradient(90deg, orange 89.3%, transparent 89.3%);\n",
       "}\n",
       "#T_bd3b1_row5_col4 {\n",
       "  width: 10em;\n",
       "  background: linear-gradient(90deg, orange 88.3%, transparent 88.3%);\n",
       "}\n",
       "#T_bd3b1_row6_col4 {\n",
       "  width: 10em;\n",
       "  background: linear-gradient(90deg, orange 88.2%, transparent 88.2%);\n",
       "}\n",
       "#T_bd3b1_row7_col4 {\n",
       "  width: 10em;\n",
       "  background: linear-gradient(90deg, orange 88.0%, transparent 88.0%);\n",
       "}\n",
       "#T_bd3b1_row8_col4 {\n",
       "  width: 10em;\n",
       "  background: linear-gradient(90deg, orange 87.5%, transparent 87.5%);\n",
       "}\n",
       "#T_bd3b1_row9_col4 {\n",
       "  width: 10em;\n",
       "  background: linear-gradient(90deg, orange 87.2%, transparent 87.2%);\n",
       "}\n",
       "#T_bd3b1_row10_col4 {\n",
       "  width: 10em;\n",
       "  background: linear-gradient(90deg, orange 86.2%, transparent 86.2%);\n",
       "}\n",
       "#T_bd3b1_row11_col4 {\n",
       "  width: 10em;\n",
       "  background: linear-gradient(90deg, orange 85.5%, transparent 85.5%);\n",
       "}\n",
       "#T_bd3b1_row12_col4 {\n",
       "  width: 10em;\n",
       "  background: linear-gradient(90deg, orange 84.8%, transparent 84.8%);\n",
       "}\n",
       "#T_bd3b1_row13_col4 {\n",
       "  width: 10em;\n",
       "  background: linear-gradient(90deg, orange 84.3%, transparent 84.3%);\n",
       "}\n",
       "#T_bd3b1_row14_col4 {\n",
       "  width: 10em;\n",
       "  background: linear-gradient(90deg, orange 83.3%, transparent 83.3%);\n",
       "}\n",
       "#T_bd3b1_row15_col4 {\n",
       "  width: 10em;\n",
       "  background: linear-gradient(90deg, orange 83.1%, transparent 83.1%);\n",
       "}\n",
       "#T_bd3b1_row16_col4 {\n",
       "  width: 10em;\n",
       "  background: linear-gradient(90deg, orange 82.6%, transparent 82.6%);\n",
       "}\n",
       "#T_bd3b1_row17_col4 {\n",
       "  width: 10em;\n",
       "  background: linear-gradient(90deg, orange 82.1%, transparent 82.1%);\n",
       "}\n",
       "#T_bd3b1_row18_col4 {\n",
       "  width: 10em;\n",
       "  background: linear-gradient(90deg, orange 81.9%, transparent 81.9%);\n",
       "}\n",
       "#T_bd3b1_row19_col4 {\n",
       "  width: 10em;\n",
       "  background: linear-gradient(90deg, orange 81.8%, transparent 81.8%);\n",
       "}\n",
       "</style>\n",
       "<table id=\"T_bd3b1\">\n",
       "  <thead>\n",
       "    <tr>\n",
       "      <th class=\"index_name level0\" >Win_Statues</th>\n",
       "      <th id=\"T_bd3b1_level0_col0\" class=\"col_heading level0 col0\" >Draw</th>\n",
       "      <th id=\"T_bd3b1_level0_col1\" class=\"col_heading level0 col1\" >Lost</th>\n",
       "      <th id=\"T_bd3b1_level0_col2\" class=\"col_heading level0 col2\" >Win</th>\n",
       "      <th id=\"T_bd3b1_level0_col3\" class=\"col_heading level0 col3\" >Total</th>\n",
       "      <th id=\"T_bd3b1_level0_col4\" class=\"col_heading level0 col4\" >team_win_probability</th>\n",
       "    </tr>\n",
       "    <tr>\n",
       "      <th class=\"index_name level0\" >home_team</th>\n",
       "      <th class=\"blank col0\" >&nbsp;</th>\n",
       "      <th class=\"blank col1\" >&nbsp;</th>\n",
       "      <th class=\"blank col2\" >&nbsp;</th>\n",
       "      <th class=\"blank col3\" >&nbsp;</th>\n",
       "      <th class=\"blank col4\" >&nbsp;</th>\n",
       "    </tr>\n",
       "  </thead>\n",
       "  <tbody>\n",
       "    <tr>\n",
       "      <th id=\"T_bd3b1_level0_row0\" class=\"row_heading level0 row0\" >Brazil</th>\n",
       "      <td id=\"T_bd3b1_row0_col0\" class=\"data row0 col0\" >110</td>\n",
       "      <td id=\"T_bd3b1_row0_col1\" class=\"data row0 col1\" >57</td>\n",
       "      <td id=\"T_bd3b1_row0_col2\" class=\"data row0 col2\" >414</td>\n",
       "      <td id=\"T_bd3b1_row0_col3\" class=\"data row0 col3\" >581</td>\n",
       "      <td id=\"T_bd3b1_row0_col4\" class=\"data row0 col4\" >0.712565</td>\n",
       "    </tr>\n",
       "    <tr>\n",
       "      <th id=\"T_bd3b1_level0_row1\" class=\"row_heading level0 row1\" >Spain</th>\n",
       "      <td id=\"T_bd3b1_row1_col0\" class=\"data row1 col0\" >69</td>\n",
       "      <td id=\"T_bd3b1_row1_col1\" class=\"data row1 col1\" >49</td>\n",
       "      <td id=\"T_bd3b1_row1_col2\" class=\"data row1 col2\" >251</td>\n",
       "      <td id=\"T_bd3b1_row1_col3\" class=\"data row1 col3\" >369</td>\n",
       "      <td id=\"T_bd3b1_row1_col4\" class=\"data row1 col4\" >0.680217</td>\n",
       "    </tr>\n",
       "    <tr>\n",
       "      <th id=\"T_bd3b1_level0_row2\" class=\"row_heading level0 row2\" >Argentina</th>\n",
       "      <td id=\"T_bd3b1_row2_col0\" class=\"data row2 col0\" >123</td>\n",
       "      <td id=\"T_bd3b1_row2_col1\" class=\"data row2 col1\" >68</td>\n",
       "      <td id=\"T_bd3b1_row2_col2\" class=\"data row2 col2\" >366</td>\n",
       "      <td id=\"T_bd3b1_row2_col3\" class=\"data row2 col3\" >557</td>\n",
       "      <td id=\"T_bd3b1_row2_col4\" class=\"data row2 col4\" >0.657092</td>\n",
       "    </tr>\n",
       "    <tr>\n",
       "      <th id=\"T_bd3b1_level0_row3\" class=\"row_heading level0 row3\" >Ivory Coast</th>\n",
       "      <td id=\"T_bd3b1_row3_col0\" class=\"data row3 col0\" >64</td>\n",
       "      <td id=\"T_bd3b1_row3_col1\" class=\"data row3 col1\" >35</td>\n",
       "      <td id=\"T_bd3b1_row3_col2\" class=\"data row3 col2\" >176</td>\n",
       "      <td id=\"T_bd3b1_row3_col3\" class=\"data row3 col3\" >275</td>\n",
       "      <td id=\"T_bd3b1_row3_col4\" class=\"data row3 col4\" >0.640000</td>\n",
       "    </tr>\n",
       "    <tr>\n",
       "      <th id=\"T_bd3b1_level0_row4\" class=\"row_heading level0 row4\" >Iran</th>\n",
       "      <td id=\"T_bd3b1_row4_col0\" class=\"data row4 col0\" >61</td>\n",
       "      <td id=\"T_bd3b1_row4_col1\" class=\"data row4 col1\" >42</td>\n",
       "      <td id=\"T_bd3b1_row4_col2\" class=\"data row4 col2\" >180</td>\n",
       "      <td id=\"T_bd3b1_row4_col3\" class=\"data row4 col3\" >283</td>\n",
       "      <td id=\"T_bd3b1_row4_col4\" class=\"data row4 col4\" >0.636042</td>\n",
       "    </tr>\n",
       "    <tr>\n",
       "      <th id=\"T_bd3b1_level0_row5\" class=\"row_heading level0 row5\" >Italy</th>\n",
       "      <td id=\"T_bd3b1_row5_col0\" class=\"data row5 col0\" >120</td>\n",
       "      <td id=\"T_bd3b1_row5_col1\" class=\"data row5 col1\" >49</td>\n",
       "      <td id=\"T_bd3b1_row5_col2\" class=\"data row5 col2\" >287</td>\n",
       "      <td id=\"T_bd3b1_row5_col3\" class=\"data row5 col3\" >456</td>\n",
       "      <td id=\"T_bd3b1_row5_col4\" class=\"data row5 col4\" >0.629386</td>\n",
       "    </tr>\n",
       "    <tr>\n",
       "      <th id=\"T_bd3b1_level0_row6\" class=\"row_heading level0 row6\" >Nigeria</th>\n",
       "      <td id=\"T_bd3b1_row6_col0\" class=\"data row6 col0\" >67</td>\n",
       "      <td id=\"T_bd3b1_row6_col1\" class=\"data row6 col1\" >34</td>\n",
       "      <td id=\"T_bd3b1_row6_col2\" class=\"data row6 col2\" >171</td>\n",
       "      <td id=\"T_bd3b1_row6_col3\" class=\"data row6 col3\" >272</td>\n",
       "      <td id=\"T_bd3b1_row6_col4\" class=\"data row6 col4\" >0.628676</td>\n",
       "    </tr>\n",
       "    <tr>\n",
       "      <th id=\"T_bd3b1_level0_row7\" class=\"row_heading level0 row7\" >Egypt</th>\n",
       "      <td id=\"T_bd3b1_row7_col0\" class=\"data row7 col0\" >68</td>\n",
       "      <td id=\"T_bd3b1_row7_col1\" class=\"data row7 col1\" >74</td>\n",
       "      <td id=\"T_bd3b1_row7_col2\" class=\"data row7 col2\" >239</td>\n",
       "      <td id=\"T_bd3b1_row7_col3\" class=\"data row7 col3\" >381</td>\n",
       "      <td id=\"T_bd3b1_row7_col4\" class=\"data row7 col4\" >0.627297</td>\n",
       "    </tr>\n",
       "    <tr>\n",
       "      <th id=\"T_bd3b1_level0_row8\" class=\"row_heading level0 row8\" >England</th>\n",
       "      <td id=\"T_bd3b1_row8_col0\" class=\"data row8 col0\" >111</td>\n",
       "      <td id=\"T_bd3b1_row8_col1\" class=\"data row8 col1\" >82</td>\n",
       "      <td id=\"T_bd3b1_row8_col2\" class=\"data row8 col2\" >320</td>\n",
       "      <td id=\"T_bd3b1_row8_col3\" class=\"data row8 col3\" >513</td>\n",
       "      <td id=\"T_bd3b1_row8_col4\" class=\"data row8 col4\" >0.623782</td>\n",
       "    </tr>\n",
       "    <tr>\n",
       "      <th id=\"T_bd3b1_level0_row9\" class=\"row_heading level0 row9\" >Germany</th>\n",
       "      <td id=\"T_bd3b1_row9_col0\" class=\"data row9 col0\" >111</td>\n",
       "      <td id=\"T_bd3b1_row9_col1\" class=\"data row9 col1\" >85</td>\n",
       "      <td id=\"T_bd3b1_row9_col2\" class=\"data row9 col2\" >322</td>\n",
       "      <td id=\"T_bd3b1_row9_col3\" class=\"data row9 col3\" >518</td>\n",
       "      <td id=\"T_bd3b1_row9_col4\" class=\"data row9 col4\" >0.621622</td>\n",
       "    </tr>\n",
       "    <tr>\n",
       "      <th id=\"T_bd3b1_level0_row10\" class=\"row_heading level0 row10\" >Ghana</th>\n",
       "      <td id=\"T_bd3b1_row10_col0\" class=\"data row10 col0\" >72</td>\n",
       "      <td id=\"T_bd3b1_row10_col1\" class=\"data row10 col1\" >39</td>\n",
       "      <td id=\"T_bd3b1_row10_col2\" class=\"data row10 col2\" >177</td>\n",
       "      <td id=\"T_bd3b1_row10_col3\" class=\"data row10 col3\" >288</td>\n",
       "      <td id=\"T_bd3b1_row10_col4\" class=\"data row10 col4\" >0.614583</td>\n",
       "    </tr>\n",
       "    <tr>\n",
       "      <th id=\"T_bd3b1_level0_row11\" class=\"row_heading level0 row11\" >Russia</th>\n",
       "      <td id=\"T_bd3b1_row11_col0\" class=\"data row11 col0\" >70</td>\n",
       "      <td id=\"T_bd3b1_row11_col1\" class=\"data row11 col1\" >50</td>\n",
       "      <td id=\"T_bd3b1_row11_col2\" class=\"data row11 col2\" >187</td>\n",
       "      <td id=\"T_bd3b1_row11_col3\" class=\"data row11 col3\" >307</td>\n",
       "      <td id=\"T_bd3b1_row11_col4\" class=\"data row11 col4\" >0.609121</td>\n",
       "    </tr>\n",
       "    <tr>\n",
       "      <th id=\"T_bd3b1_level0_row12\" class=\"row_heading level0 row12\" >Czechoslovakia</th>\n",
       "      <td id=\"T_bd3b1_row12_col0\" class=\"data row12 col0\" >51</td>\n",
       "      <td id=\"T_bd3b1_row12_col1\" class=\"data row12 col1\" >40</td>\n",
       "      <td id=\"T_bd3b1_row12_col2\" class=\"data row12 col2\" >139</td>\n",
       "      <td id=\"T_bd3b1_row12_col3\" class=\"data row12 col3\" >230</td>\n",
       "      <td id=\"T_bd3b1_row12_col4\" class=\"data row12 col4\" >0.604348</td>\n",
       "    </tr>\n",
       "    <tr>\n",
       "      <th id=\"T_bd3b1_level0_row13\" class=\"row_heading level0 row13\" >Morocco</th>\n",
       "      <td id=\"T_bd3b1_row13_col0\" class=\"data row13 col0\" >68</td>\n",
       "      <td id=\"T_bd3b1_row13_col1\" class=\"data row13 col1\" >47</td>\n",
       "      <td id=\"T_bd3b1_row13_col2\" class=\"data row13 col2\" >173</td>\n",
       "      <td id=\"T_bd3b1_row13_col3\" class=\"data row13 col3\" >288</td>\n",
       "      <td id=\"T_bd3b1_row13_col4\" class=\"data row13 col4\" >0.600694</td>\n",
       "    </tr>\n",
       "    <tr>\n",
       "      <th id=\"T_bd3b1_level0_row14\" class=\"row_heading level0 row14\" >South Korea</th>\n",
       "      <td id=\"T_bd3b1_row14_col0\" class=\"data row14 col0\" >112</td>\n",
       "      <td id=\"T_bd3b1_row14_col1\" class=\"data row14 col1\" >79</td>\n",
       "      <td id=\"T_bd3b1_row14_col2\" class=\"data row14 col2\" >279</td>\n",
       "      <td id=\"T_bd3b1_row14_col3\" class=\"data row14 col3\" >470</td>\n",
       "      <td id=\"T_bd3b1_row14_col4\" class=\"data row14 col4\" >0.593617</td>\n",
       "    </tr>\n",
       "    <tr>\n",
       "      <th id=\"T_bd3b1_level0_row15\" class=\"row_heading level0 row15\" >Senegal</th>\n",
       "      <td id=\"T_bd3b1_row15_col0\" class=\"data row15 col0\" >55</td>\n",
       "      <td id=\"T_bd3b1_row15_col1\" class=\"data row15 col1\" >36</td>\n",
       "      <td id=\"T_bd3b1_row15_col2\" class=\"data row15 col2\" >132</td>\n",
       "      <td id=\"T_bd3b1_row15_col3\" class=\"data row15 col3\" >223</td>\n",
       "      <td id=\"T_bd3b1_row15_col4\" class=\"data row15 col4\" >0.591928</td>\n",
       "    </tr>\n",
       "    <tr>\n",
       "      <th id=\"T_bd3b1_level0_row16\" class=\"row_heading level0 row16\" >Mexico</th>\n",
       "      <td id=\"T_bd3b1_row16_col0\" class=\"data row16 col0\" >116</td>\n",
       "      <td id=\"T_bd3b1_row16_col1\" class=\"data row16 col1\" >98</td>\n",
       "      <td id=\"T_bd3b1_row16_col2\" class=\"data row16 col2\" >306</td>\n",
       "      <td id=\"T_bd3b1_row16_col3\" class=\"data row16 col3\" >520</td>\n",
       "      <td id=\"T_bd3b1_row16_col4\" class=\"data row16 col4\" >0.588462</td>\n",
       "    </tr>\n",
       "    <tr>\n",
       "      <th id=\"T_bd3b1_level0_row17\" class=\"row_heading level0 row17\" >Costa Rica</th>\n",
       "      <td id=\"T_bd3b1_row17_col0\" class=\"data row17 col0\" >77</td>\n",
       "      <td id=\"T_bd3b1_row17_col1\" class=\"data row17 col1\" >50</td>\n",
       "      <td id=\"T_bd3b1_row17_col2\" class=\"data row17 col2\" >179</td>\n",
       "      <td id=\"T_bd3b1_row17_col3\" class=\"data row17 col3\" >306</td>\n",
       "      <td id=\"T_bd3b1_row17_col4\" class=\"data row17 col4\" >0.584967</td>\n",
       "    </tr>\n",
       "    <tr>\n",
       "      <th id=\"T_bd3b1_level0_row18\" class=\"row_heading level0 row18\" >Sweden</th>\n",
       "      <td id=\"T_bd3b1_row18_col0\" class=\"data row18 col0\" >105</td>\n",
       "      <td id=\"T_bd3b1_row18_col1\" class=\"data row18 col1\" >102</td>\n",
       "      <td id=\"T_bd3b1_row18_col2\" class=\"data row18 col2\" >290</td>\n",
       "      <td id=\"T_bd3b1_row18_col3\" class=\"data row18 col3\" >497</td>\n",
       "      <td id=\"T_bd3b1_row18_col4\" class=\"data row18 col4\" >0.583501</td>\n",
       "    </tr>\n",
       "    <tr>\n",
       "      <th id=\"T_bd3b1_level0_row19\" class=\"row_heading level0 row19\" >Iraq</th>\n",
       "      <td id=\"T_bd3b1_row19_col0\" class=\"data row19 col0\" >72</td>\n",
       "      <td id=\"T_bd3b1_row19_col1\" class=\"data row19 col1\" >44</td>\n",
       "      <td id=\"T_bd3b1_row19_col2\" class=\"data row19 col2\" >162</td>\n",
       "      <td id=\"T_bd3b1_row19_col3\" class=\"data row19 col3\" >278</td>\n",
       "      <td id=\"T_bd3b1_row19_col4\" class=\"data row19 col4\" >0.582734</td>\n",
       "    </tr>\n",
       "  </tbody>\n",
       "</table>\n"
      ],
      "text/plain": [
       "<pandas.io.formats.style.Styler at 0x7f5750ce33d0>"
      ]
     },
     "execution_count": 17,
     "metadata": {},
     "output_type": "execute_result"
    }
   ],
   "source": [
    "#How each team perform while playing a tournament in home grounds\n",
    "\n",
    "teams_win_statues=pd.crosstab(df[\"home_team\"], df[\"Win_Statues\"],margins=True, margins_name=\"Total\")\n",
    "teams_win_statues[\"team_win_probability\"]=teams_win_statues[\"Win\"]/(teams_win_statues[\"Total\"])\n",
    "#Lets take teams which plays atleast 200 games\n",
    "teams_win_statues_100=teams_win_statues.loc[teams_win_statues[\"Total\"]>200]\n",
    "teams_win_statues_100=teams_win_statues_100.sort_values(\"team_win_probability\",ascending=False)\n",
    "teams_win_statues_100.head(20).style.bar(color=\"orange\",subset=\"team_win_probability\")\n",
    "\n",
    "#We can see teams has more than 50% wining probability while playing in the home grounds "
   ]
  },
  {
   "cell_type": "markdown",
   "metadata": {},
   "source": [
    "**Away team winning statistics**"
   ]
  },
  {
   "cell_type": "code",
   "execution_count": 18,
   "metadata": {
    "execution": {
     "iopub.execute_input": "2021-08-05T19:45:35.662880Z",
     "iopub.status.busy": "2021-08-05T19:45:35.662475Z",
     "iopub.status.idle": "2021-08-05T19:45:35.767975Z",
     "shell.execute_reply": "2021-08-05T19:45:35.766733Z",
     "shell.execute_reply.started": "2021-08-05T19:45:35.662839Z"
    }
   },
   "outputs": [
    {
     "data": {
      "text/html": [
       "<div>\n",
       "<style scoped>\n",
       "    .dataframe tbody tr th:only-of-type {\n",
       "        vertical-align: middle;\n",
       "    }\n",
       "\n",
       "    .dataframe tbody tr th {\n",
       "        vertical-align: top;\n",
       "    }\n",
       "\n",
       "    .dataframe thead th {\n",
       "        text-align: right;\n",
       "    }\n",
       "</style>\n",
       "<table border=\"1\" class=\"dataframe\">\n",
       "  <thead>\n",
       "    <tr style=\"text-align: right;\">\n",
       "      <th>Win_Statues</th>\n",
       "      <th>Draw</th>\n",
       "      <th>Win</th>\n",
       "      <th>Win</th>\n",
       "      <th>Total</th>\n",
       "      <th>team_win_probability</th>\n",
       "    </tr>\n",
       "    <tr>\n",
       "      <th>away_team</th>\n",
       "      <th></th>\n",
       "      <th></th>\n",
       "      <th></th>\n",
       "      <th></th>\n",
       "      <th></th>\n",
       "    </tr>\n",
       "  </thead>\n",
       "  <tbody>\n",
       "    <tr>\n",
       "      <th>Germany</th>\n",
       "      <td>89</td>\n",
       "      <td>241</td>\n",
       "      <td>119</td>\n",
       "      <td>449</td>\n",
       "      <td>0.536748</td>\n",
       "    </tr>\n",
       "    <tr>\n",
       "      <th>Brazil</th>\n",
       "      <td>92</td>\n",
       "      <td>224</td>\n",
       "      <td>102</td>\n",
       "      <td>418</td>\n",
       "      <td>0.535885</td>\n",
       "    </tr>\n",
       "    <tr>\n",
       "      <th>England</th>\n",
       "      <td>134</td>\n",
       "      <td>267</td>\n",
       "      <td>115</td>\n",
       "      <td>516</td>\n",
       "      <td>0.517442</td>\n",
       "    </tr>\n",
       "    <tr>\n",
       "      <th>Spain</th>\n",
       "      <td>99</td>\n",
       "      <td>163</td>\n",
       "      <td>82</td>\n",
       "      <td>344</td>\n",
       "      <td>0.473837</td>\n",
       "    </tr>\n",
       "    <tr>\n",
       "      <th>South Korea</th>\n",
       "      <td>110</td>\n",
       "      <td>178</td>\n",
       "      <td>109</td>\n",
       "      <td>397</td>\n",
       "      <td>0.448363</td>\n",
       "    </tr>\n",
       "    <tr>\n",
       "      <th>Iran</th>\n",
       "      <td>67</td>\n",
       "      <td>97</td>\n",
       "      <td>57</td>\n",
       "      <td>221</td>\n",
       "      <td>0.438914</td>\n",
       "    </tr>\n",
       "    <tr>\n",
       "      <th>Netherlands</th>\n",
       "      <td>81</td>\n",
       "      <td>163</td>\n",
       "      <td>129</td>\n",
       "      <td>373</td>\n",
       "      <td>0.436997</td>\n",
       "    </tr>\n",
       "    <tr>\n",
       "      <th>Russia</th>\n",
       "      <td>116</td>\n",
       "      <td>175</td>\n",
       "      <td>112</td>\n",
       "      <td>403</td>\n",
       "      <td>0.434243</td>\n",
       "    </tr>\n",
       "    <tr>\n",
       "      <th>Japan</th>\n",
       "      <td>53</td>\n",
       "      <td>111</td>\n",
       "      <td>93</td>\n",
       "      <td>257</td>\n",
       "      <td>0.431907</td>\n",
       "    </tr>\n",
       "    <tr>\n",
       "      <th>Italy</th>\n",
       "      <td>109</td>\n",
       "      <td>151</td>\n",
       "      <td>104</td>\n",
       "      <td>364</td>\n",
       "      <td>0.414835</td>\n",
       "    </tr>\n",
       "    <tr>\n",
       "      <th>Australia</th>\n",
       "      <td>56</td>\n",
       "      <td>93</td>\n",
       "      <td>76</td>\n",
       "      <td>225</td>\n",
       "      <td>0.413333</td>\n",
       "    </tr>\n",
       "    <tr>\n",
       "      <th>Sweden</th>\n",
       "      <td>121</td>\n",
       "      <td>220</td>\n",
       "      <td>198</td>\n",
       "      <td>539</td>\n",
       "      <td>0.408163</td>\n",
       "    </tr>\n",
       "    <tr>\n",
       "      <th>Yugoslavia</th>\n",
       "      <td>61</td>\n",
       "      <td>115</td>\n",
       "      <td>115</td>\n",
       "      <td>291</td>\n",
       "      <td>0.395189</td>\n",
       "    </tr>\n",
       "    <tr>\n",
       "      <th>France</th>\n",
       "      <td>82</td>\n",
       "      <td>143</td>\n",
       "      <td>139</td>\n",
       "      <td>364</td>\n",
       "      <td>0.392857</td>\n",
       "    </tr>\n",
       "    <tr>\n",
       "      <th>Zambia</th>\n",
       "      <td>105</td>\n",
       "      <td>166</td>\n",
       "      <td>155</td>\n",
       "      <td>426</td>\n",
       "      <td>0.389671</td>\n",
       "    </tr>\n",
       "    <tr>\n",
       "      <th>Mexico</th>\n",
       "      <td>87</td>\n",
       "      <td>141</td>\n",
       "      <td>134</td>\n",
       "      <td>362</td>\n",
       "      <td>0.389503</td>\n",
       "    </tr>\n",
       "    <tr>\n",
       "      <th>Scotland</th>\n",
       "      <td>89</td>\n",
       "      <td>158</td>\n",
       "      <td>161</td>\n",
       "      <td>408</td>\n",
       "      <td>0.387255</td>\n",
       "    </tr>\n",
       "    <tr>\n",
       "      <th>Portugal</th>\n",
       "      <td>64</td>\n",
       "      <td>115</td>\n",
       "      <td>119</td>\n",
       "      <td>298</td>\n",
       "      <td>0.385906</td>\n",
       "    </tr>\n",
       "    <tr>\n",
       "      <th>Argentina</th>\n",
       "      <td>126</td>\n",
       "      <td>168</td>\n",
       "      <td>145</td>\n",
       "      <td>439</td>\n",
       "      <td>0.382688</td>\n",
       "    </tr>\n",
       "    <tr>\n",
       "      <th>Hungary</th>\n",
       "      <td>106</td>\n",
       "      <td>183</td>\n",
       "      <td>195</td>\n",
       "      <td>484</td>\n",
       "      <td>0.378099</td>\n",
       "    </tr>\n",
       "  </tbody>\n",
       "</table>\n",
       "</div>"
      ],
      "text/plain": [
       "Win_Statues  Draw  Win  Win  Total  team_win_probability\n",
       "away_team                                               \n",
       "Germany        89  241  119    449              0.536748\n",
       "Brazil         92  224  102    418              0.535885\n",
       "England       134  267  115    516              0.517442\n",
       "Spain          99  163   82    344              0.473837\n",
       "South Korea   110  178  109    397              0.448363\n",
       "Iran           67   97   57    221              0.438914\n",
       "Netherlands    81  163  129    373              0.436997\n",
       "Russia        116  175  112    403              0.434243\n",
       "Japan          53  111   93    257              0.431907\n",
       "Italy         109  151  104    364              0.414835\n",
       "Australia      56   93   76    225              0.413333\n",
       "Sweden        121  220  198    539              0.408163\n",
       "Yugoslavia     61  115  115    291              0.395189\n",
       "France         82  143  139    364              0.392857\n",
       "Zambia        105  166  155    426              0.389671\n",
       "Mexico         87  141  134    362              0.389503\n",
       "Scotland       89  158  161    408              0.387255\n",
       "Portugal       64  115  119    298              0.385906\n",
       "Argentina     126  168  145    439              0.382688\n",
       "Hungary       106  183  195    484              0.378099"
      ]
     },
     "execution_count": 18,
     "metadata": {},
     "output_type": "execute_result"
    }
   ],
   "source": [
    "#Teams playing in away conditions\n",
    "\n",
    "teams_away_statues=pd.crosstab(df[\"away_team\"], df[\"Win_Statues\"],margins=True, margins_name=\"Total\")\n",
    "teams_away_statues[\"team_win_probability\"]=teams_away_statues[\"Lost\"]/(teams_away_statues[\"Total\"])\n",
    "#Lets take teams which plays atleast 200 games\n",
    "teams_away_statues_100=teams_away_statues.loc[teams_away_statues[\"Total\"]>200]\n",
    "teams_away_statues_100=teams_away_statues_100.sort_values(\"team_win_probability\",ascending=False)\n",
    "teams_away_statues_100.rename(columns={'Lost': 'Win'}, index={'Win': 'Lost'}, inplace=True)\n",
    "teams_away_statues_100.head(20)\n",
    "\n",
    "#The probability to wining a tournament in away conditions is very low comapred to the winning probalities in home conditions"
   ]
  },
  {
   "cell_type": "code",
   "execution_count": 19,
   "metadata": {
    "execution": {
     "iopub.execute_input": "2021-08-05T19:45:35.773006Z",
     "iopub.status.busy": "2021-08-05T19:45:35.772676Z",
     "iopub.status.idle": "2021-08-05T19:45:36.916678Z",
     "shell.execute_reply": "2021-08-05T19:45:36.915681Z",
     "shell.execute_reply.started": "2021-08-05T19:45:35.772974Z"
    }
   },
   "outputs": [
    {
     "data": {
      "image/png": "[encoded data removed]",
      "text/plain": [
       "<Figure size 1008x432 with 1 Axes>"
      ]
     },
     "metadata": {
      "needs_background": "light"
     },
     "output_type": "display_data"
    }
   ],
   "source": [
    "#Making a plot to identify wining possibilities in both home and away conditions\n",
    "\n",
    "win_prob={teams_win_statues_100.iloc[i,:].name:[teams_win_statues_100.iloc[i,4]] for i in range(teams_win_statues_100.shape[0])}\n",
    "for i in range(teams_away_statues_100.shape[0]):\n",
    "    try:\n",
    "        win_prob[teams_away_statues_100.iloc[i,:].name].append(teams_away_statues_100.iloc[i,4]) \n",
    "    except:\n",
    "        pass\n",
    "country_names=win_prob.keys()\n",
    "lst_home=[i[0] for i in win_prob.values()]\n",
    "\n",
    "lst_away=[]\n",
    "for i in win_prob.values():\n",
    "    if len(i)==2:\n",
    "        lst_away.append(i[1])\n",
    "    else:\n",
    "        lst_away.append(0)\n",
    "\n",
    "plt.figure(figsize=(14,6))\n",
    "plt.plot(country_names,lst_home, label = \"Home Win Probability\")\n",
    "plt.plot(country_names, lst_away, label = \"Away Win Probability\")\n",
    "plt.xticks(rotation = 90)\n",
    "plt.title(\"Winning Probability of each team (Home and Away)\")\n",
    "plt.legend()\n",
    "plt.show()"
   ]
  },
  {
   "cell_type": "markdown",
   "metadata": {},
   "source": [
    "Blue line is alway above the yellow line,showing home winning possibilies are always higher.\n",
    "\n",
    "**Finally by analysing the data, we can identify that the home team has a clear edge while playing a tournament in their home grounds**\n",
    "\n"
   ]
  },
  {
   "cell_type": "markdown",
   "metadata": {},
   "source": [
    "### (2) Finding Most Succesful Team\n",
    "\n",
    "**Finding the team which performs best in home conditions each year interval**"
   ]
  },
  {
   "cell_type": "code",
   "execution_count": 20,
   "metadata": {
    "execution": {
     "iopub.execute_input": "2021-08-05T19:45:36.919384Z",
     "iopub.status.busy": "2021-08-05T19:45:36.919053Z",
     "iopub.status.idle": "2021-08-05T19:45:37.449423Z",
     "shell.execute_reply": "2021-08-05T19:45:37.448026Z",
     "shell.execute_reply.started": "2021-08-05T19:45:36.919350Z"
    }
   },
   "outputs": [
    {
     "name": "stdout",
     "output_type": "stream",
     "text": [
      "No Enough data to find the best team in the term: 1872-1886 \n",
      "\n",
      "Best 2 team in the term: 1886-1900 \n"
     ]
    },
    {
     "ename": "ImportError",
     "evalue": "Missing optional dependency 'tabulate'.  Use pip or conda to install tabulate.",
     "output_type": "error",
     "traceback": [
      "\u001b[0;31m---------------------------------------------------------------------------\u001b[0m",
      "\u001b[0;31mModuleNotFoundError\u001b[0m                       Traceback (most recent call last)",
      "File \u001b[0;32m~/.local/lib/python3.9/site-packages/pandas/compat/_optional.py:138\u001b[0m, in \u001b[0;36mimport_optional_dependency\u001b[0;34m(name, extra, errors, min_version)\u001b[0m\n\u001b[1;32m    137\u001b[0m \u001b[38;5;28;01mtry\u001b[39;00m:\n\u001b[0;32m--> 138\u001b[0m     module \u001b[38;5;241m=\u001b[39m \u001b[43mimportlib\u001b[49m\u001b[38;5;241;43m.\u001b[39;49m\u001b[43mimport_module\u001b[49m\u001b[43m(\u001b[49m\u001b[43mname\u001b[49m\u001b[43m)\u001b[49m\n\u001b[1;32m    139\u001b[0m \u001b[38;5;28;01mexcept\u001b[39;00m \u001b[38;5;167;01mImportError\u001b[39;00m:\n",
      "File \u001b[0;32m/usr/lib/python3.9/importlib/__init__.py:127\u001b[0m, in \u001b[0;36mimport_module\u001b[0;34m(name, package)\u001b[0m\n\u001b[1;32m    126\u001b[0m         level \u001b[38;5;241m+\u001b[39m\u001b[38;5;241m=\u001b[39m \u001b[38;5;241m1\u001b[39m\n\u001b[0;32m--> 127\u001b[0m \u001b[38;5;28;01mreturn\u001b[39;00m \u001b[43m_bootstrap\u001b[49m\u001b[38;5;241;43m.\u001b[39;49m\u001b[43m_gcd_import\u001b[49m\u001b[43m(\u001b[49m\u001b[43mname\u001b[49m\u001b[43m[\u001b[49m\u001b[43mlevel\u001b[49m\u001b[43m:\u001b[49m\u001b[43m]\u001b[49m\u001b[43m,\u001b[49m\u001b[43m \u001b[49m\u001b[43mpackage\u001b[49m\u001b[43m,\u001b[49m\u001b[43m \u001b[49m\u001b[43mlevel\u001b[49m\u001b[43m)\u001b[49m\n",
      "File \u001b[0;32m<frozen importlib._bootstrap>:1030\u001b[0m, in \u001b[0;36m_gcd_import\u001b[0;34m(name, package, level)\u001b[0m\n",
      "File \u001b[0;32m<frozen importlib._bootstrap>:1007\u001b[0m, in \u001b[0;36m_find_and_load\u001b[0;34m(name, import_)\u001b[0m\n",
      "File \u001b[0;32m<frozen importlib._bootstrap>:984\u001b[0m, in \u001b[0;36m_find_and_load_unlocked\u001b[0;34m(name, import_)\u001b[0m\n",
      "\u001b[0;31mModuleNotFoundError\u001b[0m: No module named 'tabulate'",
      "\nDuring handling of the above exception, another exception occurred:\n",
      "\u001b[0;31mImportError\u001b[0m                               Traceback (most recent call last)",
      "Input \u001b[0;32mIn [20]\u001b[0m, in \u001b[0;36m<cell line: 7>\u001b[0;34m()\u001b[0m\n\u001b[1;32m     17\u001b[0m \u001b[38;5;28;01mif\u001b[39;00m (best_teams\u001b[38;5;241m.\u001b[39mshape[\u001b[38;5;241m0\u001b[39m]\u001b[38;5;241m>\u001b[39m\u001b[38;5;241m2\u001b[39m):\n\u001b[1;32m     18\u001b[0m     \u001b[38;5;28mprint\u001b[39m(\u001b[38;5;124mf\u001b[39m\u001b[38;5;124m\"\u001b[39m\u001b[38;5;130;01m\\n\u001b[39;00m\u001b[38;5;124mBest 2 team in the term: \u001b[39m\u001b[38;5;132;01m{\u001b[39;00mterm_size\u001b[38;5;241m*\u001b[39mi\u001b[38;5;241m+\u001b[39m\u001b[38;5;28mmin\u001b[39m(years)\u001b[38;5;132;01m}\u001b[39;00m\u001b[38;5;124m-\u001b[39m\u001b[38;5;132;01m{\u001b[39;00m\u001b[38;5;28mmin\u001b[39m(term_size\u001b[38;5;241m*\u001b[39m(i\u001b[38;5;241m+\u001b[39m\u001b[38;5;241m1\u001b[39m)\u001b[38;5;241m+\u001b[39m\u001b[38;5;28mmin\u001b[39m(years),\u001b[38;5;241m2021\u001b[39m)\u001b[38;5;132;01m}\u001b[39;00m\u001b[38;5;124m \u001b[39m\u001b[38;5;124m\"\u001b[39m)\n\u001b[0;32m---> 19\u001b[0m     \u001b[38;5;28mprint\u001b[39m(\u001b[43mbest_teams\u001b[49m\u001b[38;5;241;43m.\u001b[39;49m\u001b[43miloc\u001b[49m\u001b[43m[\u001b[49m\u001b[38;5;241;43m0\u001b[39;49m\u001b[43m:\u001b[49m\u001b[38;5;241;43m2\u001b[39;49m\u001b[43m]\u001b[49m\u001b[38;5;241;43m.\u001b[39;49m\u001b[43mto_markdown\u001b[49m\u001b[43m(\u001b[49m\u001b[43m)\u001b[49m)\n\u001b[1;32m     20\u001b[0m \u001b[38;5;28;01melse\u001b[39;00m:\n\u001b[1;32m     21\u001b[0m     \u001b[38;5;28mprint\u001b[39m(\u001b[38;5;124mf\u001b[39m\u001b[38;5;124m\"\u001b[39m\u001b[38;5;124mNo Enough data to find the best team in the term: \u001b[39m\u001b[38;5;132;01m{\u001b[39;00mterm_size\u001b[38;5;241m*\u001b[39mi\u001b[38;5;241m+\u001b[39m\u001b[38;5;28mmin\u001b[39m(years)\u001b[38;5;132;01m}\u001b[39;00m\u001b[38;5;124m-\u001b[39m\u001b[38;5;132;01m{\u001b[39;00m\u001b[38;5;28mmin\u001b[39m(term_size\u001b[38;5;241m*\u001b[39m(i\u001b[38;5;241m+\u001b[39m\u001b[38;5;241m1\u001b[39m)\u001b[38;5;241m+\u001b[39m\u001b[38;5;28mmin\u001b[39m(years),\u001b[38;5;241m2021\u001b[39m)\u001b[38;5;132;01m}\u001b[39;00m\u001b[38;5;124m \u001b[39m\u001b[38;5;124m\"\u001b[39m)\n",
      "File \u001b[0;32m~/.local/lib/python3.9/site-packages/pandas/core/frame.py:2728\u001b[0m, in \u001b[0;36mDataFrame.to_markdown\u001b[0;34m(self, buf, mode, index, storage_options, **kwargs)\u001b[0m\n\u001b[1;32m   2726\u001b[0m kwargs\u001b[38;5;241m.\u001b[39msetdefault(\u001b[38;5;124m\"\u001b[39m\u001b[38;5;124mtablefmt\u001b[39m\u001b[38;5;124m\"\u001b[39m, \u001b[38;5;124m\"\u001b[39m\u001b[38;5;124mpipe\u001b[39m\u001b[38;5;124m\"\u001b[39m)\n\u001b[1;32m   2727\u001b[0m kwargs\u001b[38;5;241m.\u001b[39msetdefault(\u001b[38;5;124m\"\u001b[39m\u001b[38;5;124mshowindex\u001b[39m\u001b[38;5;124m\"\u001b[39m, index)\n\u001b[0;32m-> 2728\u001b[0m tabulate \u001b[38;5;241m=\u001b[39m \u001b[43mimport_optional_dependency\u001b[49m\u001b[43m(\u001b[49m\u001b[38;5;124;43m\"\u001b[39;49m\u001b[38;5;124;43mtabulate\u001b[39;49m\u001b[38;5;124;43m\"\u001b[39;49m\u001b[43m)\u001b[49m\n\u001b[1;32m   2729\u001b[0m result \u001b[38;5;241m=\u001b[39m tabulate\u001b[38;5;241m.\u001b[39mtabulate(\u001b[38;5;28mself\u001b[39m, \u001b[38;5;241m*\u001b[39m\u001b[38;5;241m*\u001b[39mkwargs)\n\u001b[1;32m   2730\u001b[0m \u001b[38;5;28;01mif\u001b[39;00m buf \u001b[38;5;129;01mis\u001b[39;00m \u001b[38;5;28;01mNone\u001b[39;00m:\n",
      "File \u001b[0;32m~/.local/lib/python3.9/site-packages/pandas/compat/_optional.py:141\u001b[0m, in \u001b[0;36mimport_optional_dependency\u001b[0;34m(name, extra, errors, min_version)\u001b[0m\n\u001b[1;32m    139\u001b[0m \u001b[38;5;28;01mexcept\u001b[39;00m \u001b[38;5;167;01mImportError\u001b[39;00m:\n\u001b[1;32m    140\u001b[0m     \u001b[38;5;28;01mif\u001b[39;00m errors \u001b[38;5;241m==\u001b[39m \u001b[38;5;124m\"\u001b[39m\u001b[38;5;124mraise\u001b[39m\u001b[38;5;124m\"\u001b[39m:\n\u001b[0;32m--> 141\u001b[0m         \u001b[38;5;28;01mraise\u001b[39;00m \u001b[38;5;167;01mImportError\u001b[39;00m(msg)\n\u001b[1;32m    142\u001b[0m     \u001b[38;5;28;01melse\u001b[39;00m:\n\u001b[1;32m    143\u001b[0m         \u001b[38;5;28;01mreturn\u001b[39;00m \u001b[38;5;28;01mNone\u001b[39;00m\n",
      "\u001b[0;31mImportError\u001b[0m: Missing optional dependency 'tabulate'.  Use pip or conda to install tabulate."
     ]
    }
   ],
   "source": [
    "#Home Conditions\n",
    "#Convert the data set into 10 terms and findsout who has done best at each term \n",
    "\n",
    "range_years=max(years)-min(years)\n",
    "no_0f_terms=10\n",
    "term_size=int(range_years/no_0f_terms)\n",
    "for i in range(no_0f_terms+1):\n",
    "    start=years.index(term_size*i+min(years))\n",
    "    end=years.index(min(term_size*(i+1)+min(years),2021))\n",
    "    term=df.iloc[start:end]\n",
    "    best_teams=pd.crosstab(term[\"home_team\"], term[\"Win_Statues\"],margins=True, margins_name=\"Total\")\n",
    "    \n",
    "    ##Lets take teams which plays atleast 20 games\n",
    "    best_teams[\"team_win_probability\"]=best_teams[\"Win\"]/(best_teams[\"Total\"])\n",
    "    best_teams=best_teams.sort_values(\"team_win_probability\",ascending=False)\n",
    "    best_teams=best_teams.loc[best_teams[\"Total\"]>20]\n",
    "    if (best_teams.shape[0]>2):\n",
    "        print(f\"\\nBest 2 team in the term: {term_size*i+min(years)}-{min(term_size*(i+1)+min(years),2021)} \")\n",
    "        print(best_teams.iloc[0:2].to_markdown())\n",
    "    else:\n",
    "        print(f\"No Enough data to find the best team in the term: {term_size*i+min(years)}-{min(term_size*(i+1)+min(years),2021)} \")"
   ]
  },
  {
   "cell_type": "markdown",
   "metadata": {},
   "source": [
    "**Finding the team which performs best in away conditions each year interval**"
   ]
  },
  {
   "cell_type": "code",
   "execution_count": 21,
   "metadata": {
    "execution": {
     "iopub.execute_input": "2021-08-05T19:45:37.451322Z",
     "iopub.status.busy": "2021-08-05T19:45:37.450923Z",
     "iopub.status.idle": "2021-08-05T19:45:37.993125Z",
     "shell.execute_reply": "2021-08-05T19:45:37.992296Z",
     "shell.execute_reply.started": "2021-08-05T19:45:37.451266Z"
    }
   },
   "outputs": [
    {
     "name": "stdout",
     "output_type": "stream",
     "text": [
      "\n",
      "Best 2 team in the term: 1872-1886 \n",
      "No Enough data to find the best team in the term: 1872-1886 \n",
      "\n",
      "Best 2 team in the term: 1886-1900 \n"
     ]
    },
    {
     "ename": "ImportError",
     "evalue": "Missing optional dependency 'tabulate'.  Use pip or conda to install tabulate.",
     "output_type": "error",
     "traceback": [
      "\u001b[0;31m---------------------------------------------------------------------------\u001b[0m",
      "\u001b[0;31mModuleNotFoundError\u001b[0m                       Traceback (most recent call last)",
      "File \u001b[0;32m~/.local/lib/python3.9/site-packages/pandas/compat/_optional.py:138\u001b[0m, in \u001b[0;36mimport_optional_dependency\u001b[0;34m(name, extra, errors, min_version)\u001b[0m\n\u001b[1;32m    137\u001b[0m \u001b[38;5;28;01mtry\u001b[39;00m:\n\u001b[0;32m--> 138\u001b[0m     module \u001b[38;5;241m=\u001b[39m \u001b[43mimportlib\u001b[49m\u001b[38;5;241;43m.\u001b[39;49m\u001b[43mimport_module\u001b[49m\u001b[43m(\u001b[49m\u001b[43mname\u001b[49m\u001b[43m)\u001b[49m\n\u001b[1;32m    139\u001b[0m \u001b[38;5;28;01mexcept\u001b[39;00m \u001b[38;5;167;01mImportError\u001b[39;00m:\n",
      "File \u001b[0;32m/usr/lib/python3.9/importlib/__init__.py:127\u001b[0m, in \u001b[0;36mimport_module\u001b[0;34m(name, package)\u001b[0m\n\u001b[1;32m    126\u001b[0m         level \u001b[38;5;241m+\u001b[39m\u001b[38;5;241m=\u001b[39m \u001b[38;5;241m1\u001b[39m\n\u001b[0;32m--> 127\u001b[0m \u001b[38;5;28;01mreturn\u001b[39;00m \u001b[43m_bootstrap\u001b[49m\u001b[38;5;241;43m.\u001b[39;49m\u001b[43m_gcd_import\u001b[49m\u001b[43m(\u001b[49m\u001b[43mname\u001b[49m\u001b[43m[\u001b[49m\u001b[43mlevel\u001b[49m\u001b[43m:\u001b[49m\u001b[43m]\u001b[49m\u001b[43m,\u001b[49m\u001b[43m \u001b[49m\u001b[43mpackage\u001b[49m\u001b[43m,\u001b[49m\u001b[43m \u001b[49m\u001b[43mlevel\u001b[49m\u001b[43m)\u001b[49m\n",
      "File \u001b[0;32m<frozen importlib._bootstrap>:1030\u001b[0m, in \u001b[0;36m_gcd_import\u001b[0;34m(name, package, level)\u001b[0m\n",
      "File \u001b[0;32m<frozen importlib._bootstrap>:1007\u001b[0m, in \u001b[0;36m_find_and_load\u001b[0;34m(name, import_)\u001b[0m\n",
      "File \u001b[0;32m<frozen importlib._bootstrap>:984\u001b[0m, in \u001b[0;36m_find_and_load_unlocked\u001b[0;34m(name, import_)\u001b[0m\n",
      "\u001b[0;31mModuleNotFoundError\u001b[0m: No module named 'tabulate'",
      "\nDuring handling of the above exception, another exception occurred:\n",
      "\u001b[0;31mImportError\u001b[0m                               Traceback (most recent call last)",
      "Input \u001b[0;32mIn [21]\u001b[0m, in \u001b[0;36m<cell line: 7>\u001b[0;34m()\u001b[0m\n\u001b[1;32m     17\u001b[0m \u001b[38;5;28mprint\u001b[39m(\u001b[38;5;124mf\u001b[39m\u001b[38;5;124m\"\u001b[39m\u001b[38;5;130;01m\\n\u001b[39;00m\u001b[38;5;124mBest 2 team in the term: \u001b[39m\u001b[38;5;132;01m{\u001b[39;00mterm_size\u001b[38;5;241m*\u001b[39mi\u001b[38;5;241m+\u001b[39m\u001b[38;5;28mmin\u001b[39m(years)\u001b[38;5;132;01m}\u001b[39;00m\u001b[38;5;124m-\u001b[39m\u001b[38;5;132;01m{\u001b[39;00m\u001b[38;5;28mmin\u001b[39m(term_size\u001b[38;5;241m*\u001b[39m(i\u001b[38;5;241m+\u001b[39m\u001b[38;5;241m1\u001b[39m)\u001b[38;5;241m+\u001b[39m\u001b[38;5;28mmin\u001b[39m(years),\u001b[38;5;241m2021\u001b[39m)\u001b[38;5;132;01m}\u001b[39;00m\u001b[38;5;124m \u001b[39m\u001b[38;5;124m\"\u001b[39m)\n\u001b[1;32m     18\u001b[0m \u001b[38;5;28;01mif\u001b[39;00m (best_teams\u001b[38;5;241m.\u001b[39mshape[\u001b[38;5;241m0\u001b[39m]\u001b[38;5;241m>\u001b[39m\u001b[38;5;241m2\u001b[39m):\n\u001b[0;32m---> 19\u001b[0m     \u001b[38;5;28mprint\u001b[39m(\u001b[43mbest_teams\u001b[49m\u001b[38;5;241;43m.\u001b[39;49m\u001b[43miloc\u001b[49m\u001b[43m[\u001b[49m\u001b[38;5;241;43m0\u001b[39;49m\u001b[43m:\u001b[49m\u001b[38;5;241;43m2\u001b[39;49m\u001b[43m]\u001b[49m\u001b[38;5;241;43m.\u001b[39;49m\u001b[43mto_markdown\u001b[49m\u001b[43m(\u001b[49m\u001b[43m)\u001b[49m)\n\u001b[1;32m     20\u001b[0m \u001b[38;5;28;01melse\u001b[39;00m:\n\u001b[1;32m     21\u001b[0m     \u001b[38;5;28mprint\u001b[39m(\u001b[38;5;124mf\u001b[39m\u001b[38;5;124m\"\u001b[39m\u001b[38;5;124mNo Enough data to find the best team in the term: \u001b[39m\u001b[38;5;132;01m{\u001b[39;00mterm_size\u001b[38;5;241m*\u001b[39mi\u001b[38;5;241m+\u001b[39m\u001b[38;5;28mmin\u001b[39m(years)\u001b[38;5;132;01m}\u001b[39;00m\u001b[38;5;124m-\u001b[39m\u001b[38;5;132;01m{\u001b[39;00m\u001b[38;5;28mmin\u001b[39m(term_size\u001b[38;5;241m*\u001b[39m(i\u001b[38;5;241m+\u001b[39m\u001b[38;5;241m1\u001b[39m)\u001b[38;5;241m+\u001b[39m\u001b[38;5;28mmin\u001b[39m(years),\u001b[38;5;241m2021\u001b[39m)\u001b[38;5;132;01m}\u001b[39;00m\u001b[38;5;124m \u001b[39m\u001b[38;5;124m\"\u001b[39m)\n",
      "File \u001b[0;32m~/.local/lib/python3.9/site-packages/pandas/core/frame.py:2728\u001b[0m, in \u001b[0;36mDataFrame.to_markdown\u001b[0;34m(self, buf, mode, index, storage_options, **kwargs)\u001b[0m\n\u001b[1;32m   2726\u001b[0m kwargs\u001b[38;5;241m.\u001b[39msetdefault(\u001b[38;5;124m\"\u001b[39m\u001b[38;5;124mtablefmt\u001b[39m\u001b[38;5;124m\"\u001b[39m, \u001b[38;5;124m\"\u001b[39m\u001b[38;5;124mpipe\u001b[39m\u001b[38;5;124m\"\u001b[39m)\n\u001b[1;32m   2727\u001b[0m kwargs\u001b[38;5;241m.\u001b[39msetdefault(\u001b[38;5;124m\"\u001b[39m\u001b[38;5;124mshowindex\u001b[39m\u001b[38;5;124m\"\u001b[39m, index)\n\u001b[0;32m-> 2728\u001b[0m tabulate \u001b[38;5;241m=\u001b[39m \u001b[43mimport_optional_dependency\u001b[49m\u001b[43m(\u001b[49m\u001b[38;5;124;43m\"\u001b[39;49m\u001b[38;5;124;43mtabulate\u001b[39;49m\u001b[38;5;124;43m\"\u001b[39;49m\u001b[43m)\u001b[49m\n\u001b[1;32m   2729\u001b[0m result \u001b[38;5;241m=\u001b[39m tabulate\u001b[38;5;241m.\u001b[39mtabulate(\u001b[38;5;28mself\u001b[39m, \u001b[38;5;241m*\u001b[39m\u001b[38;5;241m*\u001b[39mkwargs)\n\u001b[1;32m   2730\u001b[0m \u001b[38;5;28;01mif\u001b[39;00m buf \u001b[38;5;129;01mis\u001b[39;00m \u001b[38;5;28;01mNone\u001b[39;00m:\n",
      "File \u001b[0;32m~/.local/lib/python3.9/site-packages/pandas/compat/_optional.py:141\u001b[0m, in \u001b[0;36mimport_optional_dependency\u001b[0;34m(name, extra, errors, min_version)\u001b[0m\n\u001b[1;32m    139\u001b[0m \u001b[38;5;28;01mexcept\u001b[39;00m \u001b[38;5;167;01mImportError\u001b[39;00m:\n\u001b[1;32m    140\u001b[0m     \u001b[38;5;28;01mif\u001b[39;00m errors \u001b[38;5;241m==\u001b[39m \u001b[38;5;124m\"\u001b[39m\u001b[38;5;124mraise\u001b[39m\u001b[38;5;124m\"\u001b[39m:\n\u001b[0;32m--> 141\u001b[0m         \u001b[38;5;28;01mraise\u001b[39;00m \u001b[38;5;167;01mImportError\u001b[39;00m(msg)\n\u001b[1;32m    142\u001b[0m     \u001b[38;5;28;01melse\u001b[39;00m:\n\u001b[1;32m    143\u001b[0m         \u001b[38;5;28;01mreturn\u001b[39;00m \u001b[38;5;28;01mNone\u001b[39;00m\n",
      "\u001b[0;31mImportError\u001b[0m: Missing optional dependency 'tabulate'.  Use pip or conda to install tabulate."
     ]
    }
   ],
   "source": [
    "#Away Conditions\n",
    "##Convert the data set into 10 terms and findsout who has done best at each term \n",
    "\n",
    "range_years=max(years)-min(years)\n",
    "no_0f_terms=10\n",
    "term_size=int(range_years/no_0f_terms)\n",
    "for i in range(no_0f_terms+1):\n",
    "    start=years.index(term_size*i+min(years))\n",
    "    end=years.index(min(term_size*(i+1)+min(years),2021))\n",
    "    term=df.iloc[start:end]\n",
    "    best_teams=pd.crosstab(term[\"away_team\"], term[\"Win_Statues\"],margins=True, margins_name=\"Total\")\n",
    "    \n",
    "    ##Lets take teams which plays atleast 200 games\n",
    "    best_teams[\"team_win_probability\"]=best_teams[\"Lost\"]/(best_teams[\"Total\"])\n",
    "    best_teams=best_teams.sort_values(\"team_win_probability\",ascending=False)\n",
    "    best_teams=best_teams.loc[best_teams[\"Total\"]>20]\n",
    "    print(f\"\\nBest 2 team in the term: {term_size*i+min(years)}-{min(term_size*(i+1)+min(years),2021)} \")\n",
    "    if (best_teams.shape[0]>2):\n",
    "        print(best_teams.iloc[0:2].to_markdown())\n",
    "    else:\n",
    "        print(f\"No Enough data to find the best team in the term: {term_size*i+min(years)}-{min(term_size*(i+1)+min(years),2021)} \")"
   ]
  },
  {
   "cell_type": "markdown",
   "metadata": {},
   "source": [
    "### (3) FIFA World Cup -2022- QATAR\n",
    "\n",
    "**Making a ML model**"
   ]
  },
  {
   "cell_type": "code",
   "execution_count": 22,
   "metadata": {
    "execution": {
     "iopub.execute_input": "2021-08-05T19:45:37.994907Z",
     "iopub.status.busy": "2021-08-05T19:45:37.994493Z",
     "iopub.status.idle": "2021-08-05T19:45:38.013094Z",
     "shell.execute_reply": "2021-08-05T19:45:38.012188Z",
     "shell.execute_reply.started": "2021-08-05T19:45:37.994869Z"
    }
   },
   "outputs": [
    {
     "data": {
      "text/html": [
       "<div>\n",
       "<style scoped>\n",
       "    .dataframe tbody tr th:only-of-type {\n",
       "        vertical-align: middle;\n",
       "    }\n",
       "\n",
       "    .dataframe tbody tr th {\n",
       "        vertical-align: top;\n",
       "    }\n",
       "\n",
       "    .dataframe thead th {\n",
       "        text-align: right;\n",
       "    }\n",
       "</style>\n",
       "<table border=\"1\" class=\"dataframe\">\n",
       "  <thead>\n",
       "    <tr style=\"text-align: right;\">\n",
       "      <th></th>\n",
       "      <th>date</th>\n",
       "      <th>home_team</th>\n",
       "      <th>away_team</th>\n",
       "      <th>home_score</th>\n",
       "      <th>away_score</th>\n",
       "      <th>tournament</th>\n",
       "      <th>city</th>\n",
       "      <th>country</th>\n",
       "      <th>neutral</th>\n",
       "      <th>Win_Statues</th>\n",
       "    </tr>\n",
       "  </thead>\n",
       "  <tbody>\n",
       "    <tr>\n",
       "      <th>0</th>\n",
       "      <td>1872-11-30</td>\n",
       "      <td>Scotland</td>\n",
       "      <td>England</td>\n",
       "      <td>0</td>\n",
       "      <td>0</td>\n",
       "      <td>Friendly</td>\n",
       "      <td>Glasgow</td>\n",
       "      <td>Scotland</td>\n",
       "      <td>False</td>\n",
       "      <td>Draw</td>\n",
       "    </tr>\n",
       "    <tr>\n",
       "      <th>1</th>\n",
       "      <td>1873-03-08</td>\n",
       "      <td>England</td>\n",
       "      <td>Scotland</td>\n",
       "      <td>4</td>\n",
       "      <td>2</td>\n",
       "      <td>Friendly</td>\n",
       "      <td>London</td>\n",
       "      <td>England</td>\n",
       "      <td>False</td>\n",
       "      <td>Win</td>\n",
       "    </tr>\n",
       "    <tr>\n",
       "      <th>2</th>\n",
       "      <td>1874-03-07</td>\n",
       "      <td>Scotland</td>\n",
       "      <td>England</td>\n",
       "      <td>2</td>\n",
       "      <td>1</td>\n",
       "      <td>Friendly</td>\n",
       "      <td>Glasgow</td>\n",
       "      <td>Scotland</td>\n",
       "      <td>False</td>\n",
       "      <td>Win</td>\n",
       "    </tr>\n",
       "    <tr>\n",
       "      <th>3</th>\n",
       "      <td>1875-03-06</td>\n",
       "      <td>England</td>\n",
       "      <td>Scotland</td>\n",
       "      <td>2</td>\n",
       "      <td>2</td>\n",
       "      <td>Friendly</td>\n",
       "      <td>London</td>\n",
       "      <td>England</td>\n",
       "      <td>False</td>\n",
       "      <td>Draw</td>\n",
       "    </tr>\n",
       "    <tr>\n",
       "      <th>4</th>\n",
       "      <td>1876-03-04</td>\n",
       "      <td>Scotland</td>\n",
       "      <td>England</td>\n",
       "      <td>3</td>\n",
       "      <td>0</td>\n",
       "      <td>Friendly</td>\n",
       "      <td>Glasgow</td>\n",
       "      <td>Scotland</td>\n",
       "      <td>False</td>\n",
       "      <td>Win</td>\n",
       "    </tr>\n",
       "    <tr>\n",
       "      <th>5</th>\n",
       "      <td>1876-03-25</td>\n",
       "      <td>Scotland</td>\n",
       "      <td>Wales</td>\n",
       "      <td>4</td>\n",
       "      <td>0</td>\n",
       "      <td>Friendly</td>\n",
       "      <td>Glasgow</td>\n",
       "      <td>Scotland</td>\n",
       "      <td>False</td>\n",
       "      <td>Win</td>\n",
       "    </tr>\n",
       "    <tr>\n",
       "      <th>6</th>\n",
       "      <td>1877-03-03</td>\n",
       "      <td>England</td>\n",
       "      <td>Scotland</td>\n",
       "      <td>1</td>\n",
       "      <td>3</td>\n",
       "      <td>Friendly</td>\n",
       "      <td>London</td>\n",
       "      <td>England</td>\n",
       "      <td>False</td>\n",
       "      <td>Lost</td>\n",
       "    </tr>\n",
       "    <tr>\n",
       "      <th>7</th>\n",
       "      <td>1877-03-05</td>\n",
       "      <td>Wales</td>\n",
       "      <td>Scotland</td>\n",
       "      <td>0</td>\n",
       "      <td>2</td>\n",
       "      <td>Friendly</td>\n",
       "      <td>Wrexham</td>\n",
       "      <td>Wales</td>\n",
       "      <td>False</td>\n",
       "      <td>Lost</td>\n",
       "    </tr>\n",
       "  </tbody>\n",
       "</table>\n",
       "</div>"
      ],
      "text/plain": [
       "         date home_team away_team  home_score  away_score tournament     city  \\\n",
       "0  1872-11-30  Scotland   England           0           0   Friendly  Glasgow   \n",
       "1  1873-03-08   England  Scotland           4           2   Friendly   London   \n",
       "2  1874-03-07  Scotland   England           2           1   Friendly  Glasgow   \n",
       "3  1875-03-06   England  Scotland           2           2   Friendly   London   \n",
       "4  1876-03-04  Scotland   England           3           0   Friendly  Glasgow   \n",
       "5  1876-03-25  Scotland     Wales           4           0   Friendly  Glasgow   \n",
       "6  1877-03-03   England  Scotland           1           3   Friendly   London   \n",
       "7  1877-03-05     Wales  Scotland           0           2   Friendly  Wrexham   \n",
       "\n",
       "    country  neutral Win_Statues  \n",
       "0  Scotland    False        Draw  \n",
       "1   England    False         Win  \n",
       "2  Scotland    False         Win  \n",
       "3   England    False        Draw  \n",
       "4  Scotland    False         Win  \n",
       "5  Scotland    False         Win  \n",
       "6   England    False        Lost  \n",
       "7     Wales    False        Lost  "
      ]
     },
     "execution_count": 22,
     "metadata": {},
     "output_type": "execute_result"
    }
   ],
   "source": [
    "df_match=df.copy() #making a copy of the main dataframe for future use\n",
    "df_match.head(8)"
   ]
  },
  {
   "cell_type": "code",
   "execution_count": 23,
   "metadata": {
    "execution": {
     "iopub.execute_input": "2021-08-05T19:45:38.014709Z",
     "iopub.status.busy": "2021-08-05T19:45:38.014361Z",
     "iopub.status.idle": "2021-08-05T19:45:38.242296Z",
     "shell.execute_reply": "2021-08-05T19:45:38.241323Z",
     "shell.execute_reply.started": "2021-08-05T19:45:38.014674Z"
    }
   },
   "outputs": [
    {
     "data": {
      "text/html": [
       "<div>\n",
       "<style scoped>\n",
       "    .dataframe tbody tr th:only-of-type {\n",
       "        vertical-align: middle;\n",
       "    }\n",
       "\n",
       "    .dataframe tbody tr th {\n",
       "        vertical-align: top;\n",
       "    }\n",
       "\n",
       "    .dataframe thead th {\n",
       "        text-align: right;\n",
       "    }\n",
       "</style>\n",
       "<table border=\"1\" class=\"dataframe\">\n",
       "  <thead>\n",
       "    <tr style=\"text-align: right;\">\n",
       "      <th></th>\n",
       "      <th>year</th>\n",
       "      <th>Country</th>\n",
       "      <th>team_1</th>\n",
       "      <th>team_2</th>\n",
       "      <th>team_1_score</th>\n",
       "      <th>team_2_score</th>\n",
       "    </tr>\n",
       "  </thead>\n",
       "  <tbody>\n",
       "    <tr>\n",
       "      <th>0</th>\n",
       "      <td>1994</td>\n",
       "      <td>Ethiopia</td>\n",
       "      <td>Ethiopia</td>\n",
       "      <td>Algeria</td>\n",
       "      <td>0</td>\n",
       "      <td>0</td>\n",
       "    </tr>\n",
       "    <tr>\n",
       "      <th>1</th>\n",
       "      <td>1984</td>\n",
       "      <td>Suriname</td>\n",
       "      <td>India</td>\n",
       "      <td>Suriname</td>\n",
       "      <td>1</td>\n",
       "      <td>4</td>\n",
       "    </tr>\n",
       "    <tr>\n",
       "      <th>2</th>\n",
       "      <td>1991</td>\n",
       "      <td>Iceland</td>\n",
       "      <td>Denmark</td>\n",
       "      <td>Iceland</td>\n",
       "      <td>0</td>\n",
       "      <td>0</td>\n",
       "    </tr>\n",
       "    <tr>\n",
       "      <th>3</th>\n",
       "      <td>2001</td>\n",
       "      <td>Northern Ireland</td>\n",
       "      <td>Iceland</td>\n",
       "      <td>Northern Ireland</td>\n",
       "      <td>0</td>\n",
       "      <td>3</td>\n",
       "    </tr>\n",
       "    <tr>\n",
       "      <th>4</th>\n",
       "      <td>2015</td>\n",
       "      <td>Ethiopia</td>\n",
       "      <td>Niger</td>\n",
       "      <td>Somalia</td>\n",
       "      <td>2</td>\n",
       "      <td>0</td>\n",
       "    </tr>\n",
       "  </tbody>\n",
       "</table>\n",
       "</div>"
      ],
      "text/plain": [
       "   year           Country    team_1            team_2  team_1_score  \\\n",
       "0  1994          Ethiopia  Ethiopia           Algeria             0   \n",
       "1  1984          Suriname     India          Suriname             1   \n",
       "2  1991           Iceland   Denmark           Iceland             0   \n",
       "3  2001  Northern Ireland   Iceland  Northern Ireland             0   \n",
       "4  2015          Ethiopia     Niger           Somalia             2   \n",
       "\n",
       "   team_2_score  \n",
       "0             0  \n",
       "1             4  \n",
       "2             0  \n",
       "3             3  \n",
       "4             0  "
      ]
     },
     "execution_count": 23,
     "metadata": {},
     "output_type": "execute_result"
    }
   ],
   "source": [
    "#Making a new dataset with required features to train the machine learning model\n",
    "#Year,Played Country,Team_1,team_2,team_1 score,team_2 score\n",
    "\n",
    "New_Dataset_part_1=pd.DataFrame(list(zip(years,df_match.values[:,7],df_match.values[:,1],df_match.values[:,2],df_match.values[:,3],df_match.values[:,4])),columns=[\"year\",\"Country\",\"team_1\",\"team_2\",\"team_1_score\",\"team_2_score\"])\n",
    "#Making a new dataset by changing the team_1 and team_2 and their respective scores\n",
    "New_Dataset_part_2=pd.DataFrame(list(zip(years,df_match.values[:,7],df_match.values[:,2],df_match.values[:,1],df_match.values[:,4],df_match.values[:,3])),columns=[\"year\",\"Country\",\"team_1\",\"team_2\",\"team_1_score\",\"team_2_score\"])\n",
    "New_Dataset=pd.concat([New_Dataset_part_1,New_Dataset_part_2],axis=0)\n",
    "New_Dataset =New_Dataset.sample(frac=1).reset_index(drop=True) #Shaffling the dataset\n",
    "New_Dataset.head(5)"
   ]
  },
  {
   "cell_type": "code",
   "execution_count": 24,
   "metadata": {
    "execution": {
     "iopub.execute_input": "2021-08-05T19:45:38.244077Z",
     "iopub.status.busy": "2021-08-05T19:45:38.243724Z",
     "iopub.status.idle": "2021-08-05T19:45:38.265918Z",
     "shell.execute_reply": "2021-08-05T19:45:38.265173Z",
     "shell.execute_reply.started": "2021-08-05T19:45:38.244038Z"
    }
   },
   "outputs": [
    {
     "data": {
      "text/plain": [
       "343"
      ]
     },
     "execution_count": 24,
     "metadata": {},
     "output_type": "execute_result"
    }
   ],
   "source": [
    "#Creating a list containg all the names of the countries\n",
    "\n",
    "teams_1=New_Dataset.team_1.unique()\n",
    "contries=New_Dataset.Country.unique()\n",
    "all_countries=np.unique(np.concatenate((teams_1,contries), axis=0))\n",
    "len(all_countries)"
   ]
  },
  {
   "cell_type": "code",
   "execution_count": 25,
   "metadata": {
    "execution": {
     "iopub.execute_input": "2021-08-05T19:45:38.267449Z",
     "iopub.status.busy": "2021-08-05T19:45:38.267079Z",
     "iopub.status.idle": "2021-08-05T19:45:38.582948Z",
     "shell.execute_reply": "2021-08-05T19:45:38.582151Z",
     "shell.execute_reply.started": "2021-08-05T19:45:38.267412Z"
    }
   },
   "outputs": [
    {
     "data": {
      "text/html": [
       "<div>\n",
       "<style scoped>\n",
       "    .dataframe tbody tr th:only-of-type {\n",
       "        vertical-align: middle;\n",
       "    }\n",
       "\n",
       "    .dataframe tbody tr th {\n",
       "        vertical-align: top;\n",
       "    }\n",
       "\n",
       "    .dataframe thead th {\n",
       "        text-align: right;\n",
       "    }\n",
       "</style>\n",
       "<table border=\"1\" class=\"dataframe\">\n",
       "  <thead>\n",
       "    <tr style=\"text-align: right;\">\n",
       "      <th></th>\n",
       "      <th>year</th>\n",
       "      <th>team_1_score</th>\n",
       "      <th>team_2_score</th>\n",
       "    </tr>\n",
       "  </thead>\n",
       "  <tbody>\n",
       "    <tr>\n",
       "      <th>year</th>\n",
       "      <td>1.000000</td>\n",
       "      <td>-0.126413</td>\n",
       "      <td>-0.126413</td>\n",
       "    </tr>\n",
       "    <tr>\n",
       "      <th>team_1_score</th>\n",
       "      <td>-0.126413</td>\n",
       "      <td>1.000000</td>\n",
       "      <td>-0.161197</td>\n",
       "    </tr>\n",
       "    <tr>\n",
       "      <th>team_2_score</th>\n",
       "      <td>-0.126413</td>\n",
       "      <td>-0.161197</td>\n",
       "      <td>1.000000</td>\n",
       "    </tr>\n",
       "  </tbody>\n",
       "</table>\n",
       "</div>"
      ],
      "text/plain": [
       "                  year  team_1_score  team_2_score\n",
       "year          1.000000     -0.126413     -0.126413\n",
       "team_1_score -0.126413      1.000000     -0.161197\n",
       "team_2_score -0.126413     -0.161197      1.000000"
      ]
     },
     "execution_count": 25,
     "metadata": {},
     "output_type": "execute_result"
    },
    {
     "data": {
      "image/png": "[encoded data removed]",
      "text/plain": [
       "<Figure size 432x288 with 2 Axes>"
      ]
     },
     "metadata": {
      "needs_background": "light"
     },
     "output_type": "display_data"
    }
   ],
   "source": [
    "#Making a heatmap to see the correlation of each columns \n",
    "\n",
    "sns.heatmap(New_Dataset.corr())\n",
    "New_Dataset.corr()"
   ]
  },
  {
   "cell_type": "code",
   "execution_count": 26,
   "metadata": {
    "execution": {
     "iopub.execute_input": "2021-08-05T19:45:38.584965Z",
     "iopub.status.busy": "2021-08-05T19:45:38.584381Z",
     "iopub.status.idle": "2021-08-05T19:45:38.710426Z",
     "shell.execute_reply": "2021-08-05T19:45:38.709500Z",
     "shell.execute_reply.started": "2021-08-05T19:45:38.584923Z"
    }
   },
   "outputs": [],
   "source": [
    "#Defining the features and labels(Targets)\n",
    "\n",
    "Y= New_Dataset.iloc[:,4:6] #Training targets (team_1_score and team_2_score)\n",
    "categorized_data=New_Dataset.iloc[:,0:4].copy() #Traing features\n",
    "\n",
    "from sklearn import preprocessing\n",
    "label_encoder = preprocessing.LabelEncoder()\n",
    "\n",
    "#Labeling the data using LabelEncorder in Sklearn-(Giving a unique number to each string(country))\n",
    "\n",
    "label_encoder.fit(all_countries)\n",
    "#list(label_encoder.classes_)\n",
    "categorized_data['team_1']=label_encoder.transform(categorized_data['team_1'])\n",
    "categorized_data['team_2']=label_encoder.transform(categorized_data['team_2'])\n",
    "categorized_data['Country']=label_encoder.transform(categorized_data['Country'])\n",
    "\n",
    "#Converting these feature columns to categrize form to make the training processs more smoother\n",
    "categorized_data['team_1']=categorized_data['team_1'].astype(\"category\")\n",
    "categorized_data['team_2']=categorized_data['team_2'].astype(\"category\")\n",
    "categorized_data['Country']=categorized_data['team_2'].astype(\"category\")\n"
   ]
  },
  {
   "cell_type": "code",
   "execution_count": 27,
   "metadata": {
    "execution": {
     "iopub.execute_input": "2021-08-05T19:45:38.712475Z",
     "iopub.status.busy": "2021-08-05T19:45:38.711881Z",
     "iopub.status.idle": "2021-08-05T19:45:38.725692Z",
     "shell.execute_reply": "2021-08-05T19:45:38.724908Z",
     "shell.execute_reply.started": "2021-08-05T19:45:38.712436Z"
    }
   },
   "outputs": [
    {
     "data": {
      "text/html": [
       "<div>\n",
       "<style scoped>\n",
       "    .dataframe tbody tr th:only-of-type {\n",
       "        vertical-align: middle;\n",
       "    }\n",
       "\n",
       "    .dataframe tbody tr th {\n",
       "        vertical-align: top;\n",
       "    }\n",
       "\n",
       "    .dataframe thead th {\n",
       "        text-align: right;\n",
       "    }\n",
       "</style>\n",
       "<table border=\"1\" class=\"dataframe\">\n",
       "  <thead>\n",
       "    <tr style=\"text-align: right;\">\n",
       "      <th></th>\n",
       "      <th>year</th>\n",
       "      <th>Country</th>\n",
       "      <th>team_1</th>\n",
       "      <th>team_2</th>\n",
       "    </tr>\n",
       "  </thead>\n",
       "  <tbody>\n",
       "    <tr>\n",
       "      <th>0</th>\n",
       "      <td>1994</td>\n",
       "      <td>4</td>\n",
       "      <td>95</td>\n",
       "      <td>4</td>\n",
       "    </tr>\n",
       "    <tr>\n",
       "      <th>1</th>\n",
       "      <td>1984</td>\n",
       "      <td>282</td>\n",
       "      <td>134</td>\n",
       "      <td>282</td>\n",
       "    </tr>\n",
       "    <tr>\n",
       "      <th>2</th>\n",
       "      <td>1991</td>\n",
       "      <td>133</td>\n",
       "      <td>81</td>\n",
       "      <td>133</td>\n",
       "    </tr>\n",
       "    <tr>\n",
       "      <th>3</th>\n",
       "      <td>2001</td>\n",
       "      <td>212</td>\n",
       "      <td>133</td>\n",
       "      <td>212</td>\n",
       "    </tr>\n",
       "    <tr>\n",
       "      <th>4</th>\n",
       "      <td>2015</td>\n",
       "      <td>271</td>\n",
       "      <td>205</td>\n",
       "      <td>271</td>\n",
       "    </tr>\n",
       "  </tbody>\n",
       "</table>\n",
       "</div>"
      ],
      "text/plain": [
       "   year Country team_1 team_2\n",
       "0  1994       4     95      4\n",
       "1  1984     282    134    282\n",
       "2  1991     133     81    133\n",
       "3  2001     212    133    212\n",
       "4  2015     271    205    271"
      ]
     },
     "execution_count": 27,
     "metadata": {},
     "output_type": "execute_result"
    }
   ],
   "source": [
    "#Input Fatures to the model (x)\n",
    "\n",
    "categorized_data.head(5)"
   ]
  },
  {
   "cell_type": "code",
   "execution_count": 28,
   "metadata": {
    "execution": {
     "iopub.execute_input": "2021-08-05T19:45:38.728732Z",
     "iopub.status.busy": "2021-08-05T19:45:38.728144Z",
     "iopub.status.idle": "2021-08-05T19:45:38.747769Z",
     "shell.execute_reply": "2021-08-05T19:45:38.746859Z",
     "shell.execute_reply.started": "2021-08-05T19:45:38.728697Z"
    }
   },
   "outputs": [
    {
     "data": {
      "text/html": [
       "<div>\n",
       "<style scoped>\n",
       "    .dataframe tbody tr th:only-of-type {\n",
       "        vertical-align: middle;\n",
       "    }\n",
       "\n",
       "    .dataframe tbody tr th {\n",
       "        vertical-align: top;\n",
       "    }\n",
       "\n",
       "    .dataframe thead th {\n",
       "        text-align: right;\n",
       "    }\n",
       "</style>\n",
       "<table border=\"1\" class=\"dataframe\">\n",
       "  <thead>\n",
       "    <tr style=\"text-align: right;\">\n",
       "      <th></th>\n",
       "      <th>team_1_score</th>\n",
       "      <th>team_2_score</th>\n",
       "    </tr>\n",
       "  </thead>\n",
       "  <tbody>\n",
       "    <tr>\n",
       "      <th>0</th>\n",
       "      <td>0</td>\n",
       "      <td>0</td>\n",
       "    </tr>\n",
       "    <tr>\n",
       "      <th>1</th>\n",
       "      <td>1</td>\n",
       "      <td>4</td>\n",
       "    </tr>\n",
       "    <tr>\n",
       "      <th>2</th>\n",
       "      <td>0</td>\n",
       "      <td>0</td>\n",
       "    </tr>\n",
       "    <tr>\n",
       "      <th>3</th>\n",
       "      <td>0</td>\n",
       "      <td>3</td>\n",
       "    </tr>\n",
       "    <tr>\n",
       "      <th>4</th>\n",
       "      <td>2</td>\n",
       "      <td>0</td>\n",
       "    </tr>\n",
       "  </tbody>\n",
       "</table>\n",
       "</div>"
      ],
      "text/plain": [
       "   team_1_score  team_2_score\n",
       "0             0             0\n",
       "1             1             4\n",
       "2             0             0\n",
       "3             0             3\n",
       "4             2             0"
      ]
     },
     "execution_count": 28,
     "metadata": {},
     "output_type": "execute_result"
    }
   ],
   "source": [
    "#Targets to the model (Y)\n",
    "\n",
    "Y.head(5)"
   ]
  },
  {
   "cell_type": "code",
   "execution_count": 29,
   "metadata": {
    "execution": {
     "iopub.execute_input": "2021-08-05T19:45:38.750050Z",
     "iopub.status.busy": "2021-08-05T19:45:38.749343Z",
     "iopub.status.idle": "2021-08-05T19:45:38.784188Z",
     "shell.execute_reply": "2021-08-05T19:45:38.783439Z",
     "shell.execute_reply.started": "2021-08-05T19:45:38.750006Z"
    }
   },
   "outputs": [
    {
     "name": "stdout",
     "output_type": "stream",
     "text": [
      "<class 'pandas.core.frame.DataFrame'>\n",
      "RangeIndex: 84756 entries, 0 to 84755\n",
      "Data columns (total 4 columns):\n",
      " #   Column   Non-Null Count  Dtype   \n",
      "---  ------   --------------  -----   \n",
      " 0   year     84756 non-null  int64   \n",
      " 1   Country  84756 non-null  category\n",
      " 2   team_1   84756 non-null  category\n",
      " 3   team_2   84756 non-null  category\n",
      "dtypes: category(3), int64(1)\n",
      "memory usage: 1.2 MB\n",
      "None\n",
      "<class 'pandas.core.frame.DataFrame'>\n",
      "RangeIndex: 84756 entries, 0 to 84755\n",
      "Data columns (total 2 columns):\n",
      " #   Column        Non-Null Count  Dtype\n",
      "---  ------        --------------  -----\n",
      " 0   team_1_score  84756 non-null  int64\n",
      " 1   team_2_score  84756 non-null  int64\n",
      "dtypes: int64(2)\n",
      "memory usage: 1.3 MB\n",
      "None\n"
     ]
    }
   ],
   "source": [
    "#Info about the X and Y dataframes\n",
    "\n",
    "print(categorized_data.info())\n",
    "print(Y.info())"
   ]
  },
  {
   "cell_type": "code",
   "execution_count": 30,
   "metadata": {
    "execution": {
     "iopub.execute_input": "2021-08-05T19:45:38.791475Z",
     "iopub.status.busy": "2021-08-05T19:45:38.789595Z",
     "iopub.status.idle": "2021-08-05T19:46:14.698995Z",
     "shell.execute_reply": "2021-08-05T19:46:14.698141Z",
     "shell.execute_reply.started": "2021-08-05T19:45:38.791439Z"
    }
   },
   "outputs": [
    {
     "data": {
      "text/plain": [
       "MultiOutputRegressor(estimator=RandomForestClassifier())"
      ]
     },
     "execution_count": 30,
     "metadata": {},
     "output_type": "execute_result"
    }
   ],
   "source": [
    "#Making the model\n",
    "\n",
    "X=categorized_data\n",
    "from sklearn.multioutput import MultiOutputRegressor\n",
    "from sklearn.svm import SVC\n",
    "from sklearn.tree import DecisionTreeClassifier\n",
    "from sklearn.ensemble import RandomForestClassifier\n",
    "from sklearn.neighbors import KNeighborsClassifier\n",
    "\n",
    "#Use any algorithm\n",
    "model = MultiOutputRegressor(RandomForestClassifier())\n",
    "model.fit(X,Y)"
   ]
  },
  {
   "cell_type": "code",
   "execution_count": 31,
   "metadata": {
    "execution": {
     "iopub.execute_input": "2021-08-05T19:46:14.700615Z",
     "iopub.status.busy": "2021-08-05T19:46:14.700290Z",
     "iopub.status.idle": "2021-08-05T19:46:21.744023Z",
     "shell.execute_reply": "2021-08-05T19:46:21.743041Z",
     "shell.execute_reply.started": "2021-08-05T19:46:14.700580Z"
    }
   },
   "outputs": [
    {
     "data": {
      "text/plain": [
       "array([[0, 0],\n",
       "       [2, 6],\n",
       "       [0, 0],\n",
       "       ...,\n",
       "       [0, 0],\n",
       "       [7, 3],\n",
       "       [1, 0]])"
      ]
     },
     "execution_count": 31,
     "metadata": {},
     "output_type": "execute_result"
    }
   ],
   "source": [
    "#Making the predictions\n",
    "\n",
    "prd=model.predict(X)\n",
    "prd"
   ]
  },
  {
   "cell_type": "code",
   "execution_count": 32,
   "metadata": {
    "execution": {
     "iopub.execute_input": "2021-08-05T19:46:21.745807Z",
     "iopub.status.busy": "2021-08-05T19:46:21.745452Z",
     "iopub.status.idle": "2021-08-05T19:46:22.247816Z",
     "shell.execute_reply": "2021-08-05T19:46:22.246875Z",
     "shell.execute_reply.started": "2021-08-05T19:46:21.745772Z"
    }
   },
   "outputs": [],
   "source": [
    "#Creating the Confusion matrix for each predictions\n",
    "\n",
    "score_team_1=[i[0] for i in prd]\n",
    "score_team_2=[i[1] for i in prd]\n",
    "\n",
    "from sklearn.metrics import confusion_matrix\n",
    "cm1=confusion_matrix(list(Y.iloc[:,0]),score_team_1)\n",
    "cm2=confusion_matrix(list(Y.iloc[:,1]),score_team_2)"
   ]
  },
  {
   "cell_type": "code",
   "execution_count": 33,
   "metadata": {
    "execution": {
     "iopub.execute_input": "2021-08-05T19:46:22.249566Z",
     "iopub.status.busy": "2021-08-05T19:46:22.249147Z",
     "iopub.status.idle": "2021-08-05T19:46:23.510098Z",
     "shell.execute_reply": "2021-08-05T19:46:23.509231Z",
     "shell.execute_reply.started": "2021-08-05T19:46:22.249526Z"
    },
    "scrolled": true
   },
   "outputs": [
    {
     "data": {
      "text/plain": [
       "Text(159.0, 0.5, 'Predicted')"
      ]
     },
     "execution_count": 33,
     "metadata": {},
     "output_type": "execute_result"
    },
    {
     "data": {
      "image/png": "[encoded data removed]",
      "text/plain": [
       "<Figure size 1440x1440 with 2 Axes>"
      ]
     },
     "metadata": {
      "needs_background": "light"
     },
     "output_type": "display_data"
    }
   ],
   "source": [
    "#Plotting the Confussion Matrix for score of team 01\n",
    "\n",
    "plt.figure(figsize=(20,20))\n",
    "sns.heatmap(cm1, annot=True,fmt=\"d\", cmap='YlGnBu', linecolor='black', linewidths=1)\n",
    "plt.title(\"Confusion Matrix for Team 1 Score\")\n",
    "plt.xlabel(\"Actual\")\n",
    "plt.ylabel(\"Predicted\")"
   ]
  },
  {
   "cell_type": "code",
   "execution_count": 34,
   "metadata": {
    "execution": {
     "iopub.execute_input": "2021-08-05T19:46:23.511871Z",
     "iopub.status.busy": "2021-08-05T19:46:23.511524Z",
     "iopub.status.idle": "2021-08-05T19:46:23.712722Z",
     "shell.execute_reply": "2021-08-05T19:46:23.711809Z",
     "shell.execute_reply.started": "2021-08-05T19:46:23.511834Z"
    }
   },
   "outputs": [
    {
     "name": "stdout",
     "output_type": "stream",
     "text": [
      "              precision    recall  f1-score   support\n",
      "\n",
      "           0       0.87      0.90      0.88     25971\n",
      "           1       0.86      0.88      0.87     26234\n",
      "           2       0.86      0.84      0.85     16672\n",
      "           3       0.86      0.81      0.83      8145\n",
      "           4       0.86      0.80      0.83      3879\n",
      "           5       0.85      0.79      0.82      1781\n",
      "           6       0.84      0.82      0.83       952\n",
      "           7       0.88      0.82      0.85       501\n",
      "           8       0.85      0.80      0.82       268\n",
      "           9       0.87      0.82      0.84       155\n",
      "          10       0.90      0.85      0.87        86\n",
      "          11       0.88      0.93      0.90        41\n",
      "          12       0.93      0.80      0.86        35\n",
      "          13       0.95      0.86      0.90        22\n",
      "          14       0.93      1.00      0.97        14\n",
      "\n",
      "    accuracy                           0.86     84756\n",
      "   macro avg       0.88      0.85      0.86     84756\n",
      "weighted avg       0.86      0.86      0.86     84756\n",
      "\n"
     ]
    }
   ],
   "source": [
    "#Classification Report to team 1 Score\n",
    "\n",
    "from sklearn.metrics import classification_report\n",
    "report_1=classification_report(Y.iloc[:,0],score_team_1)\n",
    "print(report_1)\n",
    "\n",
    "#Has a good Accuracy in predicting the team 1 Score"
   ]
  },
  {
   "cell_type": "code",
   "execution_count": 35,
   "metadata": {
    "execution": {
     "iopub.execute_input": "2021-08-05T19:46:23.714477Z",
     "iopub.status.busy": "2021-08-05T19:46:23.713964Z",
     "iopub.status.idle": "2021-08-05T19:46:25.363280Z",
     "shell.execute_reply": "2021-08-05T19:46:25.361776Z",
     "shell.execute_reply.started": "2021-08-05T19:46:23.714438Z"
    }
   },
   "outputs": [
    {
     "data": {
      "text/plain": [
       "Text(159.0, 0.5, 'Predicted')"
      ]
     },
     "execution_count": 35,
     "metadata": {},
     "output_type": "execute_result"
    },
    {
     "data": {
      "image/png": "[encoded data removed]",
      "text/plain": [
       "<Figure size 1440x1440 with 2 Axes>"
      ]
     },
     "metadata": {
      "needs_background": "light"
     },
     "output_type": "display_data"
    }
   ],
   "source": [
    "#Plotting the Confussion Matrix for score of team 02\n",
    "\n",
    "plt.figure(figsize=(20,20))\n",
    "sns.heatmap(cm2, annot=True,fmt=\"d\", cmap='YlGnBu', linecolor='black', linewidths=1)\n",
    "plt.title(\"Confusion Matrix for team 2 score\")\n",
    "plt.xlabel(\"Actual\")\n",
    "plt.ylabel(\"Predicted\")"
   ]
  },
  {
   "cell_type": "code",
   "execution_count": 36,
   "metadata": {
    "execution": {
     "iopub.execute_input": "2021-08-05T19:46:25.364931Z",
     "iopub.status.busy": "2021-08-05T19:46:25.364577Z",
     "iopub.status.idle": "2021-08-05T19:46:25.567555Z",
     "shell.execute_reply": "2021-08-05T19:46:25.566621Z",
     "shell.execute_reply.started": "2021-08-05T19:46:25.364894Z"
    }
   },
   "outputs": [
    {
     "name": "stdout",
     "output_type": "stream",
     "text": [
      "              precision    recall  f1-score   support\n",
      "\n",
      "           0       0.87      0.89      0.88     25971\n",
      "           1       0.86      0.89      0.87     26234\n",
      "           2       0.86      0.84      0.85     16672\n",
      "           3       0.87      0.81      0.83      8145\n",
      "           4       0.86      0.80      0.83      3879\n",
      "           5       0.86      0.79      0.82      1781\n",
      "           6       0.86      0.81      0.83       952\n",
      "           7       0.89      0.82      0.85       501\n",
      "           8       0.87      0.78      0.82       268\n",
      "           9       0.89      0.79      0.84       155\n",
      "          10       0.85      0.91      0.88        86\n",
      "          11       0.92      0.88      0.90        41\n",
      "          12       0.91      0.83      0.87        35\n",
      "          13       0.88      0.95      0.91        22\n",
      "          14       0.93      1.00      0.97        14\n",
      "\n",
      "    accuracy                           0.86     84756\n",
      "   macro avg       0.88      0.85      0.86     84756\n",
      "weighted avg       0.86      0.86      0.86     84756\n",
      "\n"
     ]
    }
   ],
   "source": [
    "#Classification Report to team 2 Score\n",
    "\n",
    "report_2=classification_report(Y.iloc[:,1],score_team_2)\n",
    "print(report_2)\n",
    "\n",
    "#Has a good Accuracy in predicting the team 1 Score#"
   ]
  },
  {
   "cell_type": "code",
   "execution_count": 37,
   "metadata": {
    "execution": {
     "iopub.execute_input": "2021-08-05T19:46:25.569375Z",
     "iopub.status.busy": "2021-08-05T19:46:25.568850Z",
     "iopub.status.idle": "2021-08-05T19:46:25.575587Z",
     "shell.execute_reply": "2021-08-05T19:46:25.574713Z",
     "shell.execute_reply.started": "2021-08-05T19:46:25.569336Z"
    }
   },
   "outputs": [],
   "source": [
    "#Fuction to Select the winning team for the prediction array\n",
    "\n",
    "def select_winning_team(probability_array):\n",
    "    prob_lst=[round(probability_array[0][i],3) for i in range(2)]\n",
    "    if (prob_lst[0]>prob_lst[1]):\n",
    "        out=0\n",
    "    elif (prob_lst[0]<prob_lst[1]):\n",
    "        out=1\n",
    "    elif (prob_lst[0]==prob_lst[1]):\n",
    "        out=2\n",
    "    return out,prob_lst"
   ]
  },
  {
   "cell_type": "code",
   "execution_count": 38,
   "metadata": {
    "execution": {
     "iopub.execute_input": "2021-08-05T19:46:25.577302Z",
     "iopub.status.busy": "2021-08-05T19:46:25.576935Z",
     "iopub.status.idle": "2021-08-05T19:46:25.590816Z",
     "shell.execute_reply": "2021-08-05T19:46:25.589622Z",
     "shell.execute_reply.started": "2021-08-05T19:46:25.577249Z"
    }
   },
   "outputs": [
    {
     "name": "stdout",
     "output_type": "stream",
     "text": [
      "Team 01 is Sri Lanka -280\n",
      "Team 02 is Brazil -39\n",
      "Played in  Qatar -236\n"
     ]
    }
   ],
   "source": [
    "#Sample Prediction\n",
    "\n",
    "mactch_played=2015\n",
    "team_1=\"Sri Lanka\"\n",
    "team_2=\"Brazil\"\n",
    "stadium=\"Qatar\"\n",
    "\n",
    "team_lst=[team_1,team_2]\n",
    "team_1_num=label_encoder.transform([team_1])[0]\n",
    "team_2_num=label_encoder.transform([team_2])[0]\n",
    "stadium_num=label_encoder.transform([stadium])[0]\n",
    "\n",
    "print(f\"Team 01 is {team_1} -{team_1_num}\")\n",
    "print(f\"Team 02 is {team_2} -{team_2_num}\")\n",
    "print(f\"Played in  {stadium} -{stadium_num}\")"
   ]
  },
  {
   "cell_type": "code",
   "execution_count": 39,
   "metadata": {
    "execution": {
     "iopub.execute_input": "2021-08-05T19:46:25.592696Z",
     "iopub.status.busy": "2021-08-05T19:46:25.592247Z",
     "iopub.status.idle": "2021-08-05T19:46:25.627525Z",
     "shell.execute_reply": "2021-08-05T19:46:25.626429Z",
     "shell.execute_reply.started": "2021-08-05T19:46:25.592655Z"
    }
   },
   "outputs": [
    {
     "name": "stdout",
     "output_type": "stream",
     "text": [
      "Sri Lanka vs Brazil \n",
      " Brazil wins 🏆⚽🎯\n",
      "\n"
     ]
    },
    {
     "name": "stderr",
     "output_type": "stream",
     "text": [
      "/home/fares/.local/lib/python3.9/site-packages/sklearn/base.py:450: UserWarning: X does not have valid feature names, but RandomForestClassifier was fitted with feature names\n",
      "  warnings.warn(\n",
      "/home/fares/.local/lib/python3.9/site-packages/sklearn/base.py:450: UserWarning: X does not have valid feature names, but RandomForestClassifier was fitted with feature names\n",
      "  warnings.warn(\n"
     ]
    }
   ],
   "source": [
    "#Sample Prediction Output\n",
    "\n",
    "X_feature=np.array([[mactch_played,stadium_num,team_1_num,team_2_num]])\n",
    "res=model.predict(X_feature)\n",
    "win,_=select_winning_team(res)\n",
    "try:\n",
    "    print(f\"{team_1} vs {team_2} \\n {team_lst[win]} wins 🏆⚽🎯\\n\")\n",
    "except IndexError:\n",
    "    print(f\"{team_1} vs {team_2} \\n  Match Draw ⚽⚽⚽\\n\") "
   ]
  },
  {
   "cell_type": "markdown",
   "metadata": {},
   "source": [
    "**FIFA WORLD CUP - 2022 -**\n",
    "\n",
    "I have selected 32 teams that has the maximum posibility to participate in FIFA World Cup 2022.\n",
    "These teams are selected accordingto the current world ranking and recently helg Euro Cup performances.\n",
    "\n",
    "Every team plays with evey one-else(League System).That means one team plays 63 matches.Then from the model I predict who is going to win the match.\n",
    "* Winning team gets 02 Point\n",
    "* Match draw (Both teams scored same number of goals)- both teams get 1 points each\n",
    "* Team Lost gets no points\n",
    "\n",
    "According this points system final winner will be selected"
   ]
  },
  {
   "cell_type": "markdown",
   "metadata": {
    "execution": {
     "iopub.execute_input": "2021-08-03T21:22:17.900718Z",
     "iopub.status.busy": "2021-08-03T21:22:17.900395Z",
     "iopub.status.idle": "2021-08-03T21:22:17.906136Z",
     "shell.execute_reply": "2021-08-03T21:22:17.904849Z",
     "shell.execute_reply.started": "2021-08-03T21:22:17.900689Z"
    }
   },
   "source": [
    "<img src= \"https://www.sinceindependence.com/wp-content/uploads/2019/12/fifa-world-cup-2022.jpg\" alt =\"Fifa\">"
   ]
  },
  {
   "cell_type": "code",
   "execution_count": 40,
   "metadata": {
    "execution": {
     "iopub.execute_input": "2021-08-05T19:46:25.629525Z",
     "iopub.status.busy": "2021-08-05T19:46:25.629113Z",
     "iopub.status.idle": "2021-08-05T19:46:25.642675Z",
     "shell.execute_reply": "2021-08-05T19:46:25.641815Z",
     "shell.execute_reply.started": "2021-08-05T19:46:25.629485Z"
    }
   },
   "outputs": [],
   "source": [
    "Group_A= [\"Uruguay\",\"Russia\",\"Saudi Arabia\",\"Egypt\"]\n",
    "Group_B= [\"Portugal\",\"Spain\",\"Morocco\",\"Iran\"]\n",
    "Group_C= [\"France\",\"Denmark\",\"Australia\",\"Peru\"]\n",
    "Group_D= [\"Argentina\",\"Croatia\",\"Iceland\",\"Nigeria\"]\n",
    "Group_E= [\"Brazil\",\"Switzerland\",\"Costa Rica\",\"Serbia\"]\n",
    "Group_F= [\"South Korea\",\"Mexico\",\"Sweden\",\"Germany\"]\n",
    "Group_G= [\"Belgium\",\"England\",\"Panama\",\"Tunisia\"]\n",
    "Group_H= [\"Senegal\",\"Japan\",\"Poland\",\"Colombia\"]\n",
    "Groups={\"Group A\":Group_A,\"Group B\":Group_B,\"Group C\":Group_C,\"Group D\":Group_D,\"Group E\":Group_E,\"Group F\":Group_F,\"Group G\":Group_G,\"Group H\":Group_H}"
   ]
  },
  {
   "cell_type": "code",
   "execution_count": 41,
   "metadata": {
    "execution": {
     "iopub.execute_input": "2021-08-05T19:46:25.646068Z",
     "iopub.status.busy": "2021-08-05T19:46:25.645011Z",
     "iopub.status.idle": "2021-08-05T19:46:25.653232Z",
     "shell.execute_reply": "2021-08-05T19:46:25.652403Z",
     "shell.execute_reply.started": "2021-08-05T19:46:25.646021Z"
    }
   },
   "outputs": [],
   "source": [
    "#Initialize basic parameters\n",
    "\n",
    "year=2022\n",
    "stadium=\"Qatar\"\n",
    "stadium_num=label_encoder.transform([stadium])[0]\n",
    "host_num=stadium_num"
   ]
  },
  {
   "cell_type": "code",
   "execution_count": 42,
   "metadata": {
    "execution": {
     "iopub.execute_input": "2021-08-05T19:46:25.657000Z",
     "iopub.status.busy": "2021-08-05T19:46:25.656619Z",
     "iopub.status.idle": "2021-08-05T19:46:26.784321Z",
     "shell.execute_reply": "2021-08-05T19:46:26.783296Z",
     "shell.execute_reply.started": "2021-08-05T19:46:25.656973Z"
    },
    "scrolled": true
   },
   "outputs": [
    {
     "name": "stderr",
     "output_type": "stream",
     "text": [
      "/home/fares/.local/lib/python3.9/site-packages/sklearn/base.py:450: UserWarning: X does not have valid feature names, but RandomForestClassifier was fitted with feature names\n",
      "  warnings.warn(\n"
     ]
    },
    {
     "name": "stdout",
     "output_type": "stream",
     "text": [
      "Group A Matches\n",
      " Uruguay vs Russia \n",
      "  Results of the Match [1 0]\n",
      "   Uruguay wins 🎊🏆⚽🎖️\n",
      "\n",
      "Uruguay vs Saudi Arabia \n",
      "  Results of the Match [0 0]\n",
      "   Match Draw ⚽⚽⚽\n",
      "\n",
      "Uruguay vs Egypt \n",
      "  Results of the Match [0 0]\n",
      "   Match Draw ⚽⚽⚽\n",
      "\n",
      "Russia vs Saudi Arabia \n",
      "  Results of the Match [1 1]\n",
      "   Match Draw ⚽⚽⚽\n",
      "\n",
      "Russia vs Egypt \n",
      "  Results of the Match [1 1]\n",
      "   Match Draw ⚽⚽⚽\n",
      "\n",
      "Saudi Arabia vs Egypt \n",
      "  Results of the Match [1 1]\n",
      "   Match Draw ⚽⚽⚽\n",
      "\n",
      "Group B Matches\n",
      "Portugal vs Spain \n",
      "  Results of the Match [1 1]\n",
      "   Match Draw ⚽⚽⚽\n",
      "\n",
      "Portugal vs Morocco \n",
      "  Results of the Match [1 1]\n",
      "   Match Draw ⚽⚽⚽\n",
      "\n"
     ]
    },
    {
     "name": "stderr",
     "output_type": "stream",
     "text": [
      "/home/fares/.local/lib/python3.9/site-packages/sklearn/base.py:450: UserWarning: X does not have valid feature names, but RandomForestClassifier was fitted with feature names\n",
      "  warnings.warn(\n",
      "/home/fares/.local/lib/python3.9/site-packages/sklearn/base.py:450: UserWarning: X does not have valid feature names, but RandomForestClassifier was fitted with feature names\n",
      "  warnings.warn(\n",
      "/home/fares/.local/lib/python3.9/site-packages/sklearn/base.py:450: UserWarning: X does not have valid feature names, but RandomForestClassifier was fitted with feature names\n",
      "  warnings.warn(\n",
      "/home/fares/.local/lib/python3.9/site-packages/sklearn/base.py:450: UserWarning: X does not have valid feature names, but RandomForestClassifier was fitted with feature names\n",
      "  warnings.warn(\n",
      "/home/fares/.local/lib/python3.9/site-packages/sklearn/base.py:450: UserWarning: X does not have valid feature names, but RandomForestClassifier was fitted with feature names\n",
      "  warnings.warn(\n",
      "/home/fares/.local/lib/python3.9/site-packages/sklearn/base.py:450: UserWarning: X does not have valid feature names, but RandomForestClassifier was fitted with feature names\n",
      "  warnings.warn(\n",
      "/home/fares/.local/lib/python3.9/site-packages/sklearn/base.py:450: UserWarning: X does not have valid feature names, but RandomForestClassifier was fitted with feature names\n",
      "  warnings.warn(\n",
      "/home/fares/.local/lib/python3.9/site-packages/sklearn/base.py:450: UserWarning: X does not have valid feature names, but RandomForestClassifier was fitted with feature names\n",
      "  warnings.warn(\n",
      "/home/fares/.local/lib/python3.9/site-packages/sklearn/base.py:450: UserWarning: X does not have valid feature names, but RandomForestClassifier was fitted with feature names\n",
      "  warnings.warn(\n",
      "/home/fares/.local/lib/python3.9/site-packages/sklearn/base.py:450: UserWarning: X does not have valid feature names, but RandomForestClassifier was fitted with feature names\n",
      "  warnings.warn(\n",
      "/home/fares/.local/lib/python3.9/site-packages/sklearn/base.py:450: UserWarning: X does not have valid feature names, but RandomForestClassifier was fitted with feature names\n",
      "  warnings.warn(\n",
      "/home/fares/.local/lib/python3.9/site-packages/sklearn/base.py:450: UserWarning: X does not have valid feature names, but RandomForestClassifier was fitted with feature names\n",
      "  warnings.warn(\n",
      "/home/fares/.local/lib/python3.9/site-packages/sklearn/base.py:450: UserWarning: X does not have valid feature names, but RandomForestClassifier was fitted with feature names\n",
      "  warnings.warn(\n",
      "/home/fares/.local/lib/python3.9/site-packages/sklearn/base.py:450: UserWarning: X does not have valid feature names, but RandomForestClassifier was fitted with feature names\n",
      "  warnings.warn(\n",
      "/home/fares/.local/lib/python3.9/site-packages/sklearn/base.py:450: UserWarning: X does not have valid feature names, but RandomForestClassifier was fitted with feature names\n",
      "  warnings.warn(\n",
      "/home/fares/.local/lib/python3.9/site-packages/sklearn/base.py:450: UserWarning: X does not have valid feature names, but RandomForestClassifier was fitted with feature names\n",
      "  warnings.warn(\n",
      "/home/fares/.local/lib/python3.9/site-packages/sklearn/base.py:450: UserWarning: X does not have valid feature names, but RandomForestClassifier was fitted with feature names\n",
      "  warnings.warn(\n",
      "/home/fares/.local/lib/python3.9/site-packages/sklearn/base.py:450: UserWarning: X does not have valid feature names, but RandomForestClassifier was fitted with feature names\n",
      "  warnings.warn(\n"
     ]
    },
    {
     "name": "stdout",
     "output_type": "stream",
     "text": [
      "Portugal vs Iran \n",
      "  Results of the Match [1 1]\n",
      "   Match Draw ⚽⚽⚽\n",
      "\n",
      "Spain vs Morocco \n",
      "  Results of the Match [1 1]\n",
      "   Match Draw ⚽⚽⚽\n",
      "\n",
      "Spain vs Iran \n",
      "  Results of the Match [1 1]\n",
      "   Match Draw ⚽⚽⚽\n",
      "\n",
      " Morocco vs Iran \n",
      "  Results of the Match [0 1]\n",
      "   Iran wins 🎊🏆⚽🎖️\n",
      "\n",
      "Group C Matches\n",
      " France vs Denmark \n",
      "  Results of the Match [0 1]\n",
      "   Denmark wins 🎊🏆⚽🎖️\n",
      "\n",
      "France vs Australia \n",
      "  Results of the Match [1 1]\n",
      "   Match Draw ⚽⚽⚽\n",
      "\n",
      " France vs Peru \n",
      "  Results of the Match [2 1]\n",
      "   France wins 🎊🏆⚽🎖️\n",
      "\n",
      "Denmark vs Australia \n",
      "  Results of the Match [1 1]\n",
      "   Match Draw ⚽⚽⚽\n",
      "\n",
      "Denmark vs Peru \n",
      "  Results of the Match [1 1]\n",
      "   Match Draw ⚽⚽⚽\n",
      "\n",
      "Australia vs Peru \n",
      "  Results of the Match [0 0]\n",
      "   Match Draw ⚽⚽⚽\n",
      "\n",
      "Group D Matches\n"
     ]
    },
    {
     "name": "stderr",
     "output_type": "stream",
     "text": [
      "/home/fares/.local/lib/python3.9/site-packages/sklearn/base.py:450: UserWarning: X does not have valid feature names, but RandomForestClassifier was fitted with feature names\n",
      "  warnings.warn(\n",
      "/home/fares/.local/lib/python3.9/site-packages/sklearn/base.py:450: UserWarning: X does not have valid feature names, but RandomForestClassifier was fitted with feature names\n",
      "  warnings.warn(\n",
      "/home/fares/.local/lib/python3.9/site-packages/sklearn/base.py:450: UserWarning: X does not have valid feature names, but RandomForestClassifier was fitted with feature names\n",
      "  warnings.warn(\n",
      "/home/fares/.local/lib/python3.9/site-packages/sklearn/base.py:450: UserWarning: X does not have valid feature names, but RandomForestClassifier was fitted with feature names\n",
      "  warnings.warn(\n",
      "/home/fares/.local/lib/python3.9/site-packages/sklearn/base.py:450: UserWarning: X does not have valid feature names, but RandomForestClassifier was fitted with feature names\n",
      "  warnings.warn(\n",
      "/home/fares/.local/lib/python3.9/site-packages/sklearn/base.py:450: UserWarning: X does not have valid feature names, but RandomForestClassifier was fitted with feature names\n",
      "  warnings.warn(\n",
      "/home/fares/.local/lib/python3.9/site-packages/sklearn/base.py:450: UserWarning: X does not have valid feature names, but RandomForestClassifier was fitted with feature names\n",
      "  warnings.warn(\n",
      "/home/fares/.local/lib/python3.9/site-packages/sklearn/base.py:450: UserWarning: X does not have valid feature names, but RandomForestClassifier was fitted with feature names\n",
      "  warnings.warn(\n",
      "/home/fares/.local/lib/python3.9/site-packages/sklearn/base.py:450: UserWarning: X does not have valid feature names, but RandomForestClassifier was fitted with feature names\n",
      "  warnings.warn(\n",
      "/home/fares/.local/lib/python3.9/site-packages/sklearn/base.py:450: UserWarning: X does not have valid feature names, but RandomForestClassifier was fitted with feature names\n",
      "  warnings.warn(\n",
      "/home/fares/.local/lib/python3.9/site-packages/sklearn/base.py:450: UserWarning: X does not have valid feature names, but RandomForestClassifier was fitted with feature names\n",
      "  warnings.warn(\n",
      "/home/fares/.local/lib/python3.9/site-packages/sklearn/base.py:450: UserWarning: X does not have valid feature names, but RandomForestClassifier was fitted with feature names\n",
      "  warnings.warn(\n",
      "/home/fares/.local/lib/python3.9/site-packages/sklearn/base.py:450: UserWarning: X does not have valid feature names, but RandomForestClassifier was fitted with feature names\n",
      "  warnings.warn(\n",
      "/home/fares/.local/lib/python3.9/site-packages/sklearn/base.py:450: UserWarning: X does not have valid feature names, but RandomForestClassifier was fitted with feature names\n",
      "  warnings.warn(\n",
      "/home/fares/.local/lib/python3.9/site-packages/sklearn/base.py:450: UserWarning: X does not have valid feature names, but RandomForestClassifier was fitted with feature names\n",
      "  warnings.warn(\n",
      "/home/fares/.local/lib/python3.9/site-packages/sklearn/base.py:450: UserWarning: X does not have valid feature names, but RandomForestClassifier was fitted with feature names\n",
      "  warnings.warn(\n",
      "/home/fares/.local/lib/python3.9/site-packages/sklearn/base.py:450: UserWarning: X does not have valid feature names, but RandomForestClassifier was fitted with feature names\n",
      "  warnings.warn(\n",
      "/home/fares/.local/lib/python3.9/site-packages/sklearn/base.py:450: UserWarning: X does not have valid feature names, but RandomForestClassifier was fitted with feature names\n",
      "  warnings.warn(\n",
      "/home/fares/.local/lib/python3.9/site-packages/sklearn/base.py:450: UserWarning: X does not have valid feature names, but RandomForestClassifier was fitted with feature names\n",
      "  warnings.warn(\n"
     ]
    },
    {
     "name": "stdout",
     "output_type": "stream",
     "text": [
      "Argentina vs Croatia \n",
      "  Results of the Match [0 0]\n",
      "   Match Draw ⚽⚽⚽\n",
      "\n"
     ]
    },
    {
     "name": "stderr",
     "output_type": "stream",
     "text": [
      "/home/fares/.local/lib/python3.9/site-packages/sklearn/base.py:450: UserWarning: X does not have valid feature names, but RandomForestClassifier was fitted with feature names\n",
      "  warnings.warn(\n",
      "/home/fares/.local/lib/python3.9/site-packages/sklearn/base.py:450: UserWarning: X does not have valid feature names, but RandomForestClassifier was fitted with feature names\n",
      "  warnings.warn(\n",
      "/home/fares/.local/lib/python3.9/site-packages/sklearn/base.py:450: UserWarning: X does not have valid feature names, but RandomForestClassifier was fitted with feature names\n",
      "  warnings.warn(\n",
      "/home/fares/.local/lib/python3.9/site-packages/sklearn/base.py:450: UserWarning: X does not have valid feature names, but RandomForestClassifier was fitted with feature names\n",
      "  warnings.warn(\n",
      "/home/fares/.local/lib/python3.9/site-packages/sklearn/base.py:450: UserWarning: X does not have valid feature names, but RandomForestClassifier was fitted with feature names\n",
      "  warnings.warn(\n",
      "/home/fares/.local/lib/python3.9/site-packages/sklearn/base.py:450: UserWarning: X does not have valid feature names, but RandomForestClassifier was fitted with feature names\n",
      "  warnings.warn(\n",
      "/home/fares/.local/lib/python3.9/site-packages/sklearn/base.py:450: UserWarning: X does not have valid feature names, but RandomForestClassifier was fitted with feature names\n",
      "  warnings.warn(\n",
      "/home/fares/.local/lib/python3.9/site-packages/sklearn/base.py:450: UserWarning: X does not have valid feature names, but RandomForestClassifier was fitted with feature names\n",
      "  warnings.warn(\n",
      "/home/fares/.local/lib/python3.9/site-packages/sklearn/base.py:450: UserWarning: X does not have valid feature names, but RandomForestClassifier was fitted with feature names\n",
      "  warnings.warn(\n",
      "/home/fares/.local/lib/python3.9/site-packages/sklearn/base.py:450: UserWarning: X does not have valid feature names, but RandomForestClassifier was fitted with feature names\n",
      "  warnings.warn(\n",
      "/home/fares/.local/lib/python3.9/site-packages/sklearn/base.py:450: UserWarning: X does not have valid feature names, but RandomForestClassifier was fitted with feature names\n",
      "  warnings.warn(\n",
      "/home/fares/.local/lib/python3.9/site-packages/sklearn/base.py:450: UserWarning: X does not have valid feature names, but RandomForestClassifier was fitted with feature names\n",
      "  warnings.warn(\n",
      "/home/fares/.local/lib/python3.9/site-packages/sklearn/base.py:450: UserWarning: X does not have valid feature names, but RandomForestClassifier was fitted with feature names\n",
      "  warnings.warn(\n",
      "/home/fares/.local/lib/python3.9/site-packages/sklearn/base.py:450: UserWarning: X does not have valid feature names, but RandomForestClassifier was fitted with feature names\n",
      "  warnings.warn(\n",
      "/home/fares/.local/lib/python3.9/site-packages/sklearn/base.py:450: UserWarning: X does not have valid feature names, but RandomForestClassifier was fitted with feature names\n",
      "  warnings.warn(\n",
      "/home/fares/.local/lib/python3.9/site-packages/sklearn/base.py:450: UserWarning: X does not have valid feature names, but RandomForestClassifier was fitted with feature names\n",
      "  warnings.warn(\n",
      "/home/fares/.local/lib/python3.9/site-packages/sklearn/base.py:450: UserWarning: X does not have valid feature names, but RandomForestClassifier was fitted with feature names\n",
      "  warnings.warn(\n"
     ]
    },
    {
     "name": "stdout",
     "output_type": "stream",
     "text": [
      " Argentina vs Iceland \n",
      "  Results of the Match [1 0]\n",
      "   Argentina wins 🎊🏆⚽🎖️\n",
      "\n",
      " Argentina vs Nigeria \n",
      "  Results of the Match [1 0]\n",
      "   Argentina wins 🎊🏆⚽🎖️\n",
      "\n",
      "Croatia vs Iceland \n",
      "  Results of the Match [1 1]\n",
      "   Match Draw ⚽⚽⚽\n",
      "\n",
      "Croatia vs Nigeria \n",
      "  Results of the Match [1 1]\n",
      "   Match Draw ⚽⚽⚽\n",
      "\n",
      " Iceland vs Nigeria \n",
      "  Results of the Match [0 2]\n",
      "   Nigeria wins 🎊🏆⚽🎖️\n",
      "\n",
      "Group E Matches\n",
      " Brazil vs Switzerland \n",
      "  Results of the Match [1 0]\n",
      "   Brazil wins 🎊🏆⚽🎖️\n",
      "\n",
      "Brazil vs Costa Rica \n",
      "  Results of the Match [0 0]\n",
      "   Match Draw ⚽⚽⚽\n",
      "\n",
      " Brazil vs Serbia \n",
      "  Results of the Match [1 0]\n",
      "   Brazil wins 🎊🏆⚽🎖️\n",
      "\n"
     ]
    },
    {
     "name": "stderr",
     "output_type": "stream",
     "text": [
      "/home/fares/.local/lib/python3.9/site-packages/sklearn/base.py:450: UserWarning: X does not have valid feature names, but RandomForestClassifier was fitted with feature names\n",
      "  warnings.warn(\n"
     ]
    },
    {
     "name": "stdout",
     "output_type": "stream",
     "text": [
      " Switzerland vs Costa Rica \n",
      "  Results of the Match [0 2]\n",
      "   Costa Rica wins 🎊🏆⚽🎖️\n",
      "\n"
     ]
    },
    {
     "name": "stderr",
     "output_type": "stream",
     "text": [
      "/home/fares/.local/lib/python3.9/site-packages/sklearn/base.py:450: UserWarning: X does not have valid feature names, but RandomForestClassifier was fitted with feature names\n",
      "  warnings.warn(\n",
      "/home/fares/.local/lib/python3.9/site-packages/sklearn/base.py:450: UserWarning: X does not have valid feature names, but RandomForestClassifier was fitted with feature names\n",
      "  warnings.warn(\n",
      "/home/fares/.local/lib/python3.9/site-packages/sklearn/base.py:450: UserWarning: X does not have valid feature names, but RandomForestClassifier was fitted with feature names\n",
      "  warnings.warn(\n",
      "/home/fares/.local/lib/python3.9/site-packages/sklearn/base.py:450: UserWarning: X does not have valid feature names, but RandomForestClassifier was fitted with feature names\n",
      "  warnings.warn(\n",
      "/home/fares/.local/lib/python3.9/site-packages/sklearn/base.py:450: UserWarning: X does not have valid feature names, but RandomForestClassifier was fitted with feature names\n",
      "  warnings.warn(\n",
      "/home/fares/.local/lib/python3.9/site-packages/sklearn/base.py:450: UserWarning: X does not have valid feature names, but RandomForestClassifier was fitted with feature names\n",
      "  warnings.warn(\n",
      "/home/fares/.local/lib/python3.9/site-packages/sklearn/base.py:450: UserWarning: X does not have valid feature names, but RandomForestClassifier was fitted with feature names\n",
      "  warnings.warn(\n",
      "/home/fares/.local/lib/python3.9/site-packages/sklearn/base.py:450: UserWarning: X does not have valid feature names, but RandomForestClassifier was fitted with feature names\n",
      "  warnings.warn(\n",
      "/home/fares/.local/lib/python3.9/site-packages/sklearn/base.py:450: UserWarning: X does not have valid feature names, but RandomForestClassifier was fitted with feature names\n",
      "  warnings.warn(\n",
      "/home/fares/.local/lib/python3.9/site-packages/sklearn/base.py:450: UserWarning: X does not have valid feature names, but RandomForestClassifier was fitted with feature names\n",
      "  warnings.warn(\n",
      "/home/fares/.local/lib/python3.9/site-packages/sklearn/base.py:450: UserWarning: X does not have valid feature names, but RandomForestClassifier was fitted with feature names\n",
      "  warnings.warn(\n",
      "/home/fares/.local/lib/python3.9/site-packages/sklearn/base.py:450: UserWarning: X does not have valid feature names, but RandomForestClassifier was fitted with feature names\n",
      "  warnings.warn(\n",
      "/home/fares/.local/lib/python3.9/site-packages/sklearn/base.py:450: UserWarning: X does not have valid feature names, but RandomForestClassifier was fitted with feature names\n",
      "  warnings.warn(\n",
      "/home/fares/.local/lib/python3.9/site-packages/sklearn/base.py:450: UserWarning: X does not have valid feature names, but RandomForestClassifier was fitted with feature names\n",
      "  warnings.warn(\n",
      "/home/fares/.local/lib/python3.9/site-packages/sklearn/base.py:450: UserWarning: X does not have valid feature names, but RandomForestClassifier was fitted with feature names\n",
      "  warnings.warn(\n"
     ]
    },
    {
     "name": "stdout",
     "output_type": "stream",
     "text": [
      " Switzerland vs Serbia \n",
      "  Results of the Match [2 1]\n",
      "   Switzerland wins 🎊🏆⚽🎖️\n",
      "\n",
      " Costa Rica vs Serbia \n",
      "  Results of the Match [0 1]\n",
      "   Serbia wins 🎊🏆⚽🎖️\n",
      "\n",
      "Group F Matches\n",
      "South Korea vs Mexico \n",
      "  Results of the Match [1 1]\n",
      "   Match Draw ⚽⚽⚽\n",
      "\n",
      " South Korea vs Sweden \n",
      "  Results of the Match [0 1]\n",
      "   Sweden wins 🎊🏆⚽🎖️\n",
      "\n",
      "South Korea vs Germany \n",
      "  Results of the Match [1 1]\n",
      "   Match Draw ⚽⚽⚽\n",
      "\n",
      " Mexico vs Sweden \n",
      "  Results of the Match [0 1]\n",
      "   Sweden wins 🎊🏆⚽🎖️\n",
      "\n",
      " Mexico vs Germany \n",
      "  Results of the Match [0 1]\n",
      "   Germany wins 🎊🏆⚽🎖️\n",
      "\n"
     ]
    },
    {
     "name": "stderr",
     "output_type": "stream",
     "text": [
      "/home/fares/.local/lib/python3.9/site-packages/sklearn/base.py:450: UserWarning: X does not have valid feature names, but RandomForestClassifier was fitted with feature names\n",
      "  warnings.warn(\n"
     ]
    },
    {
     "name": "stdout",
     "output_type": "stream",
     "text": [
      " Sweden vs Germany \n",
      "  Results of the Match [1 0]\n",
      "   Sweden wins 🎊🏆⚽🎖️\n",
      "\n",
      "Group G Matches\n"
     ]
    },
    {
     "name": "stderr",
     "output_type": "stream",
     "text": [
      "/home/fares/.local/lib/python3.9/site-packages/sklearn/base.py:450: UserWarning: X does not have valid feature names, but RandomForestClassifier was fitted with feature names\n",
      "  warnings.warn(\n",
      "/home/fares/.local/lib/python3.9/site-packages/sklearn/base.py:450: UserWarning: X does not have valid feature names, but RandomForestClassifier was fitted with feature names\n",
      "  warnings.warn(\n",
      "/home/fares/.local/lib/python3.9/site-packages/sklearn/base.py:450: UserWarning: X does not have valid feature names, but RandomForestClassifier was fitted with feature names\n",
      "  warnings.warn(\n",
      "/home/fares/.local/lib/python3.9/site-packages/sklearn/base.py:450: UserWarning: X does not have valid feature names, but RandomForestClassifier was fitted with feature names\n",
      "  warnings.warn(\n",
      "/home/fares/.local/lib/python3.9/site-packages/sklearn/base.py:450: UserWarning: X does not have valid feature names, but RandomForestClassifier was fitted with feature names\n",
      "  warnings.warn(\n",
      "/home/fares/.local/lib/python3.9/site-packages/sklearn/base.py:450: UserWarning: X does not have valid feature names, but RandomForestClassifier was fitted with feature names\n",
      "  warnings.warn(\n",
      "/home/fares/.local/lib/python3.9/site-packages/sklearn/base.py:450: UserWarning: X does not have valid feature names, but RandomForestClassifier was fitted with feature names\n",
      "  warnings.warn(\n",
      "/home/fares/.local/lib/python3.9/site-packages/sklearn/base.py:450: UserWarning: X does not have valid feature names, but RandomForestClassifier was fitted with feature names\n",
      "  warnings.warn(\n",
      "/home/fares/.local/lib/python3.9/site-packages/sklearn/base.py:450: UserWarning: X does not have valid feature names, but RandomForestClassifier was fitted with feature names\n",
      "  warnings.warn(\n",
      "/home/fares/.local/lib/python3.9/site-packages/sklearn/base.py:450: UserWarning: X does not have valid feature names, but RandomForestClassifier was fitted with feature names\n",
      "  warnings.warn(\n",
      "/home/fares/.local/lib/python3.9/site-packages/sklearn/base.py:450: UserWarning: X does not have valid feature names, but RandomForestClassifier was fitted with feature names\n",
      "  warnings.warn(\n",
      "/home/fares/.local/lib/python3.9/site-packages/sklearn/base.py:450: UserWarning: X does not have valid feature names, but RandomForestClassifier was fitted with feature names\n",
      "  warnings.warn(\n",
      "/home/fares/.local/lib/python3.9/site-packages/sklearn/base.py:450: UserWarning: X does not have valid feature names, but RandomForestClassifier was fitted with feature names\n",
      "  warnings.warn(\n",
      "/home/fares/.local/lib/python3.9/site-packages/sklearn/base.py:450: UserWarning: X does not have valid feature names, but RandomForestClassifier was fitted with feature names\n",
      "  warnings.warn(\n",
      "/home/fares/.local/lib/python3.9/site-packages/sklearn/base.py:450: UserWarning: X does not have valid feature names, but RandomForestClassifier was fitted with feature names\n",
      "  warnings.warn(\n",
      "/home/fares/.local/lib/python3.9/site-packages/sklearn/base.py:450: UserWarning: X does not have valid feature names, but RandomForestClassifier was fitted with feature names\n",
      "  warnings.warn(\n",
      "/home/fares/.local/lib/python3.9/site-packages/sklearn/base.py:450: UserWarning: X does not have valid feature names, but RandomForestClassifier was fitted with feature names\n",
      "  warnings.warn(\n",
      "/home/fares/.local/lib/python3.9/site-packages/sklearn/base.py:450: UserWarning: X does not have valid feature names, but RandomForestClassifier was fitted with feature names\n",
      "  warnings.warn(\n"
     ]
    },
    {
     "name": "stdout",
     "output_type": "stream",
     "text": [
      "Belgium vs England \n",
      "  Results of the Match [0 0]\n",
      "   Match Draw ⚽⚽⚽\n",
      "\n",
      "Belgium vs Panama \n",
      "  Results of the Match [0 0]\n",
      "   Match Draw ⚽⚽⚽\n",
      "\n",
      "Belgium vs Tunisia \n",
      "  Results of the Match [0 0]\n",
      "   Match Draw ⚽⚽⚽\n",
      "\n",
      " England vs Panama \n",
      "  Results of the Match [2 1]\n",
      "   England wins 🎊🏆⚽🎖️\n",
      "\n",
      " England vs Tunisia \n",
      "  Results of the Match [1 0]\n",
      "   England wins 🎊🏆⚽🎖️\n",
      "\n",
      " Panama vs Tunisia \n",
      "  Results of the Match [0 1]\n",
      "   Tunisia wins 🎊🏆⚽🎖️\n",
      "\n",
      "Group H Matches\n",
      "Senegal vs Japan \n",
      "  Results of the Match [1 1]\n",
      "   Match Draw ⚽⚽⚽\n",
      "\n",
      " Senegal vs Poland \n",
      "  Results of the Match [2 1]\n",
      "   Senegal wins 🎊🏆⚽🎖️\n",
      "\n",
      "Senegal vs Colombia \n",
      "  Results of the Match [1 1]\n",
      "   Match Draw ⚽⚽⚽\n",
      "\n"
     ]
    },
    {
     "name": "stderr",
     "output_type": "stream",
     "text": [
      "/home/fares/.local/lib/python3.9/site-packages/sklearn/base.py:450: UserWarning: X does not have valid feature names, but RandomForestClassifier was fitted with feature names\n",
      "  warnings.warn(\n"
     ]
    },
    {
     "name": "stdout",
     "output_type": "stream",
     "text": [
      " Japan vs Poland \n",
      "  Results of the Match [0 1]\n",
      "   Poland wins 🎊🏆⚽🎖️\n",
      "\n",
      "Japan vs Colombia \n",
      "  Results of the Match [1 1]\n",
      "   Match Draw ⚽⚽⚽\n",
      "\n",
      "Poland vs Colombia \n",
      "  Results of the Match [1 1]\n",
      "   Match Draw ⚽⚽⚽\n",
      "\n"
     ]
    },
    {
     "name": "stderr",
     "output_type": "stream",
     "text": [
      "/home/fares/.local/lib/python3.9/site-packages/sklearn/base.py:450: UserWarning: X does not have valid feature names, but RandomForestClassifier was fitted with feature names\n",
      "  warnings.warn(\n",
      "/home/fares/.local/lib/python3.9/site-packages/sklearn/base.py:450: UserWarning: X does not have valid feature names, but RandomForestClassifier was fitted with feature names\n",
      "  warnings.warn(\n",
      "/home/fares/.local/lib/python3.9/site-packages/sklearn/base.py:450: UserWarning: X does not have valid feature names, but RandomForestClassifier was fitted with feature names\n",
      "  warnings.warn(\n",
      "/home/fares/.local/lib/python3.9/site-packages/sklearn/base.py:450: UserWarning: X does not have valid feature names, but RandomForestClassifier was fitted with feature names\n",
      "  warnings.warn(\n",
      "/home/fares/.local/lib/python3.9/site-packages/sklearn/base.py:450: UserWarning: X does not have valid feature names, but RandomForestClassifier was fitted with feature names\n",
      "  warnings.warn(\n"
     ]
    }
   ],
   "source": [
    "##Group stage Matches\n",
    "\n",
    "Group_standings={}\n",
    "for grp_name in list(Groups.keys()):\n",
    "    print(f\"{grp_name} Matches\")\n",
    "    probable_countries=Groups[grp_name]\n",
    "    team_wins_dct={}\n",
    "    goal_scored_dct={}\n",
    "    goal_against_dct={}\n",
    "    win_dct={}\n",
    "    draw_dct={}\n",
    "    lost_dct={}\n",
    "    for i in range(len(probable_countries)):\n",
    "        j=i+1\n",
    "        team_1=probable_countries[i]\n",
    "        team_1_num=label_encoder.transform([team_1])[0]\n",
    "        team_wins=0\n",
    "        while j<len((probable_countries)):\n",
    "            team_2=probable_countries[j]\n",
    "            team_2_num=label_encoder.transform([team_2])[0]\n",
    "            team_lst=[team_1,team_2]\n",
    "            Input_vector=np.array([[year,stadium_num,team_1_num,team_2_num]])\n",
    "            res=model.predict(Input_vector)\n",
    "\n",
    "            win,prob_lst=select_winning_team(res)\n",
    "            goal_scored_dct[team_1] = goal_scored_dct.get(team_1,0)+prob_lst[0]\n",
    "            goal_scored_dct[team_2] = goal_scored_dct.get(team_2,0)+prob_lst[1]\n",
    "\n",
    "            goal_against_dct[team_1] = goal_against_dct.get(team_1,0)+prob_lst[1]\n",
    "            goal_against_dct[team_2] = goal_against_dct.get(team_2,0)+prob_lst[0]\n",
    "\n",
    "            try:\n",
    "                print(f\" {team_1} vs {team_2} \\n  Results of the Match {res[0]}\\n   {team_lst[win]} wins 🎊🏆⚽🎖️\\n\")\n",
    "                if (win)==0:\n",
    "                    team_wins_dct[team_1] = team_wins_dct.get(team_1,0)+2\n",
    "                    team_wins_dct[team_2] = team_wins_dct.get(team_2,0)\n",
    "                    \n",
    "                    win_dct[team_1] = win_dct.get(team_1,0)+1\n",
    "                    win_dct[team_2] = win_dct.get(team_2,0)\n",
    "                    lost_dct[team_2] = lost_dct.get(team_2,0)+1\n",
    "                    lost_dct[team_1] = lost_dct.get(team_1,0)\n",
    "                    draw_dct[team_2] = draw_dct.get(team_2,0)\n",
    "                    draw_dct[team_1] = draw_dct.get(team_1,0)\n",
    "\n",
    "                elif (win)==1:\n",
    "                    team_wins_dct[team_2] = team_wins_dct.get(team_2,0)+2\n",
    "                    team_wins_dct[team_1] = team_wins_dct.get(team_1,0)\n",
    "                    \n",
    "                    win_dct[team_2] = win_dct.get(team_2,0)+1\n",
    "                    win_dct[team_1] = win_dct.get(team_1,0)\n",
    "                    lost_dct[team_1] = lost_dct.get(team_1,0)+1\n",
    "                    lost_dct[team_2] = lost_dct.get(team_2,0)\n",
    "                    draw_dct[team_1] = draw_dct.get(team_1,0)\n",
    "                    draw_dct[team_2] = draw_dct.get(team_2,0)\n",
    "\n",
    "            except IndexError:\n",
    "                print(f\"{team_1} vs {team_2} \\n  Results of the Match {res[0]}\\n   Match Draw ⚽⚽⚽\\n\") \n",
    "                team_wins_dct[team_1] = team_wins_dct.get(team_1,0)+1\n",
    "                team_wins_dct[team_2] = team_wins_dct.get(team_2,0)+1\n",
    "                \n",
    "                draw_dct[team_1] = draw_dct.get(team_1,0)+1\n",
    "                draw_dct[team_2] = draw_dct.get(team_2,0)+1\n",
    "                \n",
    "                win_dct[team_1] = win_dct.get(team_1,0)\n",
    "                lost_dct[team_1] = lost_dct.get(team_1,0)\n",
    "                \n",
    "                win_dct[team_2] = win_dct.get(team_2,0)\n",
    "                lost_dct[team_2] = lost_dct.get(team_2,0)\n",
    "                    \n",
    "            j=j+1\n",
    "    group_results=[win_dct,draw_dct,lost_dct,team_wins_dct,goal_scored_dct,goal_against_dct]\n",
    "    Group_standings[grp_name]=group_results"
   ]
  },
  {
   "cell_type": "code",
   "execution_count": 43,
   "metadata": {
    "execution": {
     "iopub.execute_input": "2021-08-05T19:46:26.789310Z",
     "iopub.status.busy": "2021-08-05T19:46:26.789009Z",
     "iopub.status.idle": "2021-08-05T19:46:26.829744Z",
     "shell.execute_reply": "2021-08-05T19:46:26.828972Z",
     "shell.execute_reply.started": "2021-08-05T19:46:26.789282Z"
    },
    "scrolled": true
   },
   "outputs": [
    {
     "name": "stdout",
     "output_type": "stream",
     "text": [
      "\n",
      "\n",
      "Group A Final Rankings\n"
     ]
    },
    {
     "ename": "ImportError",
     "evalue": "Missing optional dependency 'tabulate'.  Use pip or conda to install tabulate.",
     "output_type": "error",
     "traceback": [
      "\u001b[0;31m---------------------------------------------------------------------------\u001b[0m",
      "\u001b[0;31mModuleNotFoundError\u001b[0m                       Traceback (most recent call last)",
      "File \u001b[0;32m~/.local/lib/python3.9/site-packages/pandas/compat/_optional.py:138\u001b[0m, in \u001b[0;36mimport_optional_dependency\u001b[0;34m(name, extra, errors, min_version)\u001b[0m\n\u001b[1;32m    137\u001b[0m \u001b[38;5;28;01mtry\u001b[39;00m:\n\u001b[0;32m--> 138\u001b[0m     module \u001b[38;5;241m=\u001b[39m \u001b[43mimportlib\u001b[49m\u001b[38;5;241;43m.\u001b[39;49m\u001b[43mimport_module\u001b[49m\u001b[43m(\u001b[49m\u001b[43mname\u001b[49m\u001b[43m)\u001b[49m\n\u001b[1;32m    139\u001b[0m \u001b[38;5;28;01mexcept\u001b[39;00m \u001b[38;5;167;01mImportError\u001b[39;00m:\n",
      "File \u001b[0;32m/usr/lib/python3.9/importlib/__init__.py:127\u001b[0m, in \u001b[0;36mimport_module\u001b[0;34m(name, package)\u001b[0m\n\u001b[1;32m    126\u001b[0m         level \u001b[38;5;241m+\u001b[39m\u001b[38;5;241m=\u001b[39m \u001b[38;5;241m1\u001b[39m\n\u001b[0;32m--> 127\u001b[0m \u001b[38;5;28;01mreturn\u001b[39;00m \u001b[43m_bootstrap\u001b[49m\u001b[38;5;241;43m.\u001b[39;49m\u001b[43m_gcd_import\u001b[49m\u001b[43m(\u001b[49m\u001b[43mname\u001b[49m\u001b[43m[\u001b[49m\u001b[43mlevel\u001b[49m\u001b[43m:\u001b[49m\u001b[43m]\u001b[49m\u001b[43m,\u001b[49m\u001b[43m \u001b[49m\u001b[43mpackage\u001b[49m\u001b[43m,\u001b[49m\u001b[43m \u001b[49m\u001b[43mlevel\u001b[49m\u001b[43m)\u001b[49m\n",
      "File \u001b[0;32m<frozen importlib._bootstrap>:1030\u001b[0m, in \u001b[0;36m_gcd_import\u001b[0;34m(name, package, level)\u001b[0m\n",
      "File \u001b[0;32m<frozen importlib._bootstrap>:1007\u001b[0m, in \u001b[0;36m_find_and_load\u001b[0;34m(name, import_)\u001b[0m\n",
      "File \u001b[0;32m<frozen importlib._bootstrap>:984\u001b[0m, in \u001b[0;36m_find_and_load_unlocked\u001b[0;34m(name, import_)\u001b[0m\n",
      "\u001b[0;31mModuleNotFoundError\u001b[0m: No module named 'tabulate'",
      "\nDuring handling of the above exception, another exception occurred:\n",
      "\u001b[0;31mImportError\u001b[0m                               Traceback (most recent call last)",
      "Input \u001b[0;32mIn [43]\u001b[0m, in \u001b[0;36m<cell line: 3>\u001b[0;34m()\u001b[0m\n\u001b[1;32m     25\u001b[0m ranking_table\u001b[38;5;241m.\u001b[39mindex \u001b[38;5;241m=\u001b[39m ranking_table\u001b[38;5;241m.\u001b[39mindex \u001b[38;5;241m+\u001b[39m \u001b[38;5;241m1\u001b[39m\n\u001b[1;32m     26\u001b[0m \u001b[38;5;28mprint\u001b[39m(\u001b[38;5;124mf\u001b[39m\u001b[38;5;124m\"\u001b[39m\u001b[38;5;130;01m\\n\u001b[39;00m\u001b[38;5;130;01m\\n\u001b[39;00m\u001b[38;5;132;01m{\u001b[39;00mgrp_name\u001b[38;5;132;01m}\u001b[39;00m\u001b[38;5;124m Final Rankings\u001b[39m\u001b[38;5;124m\"\u001b[39m)\n\u001b[0;32m---> 27\u001b[0m \u001b[38;5;28mprint\u001b[39m(\u001b[43mranking_table\u001b[49m\u001b[38;5;241;43m.\u001b[39;49m\u001b[43mto_markdown\u001b[49m\u001b[43m(\u001b[49m\u001b[43m)\u001b[49m)\n",
      "File \u001b[0;32m~/.local/lib/python3.9/site-packages/pandas/core/frame.py:2728\u001b[0m, in \u001b[0;36mDataFrame.to_markdown\u001b[0;34m(self, buf, mode, index, storage_options, **kwargs)\u001b[0m\n\u001b[1;32m   2726\u001b[0m kwargs\u001b[38;5;241m.\u001b[39msetdefault(\u001b[38;5;124m\"\u001b[39m\u001b[38;5;124mtablefmt\u001b[39m\u001b[38;5;124m\"\u001b[39m, \u001b[38;5;124m\"\u001b[39m\u001b[38;5;124mpipe\u001b[39m\u001b[38;5;124m\"\u001b[39m)\n\u001b[1;32m   2727\u001b[0m kwargs\u001b[38;5;241m.\u001b[39msetdefault(\u001b[38;5;124m\"\u001b[39m\u001b[38;5;124mshowindex\u001b[39m\u001b[38;5;124m\"\u001b[39m, index)\n\u001b[0;32m-> 2728\u001b[0m tabulate \u001b[38;5;241m=\u001b[39m \u001b[43mimport_optional_dependency\u001b[49m\u001b[43m(\u001b[49m\u001b[38;5;124;43m\"\u001b[39;49m\u001b[38;5;124;43mtabulate\u001b[39;49m\u001b[38;5;124;43m\"\u001b[39;49m\u001b[43m)\u001b[49m\n\u001b[1;32m   2729\u001b[0m result \u001b[38;5;241m=\u001b[39m tabulate\u001b[38;5;241m.\u001b[39mtabulate(\u001b[38;5;28mself\u001b[39m, \u001b[38;5;241m*\u001b[39m\u001b[38;5;241m*\u001b[39mkwargs)\n\u001b[1;32m   2730\u001b[0m \u001b[38;5;28;01mif\u001b[39;00m buf \u001b[38;5;129;01mis\u001b[39;00m \u001b[38;5;28;01mNone\u001b[39;00m:\n",
      "File \u001b[0;32m~/.local/lib/python3.9/site-packages/pandas/compat/_optional.py:141\u001b[0m, in \u001b[0;36mimport_optional_dependency\u001b[0;34m(name, extra, errors, min_version)\u001b[0m\n\u001b[1;32m    139\u001b[0m \u001b[38;5;28;01mexcept\u001b[39;00m \u001b[38;5;167;01mImportError\u001b[39;00m:\n\u001b[1;32m    140\u001b[0m     \u001b[38;5;28;01mif\u001b[39;00m errors \u001b[38;5;241m==\u001b[39m \u001b[38;5;124m\"\u001b[39m\u001b[38;5;124mraise\u001b[39m\u001b[38;5;124m\"\u001b[39m:\n\u001b[0;32m--> 141\u001b[0m         \u001b[38;5;28;01mraise\u001b[39;00m \u001b[38;5;167;01mImportError\u001b[39;00m(msg)\n\u001b[1;32m    142\u001b[0m     \u001b[38;5;28;01melse\u001b[39;00m:\n\u001b[1;32m    143\u001b[0m         \u001b[38;5;28;01mreturn\u001b[39;00m \u001b[38;5;28;01mNone\u001b[39;00m\n",
      "\u001b[0;31mImportError\u001b[0m: Missing optional dependency 'tabulate'.  Use pip or conda to install tabulate."
     ]
    }
   ],
   "source": [
    "#Display group stage results\n",
    "\n",
    "for grp_name in list(Group_standings.keys()):\n",
    "\n",
    "    team_wins_dct= dict(sorted(Group_standings[grp_name][3].items()))\n",
    "    goal_scored_dct=dict(sorted(Group_standings[grp_name][4].items()))\n",
    "    goal_against_dct=dict(sorted(Group_standings[grp_name][5].items()))\n",
    "    \n",
    "    win_dct=dict(sorted(Group_standings[grp_name][0].items()))\n",
    "    draw_dct=dict(sorted(Group_standings[grp_name][1].items()))\n",
    "    lost_dct=dict(sorted(Group_standings[grp_name][2].items()))\n",
    "    \n",
    "    lst_teams=list(team_wins_dct.keys())\n",
    "    \n",
    "    win_lst=list(win_dct.values())\n",
    "    draw_lst=list(draw_dct.values())\n",
    "    lost_lst=list(lost_dct.values())\n",
    "    \n",
    "    lst_win_count=list(team_wins_dct.values())\n",
    "    goal_scored=list(goal_scored_dct.values())\n",
    "    goal_against=list(goal_against_dct.values())\n",
    "    goal_differance=[goal_scored[i]-goal_against[i] for i in range (len(goal_scored))]\n",
    "    ranking_table=pd.DataFrame(list(zip(lst_teams,win_lst,draw_lst,lost_lst,goal_scored,goal_against,goal_differance,lst_win_count)),columns=[\"Team\",\"Wins\",\"Draw\",\"Lost\",\"Goal Scored\",\"Goal Against\",\"Goal Differance\",\"Points\"])\n",
    "    ranking_table=ranking_table.sort_values(\"Points\",ascending=False).reset_index(drop=True)\n",
    "    ranking_table.index = ranking_table.index + 1\n",
    "    print(f\"\\n\\n{grp_name} Final Rankings\")\n",
    "    print(ranking_table.to_markdown())\n",
    "    "
   ]
  },
  {
   "cell_type": "code",
   "execution_count": null,
   "metadata": {
    "execution": {
     "iopub.execute_input": "2021-08-05T19:46:26.831523Z",
     "iopub.status.busy": "2021-08-05T19:46:26.831181Z",
     "iopub.status.idle": "2021-08-05T19:46:27.060786Z",
     "shell.execute_reply": "2021-08-05T19:46:27.059969Z",
     "shell.execute_reply.started": "2021-08-05T19:46:26.831488Z"
    }
   },
   "outputs": [],
   "source": [
    "##Round of 16 Section_1\n",
    "\n",
    "qualified_teams_1=[]\n",
    "standings=list(Group_standings.keys())\n",
    "i=0\n",
    "print(f\"Round of 16\\n\")\n",
    "while i < (len(standings)):\n",
    "    A_team= sorted(Group_standings[standings[i]][3].items(), key=lambda x: x[1], reverse=True)\n",
    "    team_1=A_team[0][0]\n",
    "    B_team= sorted(Group_standings[standings[i+1]][3].items(), key=lambda x: x[1], reverse=True)\n",
    "    team_2=B_team[1][0]\n",
    "    \n",
    "    team_1_num=label_encoder.transform([team_1])[0]\n",
    "    team_2_num=label_encoder.transform([team_2])[0]\n",
    "    team_lst=[team_1,team_2]\n",
    "    \n",
    "    Input_vector=np.array([[year,host_num,team_1_num,team_2_num]])\n",
    "    res=model.predict(Input_vector)\n",
    "    win,_=select_winning_team(res)\n",
    "\n",
    "    try:\n",
    "            print(f\"{team_1} vs {team_2} \\n  {team_lst[win]} wins 🏆🏆\")\n",
    "            print(f\"    {team_lst[win]} into the Quater-Finals ⏩⏩ \\n\")\n",
    "            qualified_teams_1.append(team_lst[win])\n",
    "    except IndexError:\n",
    "            print(f\"{team_1} vs {team_2} \\n  Match Draw ⚽⚽\") \n",
    "            winning_team=random.choice(team_lst)\n",
    "            print(f\"   {winning_team} wins at Penaly Shoot-Out 🥅🎯\")\n",
    "            print(f\"    {winning_team} into the Quater-Finals ⏩⏩ \\n\")\n",
    "            qualified_teams_1.append(winning_team)\n",
    "    i=i+2\n",
    "    \n",
    "##Round of 16 Section_2\n",
    "qualified_teams_2=[]\n",
    "standings=list(Group_standings.keys())\n",
    "i=0\n",
    "while i < (len(standings)):\n",
    "    A_team= sorted(Group_standings[standings[i]][3].items(), key=lambda x: x[1], reverse=True)\n",
    "    team_1=A_team[1][0]\n",
    "    B_team= sorted(Group_standings[standings[i+1]][3].items(), key=lambda x: x[1], reverse=True)\n",
    "    team_2=B_team[0][0]\n",
    "    \n",
    "    team_1_num=label_encoder.transform([team_1])[0]\n",
    "    team_2_num=label_encoder.transform([team_2])[0]\n",
    "    team_lst=[team_1,team_2]\n",
    "    \n",
    "    Input_vector=np.array([[year,host_num,team_1_num,team_2_num]])\n",
    "    res=model.predict(Input_vector)\n",
    "    win,_=select_winning_team(res)\n",
    "\n",
    "    try:\n",
    "            print(f\"{team_1} vs {team_2} \\n  {team_lst[win]} wins 🏆🏆\")\n",
    "            print(f\"    {team_lst[win]} into the Quater-Finals ⏩⏩ \\n\")\n",
    "            qualified_teams_2.append(team_lst[win])\n",
    "            \n",
    "    except IndexError:\n",
    "            print(f\"{team_1} vs {team_2} \\n  Match Draw ⚽⚽\") \n",
    "            winning_team=random.choice(team_lst)\n",
    "            print(f\"   {winning_team} wins at Penaly Shoot-Out 🥅🎯\")\n",
    "            print(f\"    {winning_team} into the Quater-Finals ⏩⏩ \\n\")\n",
    "            qualified_teams_2.append(winning_team)\n",
    "    i=i+2"
   ]
  },
  {
   "cell_type": "code",
   "execution_count": null,
   "metadata": {
    "execution": {
     "iopub.execute_input": "2021-08-05T19:46:27.063891Z",
     "iopub.status.busy": "2021-08-05T19:46:27.063640Z",
     "iopub.status.idle": "2021-08-05T19:46:27.071095Z",
     "shell.execute_reply": "2021-08-05T19:46:27.070307Z",
     "shell.execute_reply.started": "2021-08-05T19:46:27.063865Z"
    }
   },
   "outputs": [],
   "source": [
    "print(f\"Teams selected to the Quater Finals - {qualified_teams_1+qualified_teams_2}\")"
   ]
  },
  {
   "cell_type": "code",
   "execution_count": null,
   "metadata": {
    "execution": {
     "iopub.execute_input": "2021-08-05T19:46:27.072877Z",
     "iopub.status.busy": "2021-08-05T19:46:27.072479Z",
     "iopub.status.idle": "2021-08-05T19:46:27.190076Z",
     "shell.execute_reply": "2021-08-05T19:46:27.189320Z",
     "shell.execute_reply.started": "2021-08-05T19:46:27.072838Z"
    }
   },
   "outputs": [],
   "source": [
    "#Quarter Finals\n",
    "\n",
    "Semifinal_teams=[]\n",
    "i=0\n",
    "print(f\"Quater Final Matches\\n\")\n",
    "while i < (len(qualified_teams_1))-1:\n",
    "    team_1= qualified_teams_1[i]\n",
    "    team_2= qualified_teams_1[i+1]\n",
    "    \n",
    "    team_1_num=label_encoder.transform([team_1])[0]\n",
    "    team_2_num=label_encoder.transform([team_2])[0]\n",
    "    team_lst=[team_1,team_2]\n",
    "    \n",
    "    Input_vector=np.array([[year,host_num,team_1_num,team_2_num]])\n",
    "    res=model.predict(Input_vector)\n",
    "    win,_=select_winning_team(res)\n",
    "\n",
    "    try:\n",
    "            print(f\"{team_1} vs {team_2} \\n  {team_lst[win]} wins 🏆🏆\")\n",
    "            print(f\"    {team_lst[win]} into the Semi-Finals ⏩⏩ \\n\")\n",
    "            Semifinal_teams.append(team_lst[win])\n",
    "            \n",
    "    except IndexError:\n",
    "            print(f\"{team_1} vs {team_2} \\n  Match Draw ⚽⚽\")\n",
    "            winning_team=random.choice(team_lst)\n",
    "            print(f\"   {winning_team} wins at Penaly Shoot-Out 🥅🎯\")\n",
    "            print(f\"    {winning_team} into the Semi-Finals ⏩⏩ \\n\")\n",
    "            Semifinal_teams.append(winning_team)\n",
    "    i=i+2\n",
    "    \n",
    "i=0\n",
    "while i < (len(qualified_teams_2))-1:\n",
    "    team_1= qualified_teams_2[i]\n",
    "    team_2= qualified_teams_2[i+1]\n",
    "    team_1_num=label_encoder.transform([team_1])[0]\n",
    "    team_2_num=label_encoder.transform([team_2])[0]\n",
    "    team_lst=[team_1,team_2]\n",
    "    \n",
    "    Input_vector=np.array([[year,host_num,team_1_num,team_2_num]])\n",
    "    res=model.predict(Input_vector)\n",
    "    win,_=select_winning_team(res)\n",
    "\n",
    "    try:\n",
    "            print(f\"{team_1} vs {team_2} \\n  {team_lst[win]} wins 🏆🏆\")\n",
    "            print(f\"    {team_lst[win]} into the Semi-Finals ⏩⏩ \\n\")\n",
    "            Semifinal_teams.append(team_lst[win])\n",
    "            \n",
    "    except IndexError:\n",
    "            print(f\"{team_1} vs {team_2} \\n  Match Draw ⚽⚽\") \n",
    "            winning_team=random.choice(team_lst)\n",
    "            print(f\"   {winning_team} wins at Penaly Shoot-Out 🥅🎯\")\n",
    "            print(f\"    {winning_team} into the Semi-Finals ⏩⏩ \\n\")\n",
    "            Semifinal_teams.append(winning_team)\n",
    "    i=i+2"
   ]
  },
  {
   "cell_type": "code",
   "execution_count": null,
   "metadata": {
    "execution": {
     "iopub.execute_input": "2021-08-05T19:46:27.191657Z",
     "iopub.status.busy": "2021-08-05T19:46:27.191331Z",
     "iopub.status.idle": "2021-08-05T19:46:27.196666Z",
     "shell.execute_reply": "2021-08-05T19:46:27.195724Z",
     "shell.execute_reply.started": "2021-08-05T19:46:27.191621Z"
    }
   },
   "outputs": [],
   "source": [
    "print(f\"Teams selected to the Semi-Finals - {Semifinal_teams}\")"
   ]
  },
  {
   "cell_type": "code",
   "execution_count": null,
   "metadata": {
    "execution": {
     "iopub.execute_input": "2021-08-05T19:46:27.198511Z",
     "iopub.status.busy": "2021-08-05T19:46:27.198057Z",
     "iopub.status.idle": "2021-08-05T19:46:27.263163Z",
     "shell.execute_reply": "2021-08-05T19:46:27.262196Z",
     "shell.execute_reply.started": "2021-08-05T19:46:27.198474Z"
    }
   },
   "outputs": [],
   "source": [
    "#Semi Finals\n",
    "\n",
    "final_teams=[]\n",
    "third_place_match_teams=[]\n",
    "i=0\n",
    "print(f\"Semi Final Matches\\n\")\n",
    "while i < (len(Semifinal_teams))-1:\n",
    "    team_1= Semifinal_teams[i]\n",
    "    team_2= Semifinal_teams[i+1]\n",
    "    \n",
    "    team_1_num=label_encoder.transform([team_1])[0]\n",
    "    team_2_num=label_encoder.transform([team_2])[0]\n",
    "    team_lst=[team_1,team_2]\n",
    "    \n",
    "    Input_vector=np.array([[year,host_num,team_1_num,team_2_num]])\n",
    "    res=model.predict(Input_vector)\n",
    "    win,_=select_winning_team(res)\n",
    "\n",
    "    try:\n",
    "            print(f\"{team_1} vs {team_2} \\n  {team_lst[win]} wins 🏆🏆\")\n",
    "            print(f\"    {team_lst[win]} into the FiIFA-Finals ⏩⏩ \\n\")\n",
    "            final_teams.append(team_lst[win])\n",
    "            third_place_match_teams.append(team_lst[(win+1)%2])\n",
    "\n",
    "            \n",
    "    except IndexError:\n",
    "            print(f\"{team_1} vs {team_2} \\n  Match Draw ⚽⚽\") \n",
    "            winning_team=random.choice(team_lst)\n",
    "            print(f\"   {winning_team} wins at Penaly Shoot-Out 🥅🎯\")\n",
    "            print(f\"    {winning_team} into the FIFA-Finals ⏩⏩ \\n\")\n",
    "            final_teams.append(winning_team)\n",
    "            team_lst.remove(winning_team)\n",
    "            third_place_match_teams.append(team_lst[0])\n",
    "    i=i+2\n",
    "    "
   ]
  },
  {
   "cell_type": "code",
   "execution_count": null,
   "metadata": {
    "execution": {
     "iopub.execute_input": "2021-08-05T19:46:27.264724Z",
     "iopub.status.busy": "2021-08-05T19:46:27.264389Z",
     "iopub.status.idle": "2021-08-05T19:46:27.269586Z",
     "shell.execute_reply": "2021-08-05T19:46:27.268658Z",
     "shell.execute_reply.started": "2021-08-05T19:46:27.264689Z"
    }
   },
   "outputs": [],
   "source": [
    "print(f\"Teams selected to the Finals - {final_teams}\")\n",
    "print(f\"Teams selected to the Third Place match - {third_place_match_teams}\")"
   ]
  },
  {
   "cell_type": "code",
   "execution_count": null,
   "metadata": {
    "execution": {
     "iopub.execute_input": "2021-08-05T19:46:27.271314Z",
     "iopub.status.busy": "2021-08-05T19:46:27.270955Z",
     "iopub.status.idle": "2021-08-05T19:46:27.329939Z",
     "shell.execute_reply": "2021-08-05T19:46:27.328963Z",
     "shell.execute_reply.started": "2021-08-05T19:46:27.271247Z"
    }
   },
   "outputs": [],
   "source": [
    "#Finals and Third Place match\n",
    "\n",
    "print(f\"FiIFA FINAl\\n\")\n",
    "team_1= final_teams[1]\n",
    "team_2= final_teams[0]\n",
    "    \n",
    "team_1_num=label_encoder.transform([team_1])[0]\n",
    "team_2_num=label_encoder.transform([team_2])[0]\n",
    "team_lst=[team_1,team_2]\n",
    "    \n",
    "Input_vector=np.array([[year,host_num,team_1_num,team_2_num]])\n",
    "res=model.predict(Input_vector)\n",
    "win,_=select_winning_team(res)\n",
    "\n",
    "try:\n",
    "    print(f\"{team_1} vs {team_2} \\n  {team_lst[win]} are the Winners 🎉🏆🎉\\n\\n\")\n",
    "    winner=team_lst[win]\n",
    "    place_2=team_lst[(win+1)%2]\n",
    "            \n",
    "except IndexError:\n",
    "    print(f\"{team_1} vs {team_2} \\n  Match Draw ⚽⚽\") \n",
    "    winning_team=random.choice(team_lst)\n",
    "    print(f\"   {winning_team} wins at Penaly Shoot-Out 🥅🎯\")\n",
    "    print(f\"    {winning_team} are the Winners 🎉🏆🎉\\n\\n\")\n",
    "    winner=winning_team\n",
    "    \n",
    "    team_lst.remove(winning_team)\n",
    "    place_2=team_lst[0]\n",
    "\n",
    "print(f\"Third Place match\\n\")\n",
    "team_1= third_place_match_teams[1]\n",
    "team_2= third_place_match_teams[0]\n",
    "    \n",
    "team_1_num=label_encoder.transform([team_1])[0]\n",
    "team_2_num=label_encoder.transform([team_2])[0]\n",
    "team_lst=[team_1,team_2]\n",
    "    \n",
    "Input_vector=np.array([[year,host_num,team_1_num,team_2_num]])\n",
    "res=model.predict(Input_vector)\n",
    "win,_=select_winning_team(res)\n",
    "\n",
    "try:\n",
    "    print(f\"{team_1} vs {team_2} \\n  {team_lst[win]} Wins the 3rd Place 🎉🏆🎉\\n\")\n",
    "    place_3=team_lst[win]\n",
    "            \n",
    "except IndexError:\n",
    "    print(f\"{team_1} vs {team_2} \\n  Match Draw ⚽⚽\") \n",
    "    winning_team=random.choice(team_lst)\n",
    "    print(f\"   {winning_team} wins at Penaly Shoot-Out 🥅🎯\")\n",
    "    print(f\"    {winning_team} Wins the 3rd Place 🎉🏆🎉\\n\")\n",
    "    place_3=winning_team\n",
    "    \n",
    "\n",
    "    \n",
    "print(f\"\\n\\nWinner is {winner} 🥇🥇🥇\")\n",
    "print(f\"Runner-up is {place_2} 🥈🥈🥈\")\n",
    "print(f\"3rd Place is {place_3} 🥉🥉🥉\")"
   ]
  },
  {
   "cell_type": "markdown",
   "metadata": {
    "execution": {
     "iopub.execute_input": "2021-08-03T21:14:13.990179Z",
     "iopub.status.busy": "2021-08-03T21:14:13.989833Z",
     "iopub.status.idle": "2021-08-03T21:14:13.995223Z",
     "shell.execute_reply": "2021-08-03T21:14:13.994085Z",
     "shell.execute_reply.started": "2021-08-03T21:14:13.990149Z"
    }
   },
   "source": [
    "<img src= \"https://images.indianexpress.com/2020/10/fifa-world-cup-trophy.jpg\" alt =\"Wining Moment\">"
   ]
  },
  {
   "cell_type": "code",
   "execution_count": null,
   "metadata": {},
   "outputs": [],
   "source": []
  }
 ],
 "metadata": {
  "kernelspec": {
   "display_name": "Python 3 (ipykernel)",
   "language": "python",
   "name": "python3"
  },
  "language_info": {
   "codemirror_mode": {
    "name": "ipython",
    "version": 3
   },
   "file_extension": ".py",
   "mimetype": "text/x-python",
   "name": "python",
   "nbconvert_exporter": "python",
   "pygments_lexer": "ipython3",
   "version": "3.9.7"
  }
 },
 "nbformat": 4,
 "nbformat_minor": 4
}
